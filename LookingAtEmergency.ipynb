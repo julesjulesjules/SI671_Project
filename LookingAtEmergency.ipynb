{
 "cells": [
  {
   "cell_type": "code",
   "execution_count": 1,
   "metadata": {},
   "outputs": [],
   "source": [
    "import pandas as pd\n",
    "import datetime\n",
    "\n",
    "import numpy as np\n",
    "import matplotlib.pylab as plt\n",
    "%matplotlib inline\n",
    "from matplotlib.pylab import rcParams\n",
    "rcParams['figure.figsize'] = 15, 6"
   ]
  },
  {
   "cell_type": "code",
   "execution_count": 2,
   "metadata": {},
   "outputs": [
    {
     "data": {
      "text/html": [
       "<div>\n",
       "<style scoped>\n",
       "    .dataframe tbody tr th:only-of-type {\n",
       "        vertical-align: middle;\n",
       "    }\n",
       "\n",
       "    .dataframe tbody tr th {\n",
       "        vertical-align: top;\n",
       "    }\n",
       "\n",
       "    .dataframe thead th {\n",
       "        text-align: right;\n",
       "    }\n",
       "</style>\n",
       "<table border=\"1\" class=\"dataframe\">\n",
       "  <thead>\n",
       "    <tr style=\"text-align: right;\">\n",
       "      <th></th>\n",
       "      <th>SUBJECT_ID</th>\n",
       "      <th>HADM_ID</th>\n",
       "      <th>ADMITTIME</th>\n",
       "      <th>DISCHTIME</th>\n",
       "      <th>DEATHTIME</th>\n",
       "      <th>ADMISSION_TYPE</th>\n",
       "      <th>EDREGTIME</th>\n",
       "      <th>EDOUTTIME</th>\n",
       "      <th>DIAGNOSIS</th>\n",
       "      <th>DIAG.ICD9_CODE</th>\n",
       "      <th>DIAG.SEQ_NUM</th>\n",
       "    </tr>\n",
       "  </thead>\n",
       "  <tbody>\n",
       "    <tr>\n",
       "      <th>0</th>\n",
       "      <td>109</td>\n",
       "      <td>172335</td>\n",
       "      <td>2141-09-18 10:32:00</td>\n",
       "      <td>2141-09-24 13:53:00</td>\n",
       "      <td>NaN</td>\n",
       "      <td>EMERGENCY</td>\n",
       "      <td>2141-09-18 07:06:00</td>\n",
       "      <td>2141-09-18 11:25:00</td>\n",
       "      <td>LEG PAIN</td>\n",
       "      <td>40301</td>\n",
       "      <td>1</td>\n",
       "    </tr>\n",
       "    <tr>\n",
       "      <th>1</th>\n",
       "      <td>109</td>\n",
       "      <td>173633</td>\n",
       "      <td>2141-12-08 01:40:00</td>\n",
       "      <td>2141-12-14 17:16:00</td>\n",
       "      <td>NaN</td>\n",
       "      <td>EMERGENCY</td>\n",
       "      <td>2141-12-07 21:10:00</td>\n",
       "      <td>2141-12-08 02:48:00</td>\n",
       "      <td>ABDOMINAL PAIN</td>\n",
       "      <td>40301</td>\n",
       "      <td>1</td>\n",
       "    </tr>\n",
       "    <tr>\n",
       "      <th>2</th>\n",
       "      <td>112</td>\n",
       "      <td>174105</td>\n",
       "      <td>2194-06-13 18:39:00</td>\n",
       "      <td>2194-06-18 16:50:00</td>\n",
       "      <td>NaN</td>\n",
       "      <td>EMERGENCY</td>\n",
       "      <td>2194-06-13 15:19:00</td>\n",
       "      <td>2194-06-13 20:05:00</td>\n",
       "      <td>GASTROINTESTINAL BLEED</td>\n",
       "      <td>53100</td>\n",
       "      <td>1</td>\n",
       "    </tr>\n",
       "    <tr>\n",
       "      <th>3</th>\n",
       "      <td>113</td>\n",
       "      <td>109976</td>\n",
       "      <td>2140-12-12 22:46:00</td>\n",
       "      <td>2140-12-27 19:30:00</td>\n",
       "      <td>NaN</td>\n",
       "      <td>EMERGENCY</td>\n",
       "      <td>2140-12-12 19:29:00</td>\n",
       "      <td>2140-12-13 00:12:00</td>\n",
       "      <td>HYDROCEPHALUS</td>\n",
       "      <td>1915</td>\n",
       "      <td>1</td>\n",
       "    </tr>\n",
       "    <tr>\n",
       "      <th>4</th>\n",
       "      <td>115</td>\n",
       "      <td>114585</td>\n",
       "      <td>2194-10-16 12:48:00</td>\n",
       "      <td>2194-11-13 16:50:00</td>\n",
       "      <td>NaN</td>\n",
       "      <td>EMERGENCY</td>\n",
       "      <td>NaN</td>\n",
       "      <td>NaN</td>\n",
       "      <td>ADRENAL INSUFFICIENCY</td>\n",
       "      <td>1940</td>\n",
       "      <td>1</td>\n",
       "    </tr>\n",
       "  </tbody>\n",
       "</table>\n",
       "</div>"
      ],
      "text/plain": [
       "   SUBJECT_ID  HADM_ID            ADMITTIME            DISCHTIME DEATHTIME  \\\n",
       "0         109   172335  2141-09-18 10:32:00  2141-09-24 13:53:00       NaN   \n",
       "1         109   173633  2141-12-08 01:40:00  2141-12-14 17:16:00       NaN   \n",
       "2         112   174105  2194-06-13 18:39:00  2194-06-18 16:50:00       NaN   \n",
       "3         113   109976  2140-12-12 22:46:00  2140-12-27 19:30:00       NaN   \n",
       "4         115   114585  2194-10-16 12:48:00  2194-11-13 16:50:00       NaN   \n",
       "\n",
       "  ADMISSION_TYPE            EDREGTIME            EDOUTTIME  \\\n",
       "0      EMERGENCY  2141-09-18 07:06:00  2141-09-18 11:25:00   \n",
       "1      EMERGENCY  2141-12-07 21:10:00  2141-12-08 02:48:00   \n",
       "2      EMERGENCY  2194-06-13 15:19:00  2194-06-13 20:05:00   \n",
       "3      EMERGENCY  2140-12-12 19:29:00  2140-12-13 00:12:00   \n",
       "4      EMERGENCY                  NaN                  NaN   \n",
       "\n",
       "                DIAGNOSIS DIAG.ICD9_CODE  DIAG.SEQ_NUM  \n",
       "0                LEG PAIN          40301             1  \n",
       "1          ABDOMINAL PAIN          40301             1  \n",
       "2  GASTROINTESTINAL BLEED          53100             1  \n",
       "3           HYDROCEPHALUS           1915             1  \n",
       "4   ADRENAL INSUFFICIENCY           1940             1  "
      ]
     },
     "execution_count": 2,
     "metadata": {},
     "output_type": "execute_result"
    }
   ],
   "source": [
    "emer = pd.read_csv('EmergencyICD4.csv')\n",
    "emer.head()"
   ]
  },
  {
   "cell_type": "code",
   "execution_count": 3,
   "metadata": {},
   "outputs": [
    {
     "data": {
      "text/plain": [
       "43370"
      ]
     },
     "execution_count": 3,
     "metadata": {},
     "output_type": "execute_result"
    }
   ],
   "source": [
    "len(emer)"
   ]
  },
  {
   "cell_type": "code",
   "execution_count": 4,
   "metadata": {},
   "outputs": [
    {
     "data": {
      "text/plain": [
       "SUBJECT_ID                 int64\n",
       "HADM_ID                    int64\n",
       "ADMITTIME         datetime64[ns]\n",
       "DISCHTIME         datetime64[ns]\n",
       "DEATHTIME                 object\n",
       "ADMISSION_TYPE            object\n",
       "EDREGTIME                 object\n",
       "EDOUTTIME                 object\n",
       "DIAGNOSIS                 object\n",
       "DIAG.ICD9_CODE            object\n",
       "DIAG.SEQ_NUM               int64\n",
       "dtype: object"
      ]
     },
     "execution_count": 4,
     "metadata": {},
     "output_type": "execute_result"
    }
   ],
   "source": [
    "emer['ADMITTIME'] = pd.to_datetime(emer['ADMITTIME'])\n",
    "emer['DISCHTIME'] = pd.to_datetime(emer['DISCHTIME'])\n",
    "emer.dtypes"
   ]
  },
  {
   "cell_type": "code",
   "execution_count": 5,
   "metadata": {},
   "outputs": [],
   "source": [
    "emer['admit_date'] = [d.date() for d in emer['ADMITTIME']]\n",
    "emer['admit_time'] = [d.time() for d in emer['ADMITTIME']]\n",
    "emer['disch_date'] = [d.date() for d in emer['DISCHTIME']]\n",
    "emer['disch_time'] = [d.time() for d in emer['DISCHTIME']]"
   ]
  },
  {
   "cell_type": "code",
   "execution_count": 6,
   "metadata": {},
   "outputs": [
    {
     "data": {
      "text/html": [
       "<div>\n",
       "<style scoped>\n",
       "    .dataframe tbody tr th:only-of-type {\n",
       "        vertical-align: middle;\n",
       "    }\n",
       "\n",
       "    .dataframe tbody tr th {\n",
       "        vertical-align: top;\n",
       "    }\n",
       "\n",
       "    .dataframe thead th {\n",
       "        text-align: right;\n",
       "    }\n",
       "</style>\n",
       "<table border=\"1\" class=\"dataframe\">\n",
       "  <thead>\n",
       "    <tr style=\"text-align: right;\">\n",
       "      <th></th>\n",
       "      <th>SUBJECT_ID</th>\n",
       "      <th>HADM_ID</th>\n",
       "      <th>ADMITTIME</th>\n",
       "      <th>DISCHTIME</th>\n",
       "      <th>DEATHTIME</th>\n",
       "      <th>ADMISSION_TYPE</th>\n",
       "      <th>EDREGTIME</th>\n",
       "      <th>EDOUTTIME</th>\n",
       "      <th>DIAGNOSIS</th>\n",
       "      <th>DIAG.ICD9_CODE</th>\n",
       "      <th>DIAG.SEQ_NUM</th>\n",
       "      <th>admit_date</th>\n",
       "      <th>admit_time</th>\n",
       "      <th>disch_date</th>\n",
       "      <th>disch_time</th>\n",
       "    </tr>\n",
       "  </thead>\n",
       "  <tbody>\n",
       "    <tr>\n",
       "      <th>0</th>\n",
       "      <td>109</td>\n",
       "      <td>172335</td>\n",
       "      <td>2141-09-18 10:32:00</td>\n",
       "      <td>2141-09-24 13:53:00</td>\n",
       "      <td>NaN</td>\n",
       "      <td>EMERGENCY</td>\n",
       "      <td>2141-09-18 07:06:00</td>\n",
       "      <td>2141-09-18 11:25:00</td>\n",
       "      <td>LEG PAIN</td>\n",
       "      <td>40301</td>\n",
       "      <td>1</td>\n",
       "      <td>2141-09-18</td>\n",
       "      <td>10:32:00</td>\n",
       "      <td>2141-09-24</td>\n",
       "      <td>13:53:00</td>\n",
       "    </tr>\n",
       "    <tr>\n",
       "      <th>1</th>\n",
       "      <td>109</td>\n",
       "      <td>173633</td>\n",
       "      <td>2141-12-08 01:40:00</td>\n",
       "      <td>2141-12-14 17:16:00</td>\n",
       "      <td>NaN</td>\n",
       "      <td>EMERGENCY</td>\n",
       "      <td>2141-12-07 21:10:00</td>\n",
       "      <td>2141-12-08 02:48:00</td>\n",
       "      <td>ABDOMINAL PAIN</td>\n",
       "      <td>40301</td>\n",
       "      <td>1</td>\n",
       "      <td>2141-12-08</td>\n",
       "      <td>01:40:00</td>\n",
       "      <td>2141-12-14</td>\n",
       "      <td>17:16:00</td>\n",
       "    </tr>\n",
       "    <tr>\n",
       "      <th>2</th>\n",
       "      <td>112</td>\n",
       "      <td>174105</td>\n",
       "      <td>2194-06-13 18:39:00</td>\n",
       "      <td>2194-06-18 16:50:00</td>\n",
       "      <td>NaN</td>\n",
       "      <td>EMERGENCY</td>\n",
       "      <td>2194-06-13 15:19:00</td>\n",
       "      <td>2194-06-13 20:05:00</td>\n",
       "      <td>GASTROINTESTINAL BLEED</td>\n",
       "      <td>53100</td>\n",
       "      <td>1</td>\n",
       "      <td>2194-06-13</td>\n",
       "      <td>18:39:00</td>\n",
       "      <td>2194-06-18</td>\n",
       "      <td>16:50:00</td>\n",
       "    </tr>\n",
       "    <tr>\n",
       "      <th>3</th>\n",
       "      <td>113</td>\n",
       "      <td>109976</td>\n",
       "      <td>2140-12-12 22:46:00</td>\n",
       "      <td>2140-12-27 19:30:00</td>\n",
       "      <td>NaN</td>\n",
       "      <td>EMERGENCY</td>\n",
       "      <td>2140-12-12 19:29:00</td>\n",
       "      <td>2140-12-13 00:12:00</td>\n",
       "      <td>HYDROCEPHALUS</td>\n",
       "      <td>1915</td>\n",
       "      <td>1</td>\n",
       "      <td>2140-12-12</td>\n",
       "      <td>22:46:00</td>\n",
       "      <td>2140-12-27</td>\n",
       "      <td>19:30:00</td>\n",
       "    </tr>\n",
       "    <tr>\n",
       "      <th>4</th>\n",
       "      <td>115</td>\n",
       "      <td>114585</td>\n",
       "      <td>2194-10-16 12:48:00</td>\n",
       "      <td>2194-11-13 16:50:00</td>\n",
       "      <td>NaN</td>\n",
       "      <td>EMERGENCY</td>\n",
       "      <td>NaN</td>\n",
       "      <td>NaN</td>\n",
       "      <td>ADRENAL INSUFFICIENCY</td>\n",
       "      <td>1940</td>\n",
       "      <td>1</td>\n",
       "      <td>2194-10-16</td>\n",
       "      <td>12:48:00</td>\n",
       "      <td>2194-11-13</td>\n",
       "      <td>16:50:00</td>\n",
       "    </tr>\n",
       "  </tbody>\n",
       "</table>\n",
       "</div>"
      ],
      "text/plain": [
       "   SUBJECT_ID  HADM_ID           ADMITTIME           DISCHTIME DEATHTIME  \\\n",
       "0         109   172335 2141-09-18 10:32:00 2141-09-24 13:53:00       NaN   \n",
       "1         109   173633 2141-12-08 01:40:00 2141-12-14 17:16:00       NaN   \n",
       "2         112   174105 2194-06-13 18:39:00 2194-06-18 16:50:00       NaN   \n",
       "3         113   109976 2140-12-12 22:46:00 2140-12-27 19:30:00       NaN   \n",
       "4         115   114585 2194-10-16 12:48:00 2194-11-13 16:50:00       NaN   \n",
       "\n",
       "  ADMISSION_TYPE            EDREGTIME            EDOUTTIME  \\\n",
       "0      EMERGENCY  2141-09-18 07:06:00  2141-09-18 11:25:00   \n",
       "1      EMERGENCY  2141-12-07 21:10:00  2141-12-08 02:48:00   \n",
       "2      EMERGENCY  2194-06-13 15:19:00  2194-06-13 20:05:00   \n",
       "3      EMERGENCY  2140-12-12 19:29:00  2140-12-13 00:12:00   \n",
       "4      EMERGENCY                  NaN                  NaN   \n",
       "\n",
       "                DIAGNOSIS DIAG.ICD9_CODE  DIAG.SEQ_NUM  admit_date admit_time  \\\n",
       "0                LEG PAIN          40301             1  2141-09-18   10:32:00   \n",
       "1          ABDOMINAL PAIN          40301             1  2141-12-08   01:40:00   \n",
       "2  GASTROINTESTINAL BLEED          53100             1  2194-06-13   18:39:00   \n",
       "3           HYDROCEPHALUS           1915             1  2140-12-12   22:46:00   \n",
       "4   ADRENAL INSUFFICIENCY           1940             1  2194-10-16   12:48:00   \n",
       "\n",
       "   disch_date disch_time  \n",
       "0  2141-09-24   13:53:00  \n",
       "1  2141-12-14   17:16:00  \n",
       "2  2194-06-18   16:50:00  \n",
       "3  2140-12-27   19:30:00  \n",
       "4  2194-11-13   16:50:00  "
      ]
     },
     "execution_count": 6,
     "metadata": {},
     "output_type": "execute_result"
    }
   ],
   "source": [
    "emer.head()"
   ]
  },
  {
   "cell_type": "code",
   "execution_count": 7,
   "metadata": {},
   "outputs": [
    {
     "data": {
      "text/plain": [
       "17348.0"
      ]
     },
     "execution_count": 7,
     "metadata": {},
     "output_type": "execute_result"
    }
   ],
   "source": [
    "# what ICD-9 codes are the top 40%?\n",
    "len(emer['DIAG.ICD9_CODE']) * .40"
   ]
  },
  {
   "cell_type": "code",
   "execution_count": 8,
   "metadata": {},
   "outputs": [],
   "source": [
    "emer['DIAG.ICD9_CODE'].value_counts().head(30).sum() #17540\n",
    "icdtouse = pd.DataFrame(emer['DIAG.ICD9_CODE'].value_counts().head(30))\n",
    "icdtouse.head()\n",
    "icd = icdtouse.index"
   ]
  },
  {
   "cell_type": "code",
   "execution_count": 9,
   "metadata": {},
   "outputs": [
    {
     "name": "stdout",
     "output_type": "stream",
     "text": [
      "OTHER : 25830\n",
      "41011 : 481\n",
      "99859 : 305\n",
      "41071 : 1744\n",
      "430 : 524\n",
      "41401 : 2103\n",
      "431 : 1030\n",
      "0389 : 2068\n",
      "4241 : 363\n",
      "51881 : 1126\n",
      "1983 : 265\n",
      "5070 : 658\n",
      "41041 : 482\n",
      "4280 : 530\n",
      "5789 : 445\n",
      "56212 : 273\n",
      "85221 : 304\n",
      "99662 : 279\n",
      "51884 : 251\n",
      "42823 : 282\n",
      "486 : 725\n",
      "03842 : 305\n",
      "5770 : 367\n",
      "41519 : 343\n",
      "25013 : 300\n",
      "43411 : 337\n",
      "5849 : 525\n",
      "42833 : 271\n",
      "43491 : 334\n",
      "49121 : 267\n",
      "4271 : 253\n"
     ]
    }
   ],
   "source": [
    "capture_overall = {\"OTHER\": 0}\n",
    "for index, row in emer.iterrows():\n",
    "    if row['DIAG.ICD9_CODE'] in icd: \n",
    "        if row['DIAG.ICD9_CODE'] not in capture_overall: \n",
    "            capture_overall[row['DIAG.ICD9_CODE']] = 0\n",
    "        capture_overall[row['DIAG.ICD9_CODE']] = capture_overall[row['DIAG.ICD9_CODE']] + 1\n",
    "    else: \n",
    "        capture_overall['OTHER'] = capture_overall['OTHER'] + 1\n",
    "        \n",
    "for each in capture_overall: \n",
    "    print(\"{} : {}\".format(each, capture_overall[each]))"
   ]
  },
  {
   "cell_type": "code",
   "execution_count": 10,
   "metadata": {},
   "outputs": [],
   "source": [
    "# now we want to break it down by day"
   ]
  },
  {
   "cell_type": "code",
   "execution_count": 11,
   "metadata": {},
   "outputs": [],
   "source": [
    "capture_by_day = {}\n",
    "for index, row in emer.iterrows():\n",
    "    if row['admit_date'] not in capture_by_day: \n",
    "        capture_by_day[row['admit_date']] = {}\n",
    "        \n",
    "    if row['DIAG.ICD9_CODE'] in icd: \n",
    "        if row['DIAG.ICD9_CODE'] not in capture_by_day[row['admit_date']]: \n",
    "            capture_by_day[row['admit_date']][row['DIAG.ICD9_CODE']] = 0\n",
    "        capture_by_day[row['admit_date']][row['DIAG.ICD9_CODE']] = capture_by_day[row['admit_date']][row['DIAG.ICD9_CODE']] + 1\n",
    "    else: \n",
    "        if 'OTHER' not in capture_by_day[row['admit_date']]: \n",
    "            capture_by_day[row['admit_date']]['OTHER'] = 0\n",
    "        capture_by_day[row['admit_date']]['OTHER'] = capture_by_day[row['admit_date']]['OTHER'] + 1\n",
    "        \n",
    "#for each in capture_by_day: \n",
    "#    print(each)\n",
    "#    for every in capture_by_day[each]: \n",
    "#        print('\\t {} : {}'.format(every, capture_by_day[each][every]))"
   ]
  },
  {
   "cell_type": "code",
   "execution_count": 12,
   "metadata": {},
   "outputs": [
    {
     "data": {
      "text/html": [
       "<div>\n",
       "<style scoped>\n",
       "    .dataframe tbody tr th:only-of-type {\n",
       "        vertical-align: middle;\n",
       "    }\n",
       "\n",
       "    .dataframe tbody tr th {\n",
       "        vertical-align: top;\n",
       "    }\n",
       "\n",
       "    .dataframe thead th {\n",
       "        text-align: right;\n",
       "    }\n",
       "</style>\n",
       "<table border=\"1\" class=\"dataframe\">\n",
       "  <thead>\n",
       "    <tr style=\"text-align: right;\">\n",
       "      <th></th>\n",
       "      <th>03842</th>\n",
       "      <th>0389</th>\n",
       "      <th>1983</th>\n",
       "      <th>25013</th>\n",
       "      <th>41011</th>\n",
       "      <th>41041</th>\n",
       "      <th>41071</th>\n",
       "      <th>41401</th>\n",
       "      <th>41519</th>\n",
       "      <th>4241</th>\n",
       "      <th>...</th>\n",
       "      <th>51881</th>\n",
       "      <th>51884</th>\n",
       "      <th>56212</th>\n",
       "      <th>5770</th>\n",
       "      <th>5789</th>\n",
       "      <th>5849</th>\n",
       "      <th>85221</th>\n",
       "      <th>99662</th>\n",
       "      <th>99859</th>\n",
       "      <th>OTHER</th>\n",
       "    </tr>\n",
       "  </thead>\n",
       "  <tbody>\n",
       "    <tr>\n",
       "      <th>2141-09-18</th>\n",
       "      <td>NaN</td>\n",
       "      <td>NaN</td>\n",
       "      <td>NaN</td>\n",
       "      <td>NaN</td>\n",
       "      <td>NaN</td>\n",
       "      <td>NaN</td>\n",
       "      <td>1.0</td>\n",
       "      <td>NaN</td>\n",
       "      <td>NaN</td>\n",
       "      <td>NaN</td>\n",
       "      <td>...</td>\n",
       "      <td>NaN</td>\n",
       "      <td>NaN</td>\n",
       "      <td>NaN</td>\n",
       "      <td>NaN</td>\n",
       "      <td>NaN</td>\n",
       "      <td>NaN</td>\n",
       "      <td>NaN</td>\n",
       "      <td>NaN</td>\n",
       "      <td>NaN</td>\n",
       "      <td>2.0</td>\n",
       "    </tr>\n",
       "    <tr>\n",
       "      <th>2141-12-08</th>\n",
       "      <td>NaN</td>\n",
       "      <td>NaN</td>\n",
       "      <td>NaN</td>\n",
       "      <td>NaN</td>\n",
       "      <td>NaN</td>\n",
       "      <td>NaN</td>\n",
       "      <td>NaN</td>\n",
       "      <td>NaN</td>\n",
       "      <td>NaN</td>\n",
       "      <td>NaN</td>\n",
       "      <td>...</td>\n",
       "      <td>NaN</td>\n",
       "      <td>NaN</td>\n",
       "      <td>NaN</td>\n",
       "      <td>NaN</td>\n",
       "      <td>NaN</td>\n",
       "      <td>NaN</td>\n",
       "      <td>NaN</td>\n",
       "      <td>NaN</td>\n",
       "      <td>NaN</td>\n",
       "      <td>1.0</td>\n",
       "    </tr>\n",
       "    <tr>\n",
       "      <th>2194-06-13</th>\n",
       "      <td>NaN</td>\n",
       "      <td>1.0</td>\n",
       "      <td>NaN</td>\n",
       "      <td>NaN</td>\n",
       "      <td>NaN</td>\n",
       "      <td>NaN</td>\n",
       "      <td>NaN</td>\n",
       "      <td>NaN</td>\n",
       "      <td>NaN</td>\n",
       "      <td>NaN</td>\n",
       "      <td>...</td>\n",
       "      <td>NaN</td>\n",
       "      <td>NaN</td>\n",
       "      <td>NaN</td>\n",
       "      <td>NaN</td>\n",
       "      <td>NaN</td>\n",
       "      <td>NaN</td>\n",
       "      <td>NaN</td>\n",
       "      <td>NaN</td>\n",
       "      <td>NaN</td>\n",
       "      <td>1.0</td>\n",
       "    </tr>\n",
       "    <tr>\n",
       "      <th>2140-12-12</th>\n",
       "      <td>NaN</td>\n",
       "      <td>NaN</td>\n",
       "      <td>NaN</td>\n",
       "      <td>NaN</td>\n",
       "      <td>NaN</td>\n",
       "      <td>NaN</td>\n",
       "      <td>NaN</td>\n",
       "      <td>NaN</td>\n",
       "      <td>NaN</td>\n",
       "      <td>NaN</td>\n",
       "      <td>...</td>\n",
       "      <td>NaN</td>\n",
       "      <td>NaN</td>\n",
       "      <td>NaN</td>\n",
       "      <td>NaN</td>\n",
       "      <td>NaN</td>\n",
       "      <td>NaN</td>\n",
       "      <td>NaN</td>\n",
       "      <td>NaN</td>\n",
       "      <td>NaN</td>\n",
       "      <td>2.0</td>\n",
       "    </tr>\n",
       "    <tr>\n",
       "      <th>2194-10-16</th>\n",
       "      <td>NaN</td>\n",
       "      <td>NaN</td>\n",
       "      <td>NaN</td>\n",
       "      <td>NaN</td>\n",
       "      <td>NaN</td>\n",
       "      <td>1.0</td>\n",
       "      <td>NaN</td>\n",
       "      <td>NaN</td>\n",
       "      <td>NaN</td>\n",
       "      <td>NaN</td>\n",
       "      <td>...</td>\n",
       "      <td>NaN</td>\n",
       "      <td>NaN</td>\n",
       "      <td>NaN</td>\n",
       "      <td>NaN</td>\n",
       "      <td>NaN</td>\n",
       "      <td>NaN</td>\n",
       "      <td>NaN</td>\n",
       "      <td>NaN</td>\n",
       "      <td>NaN</td>\n",
       "      <td>3.0</td>\n",
       "    </tr>\n",
       "  </tbody>\n",
       "</table>\n",
       "<p>5 rows × 31 columns</p>\n",
       "</div>"
      ],
      "text/plain": [
       "            03842  0389  1983  25013  41011  41041  41071  41401  41519  4241  \\\n",
       "2141-09-18    NaN   NaN   NaN    NaN    NaN    NaN    1.0    NaN    NaN   NaN   \n",
       "2141-12-08    NaN   NaN   NaN    NaN    NaN    NaN    NaN    NaN    NaN   NaN   \n",
       "2194-06-13    NaN   1.0   NaN    NaN    NaN    NaN    NaN    NaN    NaN   NaN   \n",
       "2140-12-12    NaN   NaN   NaN    NaN    NaN    NaN    NaN    NaN    NaN   NaN   \n",
       "2194-10-16    NaN   NaN   NaN    NaN    NaN    1.0    NaN    NaN    NaN   NaN   \n",
       "\n",
       "            ...    51881  51884  56212  5770  5789  5849  85221  99662  99859  \\\n",
       "2141-09-18  ...      NaN    NaN    NaN   NaN   NaN   NaN    NaN    NaN    NaN   \n",
       "2141-12-08  ...      NaN    NaN    NaN   NaN   NaN   NaN    NaN    NaN    NaN   \n",
       "2194-06-13  ...      NaN    NaN    NaN   NaN   NaN   NaN    NaN    NaN    NaN   \n",
       "2140-12-12  ...      NaN    NaN    NaN   NaN   NaN   NaN    NaN    NaN    NaN   \n",
       "2194-10-16  ...      NaN    NaN    NaN   NaN   NaN   NaN    NaN    NaN    NaN   \n",
       "\n",
       "            OTHER  \n",
       "2141-09-18    2.0  \n",
       "2141-12-08    1.0  \n",
       "2194-06-13    1.0  \n",
       "2140-12-12    2.0  \n",
       "2194-10-16    3.0  \n",
       "\n",
       "[5 rows x 31 columns]"
      ]
     },
     "execution_count": 12,
     "metadata": {},
     "output_type": "execute_result"
    }
   ],
   "source": [
    "byday = pd.DataFrame(capture_by_day)\n",
    "byday = byday.transpose()\n",
    "byday.head()"
   ]
  },
  {
   "cell_type": "code",
   "execution_count": 13,
   "metadata": {},
   "outputs": [
    {
     "data": {
      "text/plain": [
       "25655"
      ]
     },
     "execution_count": 13,
     "metadata": {},
     "output_type": "execute_result"
    }
   ],
   "source": [
    "len(byday)"
   ]
  },
  {
   "cell_type": "code",
   "execution_count": 14,
   "metadata": {},
   "outputs": [],
   "source": [
    "# probably need this in time order?\n",
    "# maybe by month? (dataset seems sparse so far... )\n",
    "# need to look up timeseries situation"
   ]
  },
  {
   "cell_type": "code",
   "execution_count": 15,
   "metadata": {},
   "outputs": [
    {
     "data": {
      "text/html": [
       "<div>\n",
       "<style scoped>\n",
       "    .dataframe tbody tr th:only-of-type {\n",
       "        vertical-align: middle;\n",
       "    }\n",
       "\n",
       "    .dataframe tbody tr th {\n",
       "        vertical-align: top;\n",
       "    }\n",
       "\n",
       "    .dataframe thead th {\n",
       "        text-align: right;\n",
       "    }\n",
       "</style>\n",
       "<table border=\"1\" class=\"dataframe\">\n",
       "  <thead>\n",
       "    <tr style=\"text-align: right;\">\n",
       "      <th></th>\n",
       "      <th>03842</th>\n",
       "      <th>0389</th>\n",
       "      <th>1983</th>\n",
       "      <th>25013</th>\n",
       "      <th>41011</th>\n",
       "      <th>41041</th>\n",
       "      <th>41071</th>\n",
       "      <th>41401</th>\n",
       "      <th>41519</th>\n",
       "      <th>4241</th>\n",
       "      <th>...</th>\n",
       "      <th>5789</th>\n",
       "      <th>5849</th>\n",
       "      <th>85221</th>\n",
       "      <th>99662</th>\n",
       "      <th>99859</th>\n",
       "      <th>OTHER</th>\n",
       "      <th>admitdate</th>\n",
       "      <th>year</th>\n",
       "      <th>month</th>\n",
       "      <th>day</th>\n",
       "    </tr>\n",
       "  </thead>\n",
       "  <tbody>\n",
       "    <tr>\n",
       "      <th>2141-09-18</th>\n",
       "      <td>NaN</td>\n",
       "      <td>NaN</td>\n",
       "      <td>NaN</td>\n",
       "      <td>NaN</td>\n",
       "      <td>NaN</td>\n",
       "      <td>NaN</td>\n",
       "      <td>1.0</td>\n",
       "      <td>NaN</td>\n",
       "      <td>NaN</td>\n",
       "      <td>NaN</td>\n",
       "      <td>...</td>\n",
       "      <td>NaN</td>\n",
       "      <td>NaN</td>\n",
       "      <td>NaN</td>\n",
       "      <td>NaN</td>\n",
       "      <td>NaN</td>\n",
       "      <td>2.0</td>\n",
       "      <td>2141-09-18</td>\n",
       "      <td>2141</td>\n",
       "      <td>9</td>\n",
       "      <td>18</td>\n",
       "    </tr>\n",
       "    <tr>\n",
       "      <th>2141-12-08</th>\n",
       "      <td>NaN</td>\n",
       "      <td>NaN</td>\n",
       "      <td>NaN</td>\n",
       "      <td>NaN</td>\n",
       "      <td>NaN</td>\n",
       "      <td>NaN</td>\n",
       "      <td>NaN</td>\n",
       "      <td>NaN</td>\n",
       "      <td>NaN</td>\n",
       "      <td>NaN</td>\n",
       "      <td>...</td>\n",
       "      <td>NaN</td>\n",
       "      <td>NaN</td>\n",
       "      <td>NaN</td>\n",
       "      <td>NaN</td>\n",
       "      <td>NaN</td>\n",
       "      <td>1.0</td>\n",
       "      <td>2141-12-08</td>\n",
       "      <td>2141</td>\n",
       "      <td>12</td>\n",
       "      <td>8</td>\n",
       "    </tr>\n",
       "    <tr>\n",
       "      <th>2194-06-13</th>\n",
       "      <td>NaN</td>\n",
       "      <td>1.0</td>\n",
       "      <td>NaN</td>\n",
       "      <td>NaN</td>\n",
       "      <td>NaN</td>\n",
       "      <td>NaN</td>\n",
       "      <td>NaN</td>\n",
       "      <td>NaN</td>\n",
       "      <td>NaN</td>\n",
       "      <td>NaN</td>\n",
       "      <td>...</td>\n",
       "      <td>NaN</td>\n",
       "      <td>NaN</td>\n",
       "      <td>NaN</td>\n",
       "      <td>NaN</td>\n",
       "      <td>NaN</td>\n",
       "      <td>1.0</td>\n",
       "      <td>2194-06-13</td>\n",
       "      <td>2194</td>\n",
       "      <td>6</td>\n",
       "      <td>13</td>\n",
       "    </tr>\n",
       "    <tr>\n",
       "      <th>2140-12-12</th>\n",
       "      <td>NaN</td>\n",
       "      <td>NaN</td>\n",
       "      <td>NaN</td>\n",
       "      <td>NaN</td>\n",
       "      <td>NaN</td>\n",
       "      <td>NaN</td>\n",
       "      <td>NaN</td>\n",
       "      <td>NaN</td>\n",
       "      <td>NaN</td>\n",
       "      <td>NaN</td>\n",
       "      <td>...</td>\n",
       "      <td>NaN</td>\n",
       "      <td>NaN</td>\n",
       "      <td>NaN</td>\n",
       "      <td>NaN</td>\n",
       "      <td>NaN</td>\n",
       "      <td>2.0</td>\n",
       "      <td>2140-12-12</td>\n",
       "      <td>2140</td>\n",
       "      <td>12</td>\n",
       "      <td>12</td>\n",
       "    </tr>\n",
       "    <tr>\n",
       "      <th>2194-10-16</th>\n",
       "      <td>NaN</td>\n",
       "      <td>NaN</td>\n",
       "      <td>NaN</td>\n",
       "      <td>NaN</td>\n",
       "      <td>NaN</td>\n",
       "      <td>1.0</td>\n",
       "      <td>NaN</td>\n",
       "      <td>NaN</td>\n",
       "      <td>NaN</td>\n",
       "      <td>NaN</td>\n",
       "      <td>...</td>\n",
       "      <td>NaN</td>\n",
       "      <td>NaN</td>\n",
       "      <td>NaN</td>\n",
       "      <td>NaN</td>\n",
       "      <td>NaN</td>\n",
       "      <td>3.0</td>\n",
       "      <td>2194-10-16</td>\n",
       "      <td>2194</td>\n",
       "      <td>10</td>\n",
       "      <td>16</td>\n",
       "    </tr>\n",
       "  </tbody>\n",
       "</table>\n",
       "<p>5 rows × 35 columns</p>\n",
       "</div>"
      ],
      "text/plain": [
       "            03842  0389  1983  25013  41011  41041  41071  41401  41519  4241  \\\n",
       "2141-09-18    NaN   NaN   NaN    NaN    NaN    NaN    1.0    NaN    NaN   NaN   \n",
       "2141-12-08    NaN   NaN   NaN    NaN    NaN    NaN    NaN    NaN    NaN   NaN   \n",
       "2194-06-13    NaN   1.0   NaN    NaN    NaN    NaN    NaN    NaN    NaN   NaN   \n",
       "2140-12-12    NaN   NaN   NaN    NaN    NaN    NaN    NaN    NaN    NaN   NaN   \n",
       "2194-10-16    NaN   NaN   NaN    NaN    NaN    1.0    NaN    NaN    NaN   NaN   \n",
       "\n",
       "           ...   5789  5849  85221  99662  99859  OTHER   admitdate  year  \\\n",
       "2141-09-18 ...    NaN   NaN    NaN    NaN    NaN    2.0  2141-09-18  2141   \n",
       "2141-12-08 ...    NaN   NaN    NaN    NaN    NaN    1.0  2141-12-08  2141   \n",
       "2194-06-13 ...    NaN   NaN    NaN    NaN    NaN    1.0  2194-06-13  2194   \n",
       "2140-12-12 ...    NaN   NaN    NaN    NaN    NaN    2.0  2140-12-12  2140   \n",
       "2194-10-16 ...    NaN   NaN    NaN    NaN    NaN    3.0  2194-10-16  2194   \n",
       "\n",
       "            month  day  \n",
       "2141-09-18      9   18  \n",
       "2141-12-08     12    8  \n",
       "2194-06-13      6   13  \n",
       "2140-12-12     12   12  \n",
       "2194-10-16     10   16  \n",
       "\n",
       "[5 rows x 35 columns]"
      ]
     },
     "execution_count": 15,
     "metadata": {},
     "output_type": "execute_result"
    }
   ],
   "source": [
    "# get in time order\n",
    "\n",
    "# bump out index as a column\n",
    "byday['admitdate'] = byday.index\n",
    "#byday['admitdate'] = pd.to_datetime(byday['admitdate'])\n",
    "# split it into year, month, day columns\n",
    "steal_dates = pd.DatetimeIndex(byday['admitdate'])\n",
    "byday['year'] = steal_dates.year\n",
    "byday['month'] = steal_dates.month\n",
    "byday['day'] = steal_dates.day\n",
    "\n",
    "#print(byday.dtypes)\n",
    "byday.head()\n"
   ]
  },
  {
   "cell_type": "code",
   "execution_count": 16,
   "metadata": {},
   "outputs": [
    {
     "data": {
      "text/html": [
       "<div>\n",
       "<style scoped>\n",
       "    .dataframe tbody tr th:only-of-type {\n",
       "        vertical-align: middle;\n",
       "    }\n",
       "\n",
       "    .dataframe tbody tr th {\n",
       "        vertical-align: top;\n",
       "    }\n",
       "\n",
       "    .dataframe thead th {\n",
       "        text-align: right;\n",
       "    }\n",
       "</style>\n",
       "<table border=\"1\" class=\"dataframe\">\n",
       "  <thead>\n",
       "    <tr style=\"text-align: right;\">\n",
       "      <th></th>\n",
       "      <th>03842</th>\n",
       "      <th>0389</th>\n",
       "      <th>1983</th>\n",
       "      <th>25013</th>\n",
       "      <th>41011</th>\n",
       "      <th>41041</th>\n",
       "      <th>41071</th>\n",
       "      <th>41401</th>\n",
       "      <th>41519</th>\n",
       "      <th>4241</th>\n",
       "      <th>...</th>\n",
       "      <th>5789</th>\n",
       "      <th>5849</th>\n",
       "      <th>85221</th>\n",
       "      <th>99662</th>\n",
       "      <th>99859</th>\n",
       "      <th>OTHER</th>\n",
       "      <th>admitdate</th>\n",
       "      <th>year</th>\n",
       "      <th>month</th>\n",
       "      <th>day</th>\n",
       "    </tr>\n",
       "  </thead>\n",
       "  <tbody>\n",
       "    <tr>\n",
       "      <th>2100-06-07</th>\n",
       "      <td>NaN</td>\n",
       "      <td>NaN</td>\n",
       "      <td>NaN</td>\n",
       "      <td>NaN</td>\n",
       "      <td>NaN</td>\n",
       "      <td>NaN</td>\n",
       "      <td>NaN</td>\n",
       "      <td>NaN</td>\n",
       "      <td>NaN</td>\n",
       "      <td>NaN</td>\n",
       "      <td>...</td>\n",
       "      <td>NaN</td>\n",
       "      <td>NaN</td>\n",
       "      <td>NaN</td>\n",
       "      <td>NaN</td>\n",
       "      <td>NaN</td>\n",
       "      <td>1.0</td>\n",
       "      <td>2100-06-07</td>\n",
       "      <td>2100</td>\n",
       "      <td>6</td>\n",
       "      <td>7</td>\n",
       "    </tr>\n",
       "    <tr>\n",
       "      <th>2100-06-09</th>\n",
       "      <td>NaN</td>\n",
       "      <td>NaN</td>\n",
       "      <td>NaN</td>\n",
       "      <td>NaN</td>\n",
       "      <td>NaN</td>\n",
       "      <td>NaN</td>\n",
       "      <td>NaN</td>\n",
       "      <td>NaN</td>\n",
       "      <td>NaN</td>\n",
       "      <td>NaN</td>\n",
       "      <td>...</td>\n",
       "      <td>NaN</td>\n",
       "      <td>NaN</td>\n",
       "      <td>NaN</td>\n",
       "      <td>NaN</td>\n",
       "      <td>NaN</td>\n",
       "      <td>NaN</td>\n",
       "      <td>2100-06-09</td>\n",
       "      <td>2100</td>\n",
       "      <td>6</td>\n",
       "      <td>9</td>\n",
       "    </tr>\n",
       "    <tr>\n",
       "      <th>2100-06-14</th>\n",
       "      <td>NaN</td>\n",
       "      <td>NaN</td>\n",
       "      <td>NaN</td>\n",
       "      <td>NaN</td>\n",
       "      <td>NaN</td>\n",
       "      <td>NaN</td>\n",
       "      <td>NaN</td>\n",
       "      <td>NaN</td>\n",
       "      <td>NaN</td>\n",
       "      <td>NaN</td>\n",
       "      <td>...</td>\n",
       "      <td>NaN</td>\n",
       "      <td>NaN</td>\n",
       "      <td>NaN</td>\n",
       "      <td>NaN</td>\n",
       "      <td>NaN</td>\n",
       "      <td>NaN</td>\n",
       "      <td>2100-06-14</td>\n",
       "      <td>2100</td>\n",
       "      <td>6</td>\n",
       "      <td>14</td>\n",
       "    </tr>\n",
       "    <tr>\n",
       "      <th>2100-06-22</th>\n",
       "      <td>NaN</td>\n",
       "      <td>NaN</td>\n",
       "      <td>NaN</td>\n",
       "      <td>NaN</td>\n",
       "      <td>NaN</td>\n",
       "      <td>NaN</td>\n",
       "      <td>NaN</td>\n",
       "      <td>NaN</td>\n",
       "      <td>NaN</td>\n",
       "      <td>NaN</td>\n",
       "      <td>...</td>\n",
       "      <td>NaN</td>\n",
       "      <td>NaN</td>\n",
       "      <td>NaN</td>\n",
       "      <td>NaN</td>\n",
       "      <td>NaN</td>\n",
       "      <td>1.0</td>\n",
       "      <td>2100-06-22</td>\n",
       "      <td>2100</td>\n",
       "      <td>6</td>\n",
       "      <td>22</td>\n",
       "    </tr>\n",
       "    <tr>\n",
       "      <th>2100-06-24</th>\n",
       "      <td>NaN</td>\n",
       "      <td>NaN</td>\n",
       "      <td>NaN</td>\n",
       "      <td>NaN</td>\n",
       "      <td>NaN</td>\n",
       "      <td>NaN</td>\n",
       "      <td>NaN</td>\n",
       "      <td>NaN</td>\n",
       "      <td>NaN</td>\n",
       "      <td>NaN</td>\n",
       "      <td>...</td>\n",
       "      <td>NaN</td>\n",
       "      <td>NaN</td>\n",
       "      <td>NaN</td>\n",
       "      <td>NaN</td>\n",
       "      <td>NaN</td>\n",
       "      <td>NaN</td>\n",
       "      <td>2100-06-24</td>\n",
       "      <td>2100</td>\n",
       "      <td>6</td>\n",
       "      <td>24</td>\n",
       "    </tr>\n",
       "  </tbody>\n",
       "</table>\n",
       "<p>5 rows × 35 columns</p>\n",
       "</div>"
      ],
      "text/plain": [
       "            03842  0389  1983  25013  41011  41041  41071  41401  41519  4241  \\\n",
       "2100-06-07    NaN   NaN   NaN    NaN    NaN    NaN    NaN    NaN    NaN   NaN   \n",
       "2100-06-09    NaN   NaN   NaN    NaN    NaN    NaN    NaN    NaN    NaN   NaN   \n",
       "2100-06-14    NaN   NaN   NaN    NaN    NaN    NaN    NaN    NaN    NaN   NaN   \n",
       "2100-06-22    NaN   NaN   NaN    NaN    NaN    NaN    NaN    NaN    NaN   NaN   \n",
       "2100-06-24    NaN   NaN   NaN    NaN    NaN    NaN    NaN    NaN    NaN   NaN   \n",
       "\n",
       "           ...   5789  5849  85221  99662  99859  OTHER   admitdate  year  \\\n",
       "2100-06-07 ...    NaN   NaN    NaN    NaN    NaN    1.0  2100-06-07  2100   \n",
       "2100-06-09 ...    NaN   NaN    NaN    NaN    NaN    NaN  2100-06-09  2100   \n",
       "2100-06-14 ...    NaN   NaN    NaN    NaN    NaN    NaN  2100-06-14  2100   \n",
       "2100-06-22 ...    NaN   NaN    NaN    NaN    NaN    1.0  2100-06-22  2100   \n",
       "2100-06-24 ...    NaN   NaN    NaN    NaN    NaN    NaN  2100-06-24  2100   \n",
       "\n",
       "            month  day  \n",
       "2100-06-07      6    7  \n",
       "2100-06-09      6    9  \n",
       "2100-06-14      6   14  \n",
       "2100-06-22      6   22  \n",
       "2100-06-24      6   24  \n",
       "\n",
       "[5 rows x 35 columns]"
      ]
     },
     "execution_count": 16,
     "metadata": {},
     "output_type": "execute_result"
    }
   ],
   "source": [
    "# order the dataframe by year then month then day\n",
    "byday = byday.sort_values(by=['year', 'month', 'day'])\n",
    "byday.head()\n",
    "# probably can do \"groupby\" to get year and month versions"
   ]
  },
  {
   "cell_type": "code",
   "execution_count": 17,
   "metadata": {},
   "outputs": [
    {
     "name": "stdout",
     "output_type": "stream",
     "text": [
      "25655\n",
      "2100-06-07    1.0\n",
      "2100-06-09    1.0\n",
      "2100-06-14    2.0\n",
      "2100-06-22    1.0\n",
      "2100-06-24    1.0\n",
      "dtype: float64\n"
     ]
    },
    {
     "name": "stderr",
     "output_type": "stream",
     "text": [
      "C:\\Users\\julie\\Anaconda3\\lib\\site-packages\\ipykernel_launcher.py:3: DeprecationWarning: \n",
      ".ix is deprecated. Please use\n",
      ".loc for label based indexing or\n",
      ".iloc for positional indexing\n",
      "\n",
      "See the documentation here:\n",
      "http://pandas.pydata.org/pandas-docs/stable/indexing.html#ix-indexer-is-deprecated\n",
      "  This is separate from the ipykernel package so we can avoid doing imports until\n"
     ]
    }
   ],
   "source": [
    "# need it in month | admit_counts form\n",
    "# want to sum columns 1:other, keep year and month\n",
    "each_day_total = byday.ix[:,:31].sum(axis=1)\n",
    "print(len(each_day_total))\n",
    "print(each_day_total[0:5])\n",
    "byday['day_total'] = each_day_total"
   ]
  },
  {
   "cell_type": "code",
   "execution_count": 18,
   "metadata": {},
   "outputs": [],
   "source": [
    "baseline_set = byday[['admitdate', 'year', 'month', 'day_total']].copy()"
   ]
  },
  {
   "cell_type": "code",
   "execution_count": 19,
   "metadata": {},
   "outputs": [
    {
     "data": {
      "text/html": [
       "<div>\n",
       "<style scoped>\n",
       "    .dataframe tbody tr th:only-of-type {\n",
       "        vertical-align: middle;\n",
       "    }\n",
       "\n",
       "    .dataframe tbody tr th {\n",
       "        vertical-align: top;\n",
       "    }\n",
       "\n",
       "    .dataframe thead th {\n",
       "        text-align: right;\n",
       "    }\n",
       "</style>\n",
       "<table border=\"1\" class=\"dataframe\">\n",
       "  <thead>\n",
       "    <tr style=\"text-align: right;\">\n",
       "      <th></th>\n",
       "      <th>admitdate</th>\n",
       "      <th>year</th>\n",
       "      <th>month</th>\n",
       "      <th>day_total</th>\n",
       "    </tr>\n",
       "  </thead>\n",
       "  <tbody>\n",
       "    <tr>\n",
       "      <th>2100-06-07</th>\n",
       "      <td>2100-06-07</td>\n",
       "      <td>2100</td>\n",
       "      <td>6</td>\n",
       "      <td>1.0</td>\n",
       "    </tr>\n",
       "    <tr>\n",
       "      <th>2100-06-09</th>\n",
       "      <td>2100-06-09</td>\n",
       "      <td>2100</td>\n",
       "      <td>6</td>\n",
       "      <td>1.0</td>\n",
       "    </tr>\n",
       "    <tr>\n",
       "      <th>2100-06-14</th>\n",
       "      <td>2100-06-14</td>\n",
       "      <td>2100</td>\n",
       "      <td>6</td>\n",
       "      <td>2.0</td>\n",
       "    </tr>\n",
       "    <tr>\n",
       "      <th>2100-06-22</th>\n",
       "      <td>2100-06-22</td>\n",
       "      <td>2100</td>\n",
       "      <td>6</td>\n",
       "      <td>1.0</td>\n",
       "    </tr>\n",
       "    <tr>\n",
       "      <th>2100-06-24</th>\n",
       "      <td>2100-06-24</td>\n",
       "      <td>2100</td>\n",
       "      <td>6</td>\n",
       "      <td>1.0</td>\n",
       "    </tr>\n",
       "  </tbody>\n",
       "</table>\n",
       "</div>"
      ],
      "text/plain": [
       "             admitdate  year  month  day_total\n",
       "2100-06-07  2100-06-07  2100      6        1.0\n",
       "2100-06-09  2100-06-09  2100      6        1.0\n",
       "2100-06-14  2100-06-14  2100      6        2.0\n",
       "2100-06-22  2100-06-22  2100      6        1.0\n",
       "2100-06-24  2100-06-24  2100      6        1.0"
      ]
     },
     "execution_count": 19,
     "metadata": {},
     "output_type": "execute_result"
    }
   ],
   "source": [
    "baseline_set.head()"
   ]
  },
  {
   "cell_type": "code",
   "execution_count": 20,
   "metadata": {},
   "outputs": [
    {
     "data": {
      "text/plain": [
       "admitdate     object\n",
       "year           int64\n",
       "month          int64\n",
       "day_total    float64\n",
       "dtype: object"
      ]
     },
     "execution_count": 20,
     "metadata": {},
     "output_type": "execute_result"
    }
   ],
   "source": [
    "baseline_set.dtypes"
   ]
  },
  {
   "cell_type": "code",
   "execution_count": 21,
   "metadata": {},
   "outputs": [],
   "source": [
    "# change baseline_set.admitdate to datetime object\n",
    "baseline_set['admitdate'] = pd.to_datetime(baseline_set['admitdate'])\n",
    "\n",
    "change_day = baseline_set['admitdate']\n",
    "new_day = change_day.apply(lambda dt: dt.replace(day=1))\n",
    "baseline_set['admitmonth'] = new_day "
   ]
  },
  {
   "cell_type": "code",
   "execution_count": 22,
   "metadata": {},
   "outputs": [
    {
     "data": {
      "text/html": [
       "<div>\n",
       "<style scoped>\n",
       "    .dataframe tbody tr th:only-of-type {\n",
       "        vertical-align: middle;\n",
       "    }\n",
       "\n",
       "    .dataframe tbody tr th {\n",
       "        vertical-align: top;\n",
       "    }\n",
       "\n",
       "    .dataframe thead th {\n",
       "        text-align: right;\n",
       "    }\n",
       "</style>\n",
       "<table border=\"1\" class=\"dataframe\">\n",
       "  <thead>\n",
       "    <tr style=\"text-align: right;\">\n",
       "      <th></th>\n",
       "      <th>admitdate</th>\n",
       "      <th>year</th>\n",
       "      <th>month</th>\n",
       "      <th>day_total</th>\n",
       "      <th>admitmonth</th>\n",
       "    </tr>\n",
       "  </thead>\n",
       "  <tbody>\n",
       "    <tr>\n",
       "      <th>2100-06-07</th>\n",
       "      <td>2100-06-07</td>\n",
       "      <td>2100</td>\n",
       "      <td>6</td>\n",
       "      <td>1.0</td>\n",
       "      <td>2100-06-01</td>\n",
       "    </tr>\n",
       "    <tr>\n",
       "      <th>2100-06-09</th>\n",
       "      <td>2100-06-09</td>\n",
       "      <td>2100</td>\n",
       "      <td>6</td>\n",
       "      <td>1.0</td>\n",
       "      <td>2100-06-01</td>\n",
       "    </tr>\n",
       "    <tr>\n",
       "      <th>2100-06-14</th>\n",
       "      <td>2100-06-14</td>\n",
       "      <td>2100</td>\n",
       "      <td>6</td>\n",
       "      <td>2.0</td>\n",
       "      <td>2100-06-01</td>\n",
       "    </tr>\n",
       "    <tr>\n",
       "      <th>2100-06-22</th>\n",
       "      <td>2100-06-22</td>\n",
       "      <td>2100</td>\n",
       "      <td>6</td>\n",
       "      <td>1.0</td>\n",
       "      <td>2100-06-01</td>\n",
       "    </tr>\n",
       "    <tr>\n",
       "      <th>2100-06-24</th>\n",
       "      <td>2100-06-24</td>\n",
       "      <td>2100</td>\n",
       "      <td>6</td>\n",
       "      <td>1.0</td>\n",
       "      <td>2100-06-01</td>\n",
       "    </tr>\n",
       "  </tbody>\n",
       "</table>\n",
       "</div>"
      ],
      "text/plain": [
       "            admitdate  year  month  day_total admitmonth\n",
       "2100-06-07 2100-06-07  2100      6        1.0 2100-06-01\n",
       "2100-06-09 2100-06-09  2100      6        1.0 2100-06-01\n",
       "2100-06-14 2100-06-14  2100      6        2.0 2100-06-01\n",
       "2100-06-22 2100-06-22  2100      6        1.0 2100-06-01\n",
       "2100-06-24 2100-06-24  2100      6        1.0 2100-06-01"
      ]
     },
     "execution_count": 22,
     "metadata": {},
     "output_type": "execute_result"
    }
   ],
   "source": [
    "baseline_set.head()"
   ]
  },
  {
   "cell_type": "code",
   "execution_count": 23,
   "metadata": {},
   "outputs": [
    {
     "data": {
      "text/html": [
       "<div>\n",
       "<style scoped>\n",
       "    .dataframe tbody tr th:only-of-type {\n",
       "        vertical-align: middle;\n",
       "    }\n",
       "\n",
       "    .dataframe tbody tr th {\n",
       "        vertical-align: top;\n",
       "    }\n",
       "\n",
       "    .dataframe thead th {\n",
       "        text-align: right;\n",
       "    }\n",
       "</style>\n",
       "<table border=\"1\" class=\"dataframe\">\n",
       "  <thead>\n",
       "    <tr style=\"text-align: right;\">\n",
       "      <th></th>\n",
       "      <th>day_total</th>\n",
       "      <th>admitmonth</th>\n",
       "    </tr>\n",
       "  </thead>\n",
       "  <tbody>\n",
       "    <tr>\n",
       "      <th>2100-06-07</th>\n",
       "      <td>1.0</td>\n",
       "      <td>2100-06-01</td>\n",
       "    </tr>\n",
       "    <tr>\n",
       "      <th>2100-06-09</th>\n",
       "      <td>1.0</td>\n",
       "      <td>2100-06-01</td>\n",
       "    </tr>\n",
       "    <tr>\n",
       "      <th>2100-06-14</th>\n",
       "      <td>2.0</td>\n",
       "      <td>2100-06-01</td>\n",
       "    </tr>\n",
       "    <tr>\n",
       "      <th>2100-06-22</th>\n",
       "      <td>1.0</td>\n",
       "      <td>2100-06-01</td>\n",
       "    </tr>\n",
       "    <tr>\n",
       "      <th>2100-06-24</th>\n",
       "      <td>1.0</td>\n",
       "      <td>2100-06-01</td>\n",
       "    </tr>\n",
       "  </tbody>\n",
       "</table>\n",
       "</div>"
      ],
      "text/plain": [
       "            day_total admitmonth\n",
       "2100-06-07        1.0 2100-06-01\n",
       "2100-06-09        1.0 2100-06-01\n",
       "2100-06-14        2.0 2100-06-01\n",
       "2100-06-22        1.0 2100-06-01\n",
       "2100-06-24        1.0 2100-06-01"
      ]
     },
     "execution_count": 23,
     "metadata": {},
     "output_type": "execute_result"
    }
   ],
   "source": [
    "baseline_month = baseline_set[['day_total', 'admitmonth']].copy()\n",
    "baseline_month.head()"
   ]
  },
  {
   "cell_type": "code",
   "execution_count": 24,
   "metadata": {},
   "outputs": [],
   "source": [
    "baseline_month = baseline_month.groupby(['admitmonth']).sum()"
   ]
  },
  {
   "cell_type": "code",
   "execution_count": 25,
   "metadata": {},
   "outputs": [
    {
     "data": {
      "text/html": [
       "<div>\n",
       "<style scoped>\n",
       "    .dataframe tbody tr th:only-of-type {\n",
       "        vertical-align: middle;\n",
       "    }\n",
       "\n",
       "    .dataframe tbody tr th {\n",
       "        vertical-align: top;\n",
       "    }\n",
       "\n",
       "    .dataframe thead th {\n",
       "        text-align: right;\n",
       "    }\n",
       "</style>\n",
       "<table border=\"1\" class=\"dataframe\">\n",
       "  <thead>\n",
       "    <tr style=\"text-align: right;\">\n",
       "      <th></th>\n",
       "      <th>day_total</th>\n",
       "    </tr>\n",
       "    <tr>\n",
       "      <th>admitmonth</th>\n",
       "      <th></th>\n",
       "    </tr>\n",
       "  </thead>\n",
       "  <tbody>\n",
       "    <tr>\n",
       "      <th>2100-06-01</th>\n",
       "      <td>7.0</td>\n",
       "    </tr>\n",
       "    <tr>\n",
       "      <th>2100-07-01</th>\n",
       "      <td>20.0</td>\n",
       "    </tr>\n",
       "    <tr>\n",
       "      <th>2100-08-01</th>\n",
       "      <td>28.0</td>\n",
       "    </tr>\n",
       "    <tr>\n",
       "      <th>2100-09-01</th>\n",
       "      <td>39.0</td>\n",
       "    </tr>\n",
       "    <tr>\n",
       "      <th>2100-10-01</th>\n",
       "      <td>30.0</td>\n",
       "    </tr>\n",
       "  </tbody>\n",
       "</table>\n",
       "</div>"
      ],
      "text/plain": [
       "            day_total\n",
       "admitmonth           \n",
       "2100-06-01        7.0\n",
       "2100-07-01       20.0\n",
       "2100-08-01       28.0\n",
       "2100-09-01       39.0\n",
       "2100-10-01       30.0"
      ]
     },
     "execution_count": 25,
     "metadata": {},
     "output_type": "execute_result"
    }
   ],
   "source": [
    "baseline_month.head()"
   ]
  },
  {
   "cell_type": "code",
   "execution_count": 26,
   "metadata": {},
   "outputs": [
    {
     "data": {
      "text/html": [
       "<div>\n",
       "<style scoped>\n",
       "    .dataframe tbody tr th:only-of-type {\n",
       "        vertical-align: middle;\n",
       "    }\n",
       "\n",
       "    .dataframe tbody tr th {\n",
       "        vertical-align: top;\n",
       "    }\n",
       "\n",
       "    .dataframe thead th {\n",
       "        text-align: right;\n",
       "    }\n",
       "</style>\n",
       "<table border=\"1\" class=\"dataframe\">\n",
       "  <thead>\n",
       "    <tr style=\"text-align: right;\">\n",
       "      <th></th>\n",
       "      <th>ADMITS</th>\n",
       "      <th>MONTH</th>\n",
       "    </tr>\n",
       "    <tr>\n",
       "      <th>admitmonth</th>\n",
       "      <th></th>\n",
       "      <th></th>\n",
       "    </tr>\n",
       "  </thead>\n",
       "  <tbody>\n",
       "    <tr>\n",
       "      <th>2100-06-01</th>\n",
       "      <td>7.0</td>\n",
       "      <td>2100-06-01</td>\n",
       "    </tr>\n",
       "    <tr>\n",
       "      <th>2100-07-01</th>\n",
       "      <td>20.0</td>\n",
       "      <td>2100-07-01</td>\n",
       "    </tr>\n",
       "    <tr>\n",
       "      <th>2100-08-01</th>\n",
       "      <td>28.0</td>\n",
       "      <td>2100-08-01</td>\n",
       "    </tr>\n",
       "    <tr>\n",
       "      <th>2100-09-01</th>\n",
       "      <td>39.0</td>\n",
       "      <td>2100-09-01</td>\n",
       "    </tr>\n",
       "    <tr>\n",
       "      <th>2100-10-01</th>\n",
       "      <td>30.0</td>\n",
       "      <td>2100-10-01</td>\n",
       "    </tr>\n",
       "  </tbody>\n",
       "</table>\n",
       "</div>"
      ],
      "text/plain": [
       "            ADMITS      MONTH\n",
       "admitmonth                   \n",
       "2100-06-01     7.0 2100-06-01\n",
       "2100-07-01    20.0 2100-07-01\n",
       "2100-08-01    28.0 2100-08-01\n",
       "2100-09-01    39.0 2100-09-01\n",
       "2100-10-01    30.0 2100-10-01"
      ]
     },
     "execution_count": 26,
     "metadata": {},
     "output_type": "execute_result"
    }
   ],
   "source": [
    "baseline_month['MONTH'] = baseline_month.index\n",
    "baseline_month.columns = ['ADMITS', 'MONTH']\n",
    "baseline_month['MONTH'] = pd.to_datetime(baseline_month['MONTH'])\n",
    "baseline_month.head()"
   ]
  },
  {
   "cell_type": "markdown",
   "metadata": {},
   "source": [
    "https://www.analyticsvidhya.com/blog/2016/02/time-series-forecasting-codes-python/\n",
    "\n",
    "Most of the TS models work on the assumption that the TS is stationary. Intuitively, we can sat that if a TS has a particular behaviour over time, there is a very high probability that it will follow the same in the future. Also, the theories related to stationary series are more mature and easier to implement as compared to non-stationary series.\n",
    "\n",
    "Stationarity is defined using very strict criterion. However, for practical purposes we can assume the series to be stationary if it has constant statistical properties over time, ie. the following:\n",
    "\n",
    "constant mean\n",
    "constant variance\n",
    "an autocovariance that does not depend on time."
   ]
  },
  {
   "cell_type": "code",
   "execution_count": 67,
   "metadata": {},
   "outputs": [
    {
     "data": {
      "text/plain": [
       "[<matplotlib.lines.Line2D at 0x1f59f682710>]"
      ]
     },
     "execution_count": 67,
     "metadata": {},
     "output_type": "execute_result"
    },
    {
     "data": {
      "image/png": "[encoded data removed]",
      "text/plain": [
       "<Figure size 432x288 with 1 Axes>"
      ]
     },
     "metadata": {},
     "output_type": "display_data"
    }
   ],
   "source": [
    "# check stationarity (i.e. that statistical properties like mean, variance stay constant over time)\n",
    "for_graph = baseline_month[['ADMITS']].copy()\n",
    "for_graph_subset = for_graph['2110-01-01':'2115-12-01']\n",
    "plt.plot(for_graph_subset)"
   ]
  },
  {
   "cell_type": "code",
   "execution_count": 65,
   "metadata": {},
   "outputs": [],
   "source": [
    "from statsmodels.tsa.stattools import adfuller\n",
    "def test_stationarity(timeseries):\n",
    "    \n",
    "    #Determing rolling statistics\n",
    "    #rolmean = pd.rolling(timeseries, window=12)\n",
    "    rolmean = timeseries.rolling(window=12,center=False).mean()\n",
    "    #rolstd = pd.rolling_std(timeseries, window=12)\n",
    "    rolstd = timeseries.rolling(window=12,center=False).std()\n",
    "    \n",
    "    #Plot rolling statistics:\n",
    "    orig = plt.plot(timeseries, color='blue',label='Original')\n",
    "    mean = plt.plot(rolmean, color='red', label='Rolling Mean')\n",
    "    std = plt.plot(rolstd, color='black', label = 'Rolling Std')\n",
    "    plt.legend(loc='best')\n",
    "    plt.title('Rolling Mean & Standard Deviation')\n",
    "    plt.show(block=False)\n",
    "    \n",
    "    #Perform Dickey-Fuller test:\n",
    "    print('Results of Dickey-Fuller Test:')\n",
    "    dftest = adfuller(timeseries['ADMITS'])\n",
    "    dfoutput = pd.Series(dftest[0:4], index=['Test Statistic','p-value','#Lags Used','Number of Observations Used'])\n",
    "    for key,value in dftest[4].items():\n",
    "        dfoutput['Critical Value (%s)'%key] = value\n",
    "    print(dfoutput)"
   ]
  },
  {
   "cell_type": "code",
   "execution_count": 68,
   "metadata": {},
   "outputs": [
    {
     "data": {
      "image/png": "[encoded data removed]",
      "text/plain": [
       "<Figure size 432x288 with 1 Axes>"
      ]
     },
     "metadata": {},
     "output_type": "display_data"
    },
    {
     "name": "stdout",
     "output_type": "stream",
     "text": [
      "Results of Dickey-Fuller Test:\n",
      "Test Statistic                -6.459363e+00\n",
      "p-value                        1.456207e-08\n",
      "#Lags Used                     0.000000e+00\n",
      "Number of Observations Used    7.100000e+01\n",
      "Critical Value (1%)           -3.526005e+00\n",
      "Critical Value (5%)           -2.903200e+00\n",
      "Critical Value (10%)          -2.588995e+00\n",
      "dtype: float64\n"
     ]
    }
   ],
   "source": [
    "test_stationarity(for_graph_subset)"
   ]
  },
  {
   "cell_type": "markdown",
   "metadata": {},
   "source": [
    "Not stationary -- for model, we would need to transform to stationarity; but is that reflective of medical admissions?"
   ]
  },
  {
   "cell_type": "code",
   "execution_count": 69,
   "metadata": {},
   "outputs": [
    {
     "name": "stdout",
     "output_type": "stream",
     "text": [
      "Log Transform\n"
     ]
    },
    {
     "data": {
      "text/plain": [
       "[<matplotlib.lines.Line2D at 0x1f5a00a7cc0>]"
      ]
     },
     "execution_count": 69,
     "metadata": {},
     "output_type": "execute_result"
    },
    {
     "data": {
      "image/png": "[encoded data removed]",
      "text/plain": [
       "<Figure size 432x288 with 1 Axes>"
      ]
     },
     "metadata": {},
     "output_type": "display_data"
    }
   ],
   "source": [
    "ts_log = np.log(for_graph_subset)\n",
    "print(\"Log Transform\")\n",
    "plt.plot(ts_log)"
   ]
  },
  {
   "cell_type": "code",
   "execution_count": 70,
   "metadata": {},
   "outputs": [
    {
     "data": {
      "text/plain": [
       "[<matplotlib.lines.Line2D at 0x1f5a0173358>]"
      ]
     },
     "execution_count": 70,
     "metadata": {},
     "output_type": "execute_result"
    },
    {
     "data": {
      "image/png": "[encoded data removed]",
      "text/plain": [
       "<Figure size 432x288 with 1 Axes>"
      ]
     },
     "metadata": {},
     "output_type": "display_data"
    }
   ],
   "source": [
    "ts_log_diff = ts_log - ts_log.shift()\n",
    "plt.plot(ts_log_diff)"
   ]
  },
  {
   "cell_type": "code",
   "execution_count": 71,
   "metadata": {},
   "outputs": [
    {
     "data": {
      "image/png": "[encoded data removed]",
      "text/plain": [
       "<Figure size 432x288 with 1 Axes>"
      ]
     },
     "metadata": {},
     "output_type": "display_data"
    },
    {
     "name": "stdout",
     "output_type": "stream",
     "text": [
      "Results of Dickey-Fuller Test:\n",
      "Test Statistic                -1.336274e+01\n",
      "p-value                        5.387407e-25\n",
      "#Lags Used                     0.000000e+00\n",
      "Number of Observations Used    7.000000e+01\n",
      "Critical Value (1%)           -3.527426e+00\n",
      "Critical Value (5%)           -2.903811e+00\n",
      "Critical Value (10%)          -2.589320e+00\n",
      "dtype: float64\n"
     ]
    }
   ],
   "source": [
    "ts_log_diff.dropna(inplace=True)\n",
    "test_stationarity(ts_log_diff)"
   ]
  },
  {
   "cell_type": "code",
   "execution_count": 72,
   "metadata": {},
   "outputs": [],
   "source": [
    "#ACF and PACF plots:\n",
    "from statsmodels.tsa.stattools import acf, pacf\n",
    "lag_acf = acf(ts_log_diff, nlags=20)\n",
    "lag_pacf = pacf(ts_log_diff, nlags=20, method='ols')"
   ]
  },
  {
   "cell_type": "code",
   "execution_count": 73,
   "metadata": {},
   "outputs": [
    {
     "data": {
      "text/plain": [
       "Text(0.5,1,'Autocorrelation Function')"
      ]
     },
     "execution_count": 73,
     "metadata": {},
     "output_type": "execute_result"
    },
    {
     "data": {
      "image/png": "[encoded data removed]",
      "text/plain": [
       "<Figure size 432x288 with 1 Axes>"
      ]
     },
     "metadata": {},
     "output_type": "display_data"
    }
   ],
   "source": [
    "#Plot ACF: \n",
    "plt.subplot(121) \n",
    "plt.plot(lag_acf)\n",
    "plt.axhline(y=0,linestyle='--',color='gray')\n",
    "plt.axhline(y=-1.96/np.sqrt(len(ts_log_diff)),linestyle='--',color='gray')\n",
    "plt.axhline(y=1.96/np.sqrt(len(ts_log_diff)),linestyle='--',color='gray')\n",
    "plt.title('Autocorrelation Function')"
   ]
  },
  {
   "cell_type": "code",
   "execution_count": 74,
   "metadata": {},
   "outputs": [
    {
     "data": {
      "image/png": "[encoded data removed]",
      "text/plain": [
       "<Figure size 432x288 with 1 Axes>"
      ]
     },
     "metadata": {},
     "output_type": "display_data"
    }
   ],
   "source": [
    "#Plot PACF:\n",
    "plt.subplot(122)\n",
    "plt.plot(lag_pacf)\n",
    "plt.axhline(y=0,linestyle='--',color='gray')\n",
    "plt.axhline(y=-1.96/np.sqrt(len(ts_log_diff)),linestyle='--',color='gray')\n",
    "plt.axhline(y=1.96/np.sqrt(len(ts_log_diff)),linestyle='--',color='gray')\n",
    "plt.title('Partial Autocorrelation Function')\n",
    "plt.tight_layout()"
   ]
  },
  {
   "cell_type": "code",
   "execution_count": 75,
   "metadata": {},
   "outputs": [],
   "source": [
    "from statsmodels.tsa.arima_model import ARIMA"
   ]
  },
  {
   "cell_type": "code",
   "execution_count": 76,
   "metadata": {},
   "outputs": [
    {
     "name": "stderr",
     "output_type": "stream",
     "text": [
      "C:\\Users\\julie\\Anaconda3\\lib\\site-packages\\statsmodels\\tsa\\base\\tsa_model.py:171: ValueWarning: No frequency information was provided, so inferred frequency MS will be used.\n",
      "  % freq, ValueWarning)\n",
      "C:\\Users\\julie\\Anaconda3\\lib\\site-packages\\statsmodels\\tsa\\base\\tsa_model.py:171: ValueWarning: No frequency information was provided, so inferred frequency MS will be used.\n",
      "  % freq, ValueWarning)\n"
     ]
    },
    {
     "ename": "ValueError",
     "evalue": "Cannot add integral value to Timestamp without freq.",
     "output_type": "error",
     "traceback": [
      "\u001b[1;31m---------------------------------------------------------------------------\u001b[0m",
      "\u001b[1;31mValueError\u001b[0m                                Traceback (most recent call last)",
      "\u001b[1;32m<ipython-input-76-b7eb821943b9>\u001b[0m in \u001b[0;36m<module>\u001b[1;34m()\u001b[0m\n\u001b[0;32m      3\u001b[0m \u001b[0mplt\u001b[0m\u001b[1;33m.\u001b[0m\u001b[0mplot\u001b[0m\u001b[1;33m(\u001b[0m\u001b[0mts_log_diff\u001b[0m\u001b[1;33m)\u001b[0m\u001b[1;33m\u001b[0m\u001b[0m\n\u001b[0;32m      4\u001b[0m \u001b[0mplt\u001b[0m\u001b[1;33m.\u001b[0m\u001b[0mplot\u001b[0m\u001b[1;33m(\u001b[0m\u001b[0mresults_AR\u001b[0m\u001b[1;33m.\u001b[0m\u001b[0mfittedvalues\u001b[0m\u001b[1;33m,\u001b[0m \u001b[0mcolor\u001b[0m\u001b[1;33m=\u001b[0m\u001b[1;34m'red'\u001b[0m\u001b[1;33m)\u001b[0m\u001b[1;33m\u001b[0m\u001b[0m\n\u001b[1;32m----> 5\u001b[1;33m \u001b[0mplt\u001b[0m\u001b[1;33m.\u001b[0m\u001b[0mtitle\u001b[0m\u001b[1;33m(\u001b[0m\u001b[1;34m'RSS: %.4f'\u001b[0m\u001b[1;33m%\u001b[0m \u001b[0msum\u001b[0m\u001b[1;33m(\u001b[0m\u001b[1;33m(\u001b[0m\u001b[0mresults_AR\u001b[0m\u001b[1;33m.\u001b[0m\u001b[0mfittedvalues\u001b[0m\u001b[1;33m-\u001b[0m\u001b[0mts_log_diff\u001b[0m\u001b[1;33m)\u001b[0m\u001b[1;33m**\u001b[0m\u001b[1;36m2\u001b[0m\u001b[1;33m)\u001b[0m\u001b[1;33m)\u001b[0m\u001b[1;33m\u001b[0m\u001b[0m\n\u001b[0m",
      "\u001b[1;32mpandas\\_libs\\tslibs\\timestamps.pyx\u001b[0m in \u001b[0;36mpandas._libs.tslibs.timestamps.Timestamp.__radd__\u001b[1;34m()\u001b[0m\n",
      "\u001b[1;32mpandas\\_libs\\tslibs\\timestamps.pyx\u001b[0m in \u001b[0;36mpandas._libs.tslibs.timestamps._Timestamp.__add__\u001b[1;34m()\u001b[0m\n",
      "\u001b[1;31mValueError\u001b[0m: Cannot add integral value to Timestamp without freq."
     ]
    },
    {
     "data": {
      "image/png": "[encoded data removed]",
      "text/plain": [
       "<Figure size 432x288 with 1 Axes>"
      ]
     },
     "metadata": {},
     "output_type": "display_data"
    }
   ],
   "source": [
    "model = ARIMA(ts_log, order=(2, 1, 0))  \n",
    "results_AR = model.fit(disp=-1)  \n",
    "plt.plot(ts_log_diff)\n",
    "plt.plot(results_AR.fittedvalues, color='red')\n",
    "plt.title('RSS: %.4f'% sum((results_AR.fittedvalues-ts_log_diff)**2))"
   ]
  },
  {
   "cell_type": "code",
   "execution_count": 77,
   "metadata": {},
   "outputs": [
    {
     "name": "stderr",
     "output_type": "stream",
     "text": [
      "C:\\Users\\julie\\Anaconda3\\lib\\site-packages\\statsmodels\\tsa\\base\\tsa_model.py:171: ValueWarning: No frequency information was provided, so inferred frequency MS will be used.\n",
      "  % freq, ValueWarning)\n",
      "C:\\Users\\julie\\Anaconda3\\lib\\site-packages\\statsmodels\\tsa\\base\\tsa_model.py:171: ValueWarning: No frequency information was provided, so inferred frequency MS will be used.\n",
      "  % freq, ValueWarning)\n"
     ]
    },
    {
     "ename": "ValueError",
     "evalue": "Cannot add integral value to Timestamp without freq.",
     "output_type": "error",
     "traceback": [
      "\u001b[1;31m---------------------------------------------------------------------------\u001b[0m",
      "\u001b[1;31mValueError\u001b[0m                                Traceback (most recent call last)",
      "\u001b[1;32m<ipython-input-77-c78ebb5ef8ba>\u001b[0m in \u001b[0;36m<module>\u001b[1;34m()\u001b[0m\n\u001b[0;32m      3\u001b[0m \u001b[0mplt\u001b[0m\u001b[1;33m.\u001b[0m\u001b[0mplot\u001b[0m\u001b[1;33m(\u001b[0m\u001b[0mts_log_diff\u001b[0m\u001b[1;33m)\u001b[0m\u001b[1;33m\u001b[0m\u001b[0m\n\u001b[0;32m      4\u001b[0m \u001b[0mplt\u001b[0m\u001b[1;33m.\u001b[0m\u001b[0mplot\u001b[0m\u001b[1;33m(\u001b[0m\u001b[0mresults_MA\u001b[0m\u001b[1;33m.\u001b[0m\u001b[0mfittedvalues\u001b[0m\u001b[1;33m,\u001b[0m \u001b[0mcolor\u001b[0m\u001b[1;33m=\u001b[0m\u001b[1;34m'red'\u001b[0m\u001b[1;33m)\u001b[0m\u001b[1;33m\u001b[0m\u001b[0m\n\u001b[1;32m----> 5\u001b[1;33m \u001b[0mplt\u001b[0m\u001b[1;33m.\u001b[0m\u001b[0mtitle\u001b[0m\u001b[1;33m(\u001b[0m\u001b[1;34m'RSS: %.4f'\u001b[0m\u001b[1;33m%\u001b[0m \u001b[0msum\u001b[0m\u001b[1;33m(\u001b[0m\u001b[1;33m(\u001b[0m\u001b[0mresults_MA\u001b[0m\u001b[1;33m.\u001b[0m\u001b[0mfittedvalues\u001b[0m\u001b[1;33m-\u001b[0m\u001b[0mts_log_diff\u001b[0m\u001b[1;33m)\u001b[0m\u001b[1;33m**\u001b[0m\u001b[1;36m2\u001b[0m\u001b[1;33m)\u001b[0m\u001b[1;33m)\u001b[0m\u001b[1;33m\u001b[0m\u001b[0m\n\u001b[0m",
      "\u001b[1;32mpandas\\_libs\\tslibs\\timestamps.pyx\u001b[0m in \u001b[0;36mpandas._libs.tslibs.timestamps.Timestamp.__radd__\u001b[1;34m()\u001b[0m\n",
      "\u001b[1;32mpandas\\_libs\\tslibs\\timestamps.pyx\u001b[0m in \u001b[0;36mpandas._libs.tslibs.timestamps._Timestamp.__add__\u001b[1;34m()\u001b[0m\n",
      "\u001b[1;31mValueError\u001b[0m: Cannot add integral value to Timestamp without freq."
     ]
    },
    {
     "data": {
      "image/png": "[encoded data removed]",
      "text/plain": [
       "<Figure size 432x288 with 1 Axes>"
      ]
     },
     "metadata": {},
     "output_type": "display_data"
    }
   ],
   "source": [
    "model = ARIMA(ts_log, order=(0, 1, 2))  \n",
    "results_MA = model.fit(disp=-1)  \n",
    "plt.plot(ts_log_diff)\n",
    "plt.plot(results_MA.fittedvalues, color='red')\n",
    "plt.title('RSS: %.4f'% sum((results_MA.fittedvalues-ts_log_diff)**2))"
   ]
  },
  {
   "cell_type": "code",
   "execution_count": 78,
   "metadata": {},
   "outputs": [
    {
     "name": "stderr",
     "output_type": "stream",
     "text": [
      "C:\\Users\\julie\\Anaconda3\\lib\\site-packages\\statsmodels\\tsa\\base\\tsa_model.py:171: ValueWarning: No frequency information was provided, so inferred frequency MS will be used.\n",
      "  % freq, ValueWarning)\n",
      "C:\\Users\\julie\\Anaconda3\\lib\\site-packages\\statsmodels\\tsa\\base\\tsa_model.py:171: ValueWarning: No frequency information was provided, so inferred frequency MS will be used.\n",
      "  % freq, ValueWarning)\n",
      "C:\\Users\\julie\\Anaconda3\\lib\\site-packages\\statsmodels\\base\\model.py:488: HessianInversionWarning: Inverting hessian failed, no bse or cov_params available\n",
      "  'available', HessianInversionWarning)\n"
     ]
    },
    {
     "ename": "ValueError",
     "evalue": "Cannot add integral value to Timestamp without freq.",
     "output_type": "error",
     "traceback": [
      "\u001b[1;31m---------------------------------------------------------------------------\u001b[0m",
      "\u001b[1;31mValueError\u001b[0m                                Traceback (most recent call last)",
      "\u001b[1;32m<ipython-input-78-4bf5687b87d8>\u001b[0m in \u001b[0;36m<module>\u001b[1;34m()\u001b[0m\n\u001b[0;32m      3\u001b[0m \u001b[0mplt\u001b[0m\u001b[1;33m.\u001b[0m\u001b[0mplot\u001b[0m\u001b[1;33m(\u001b[0m\u001b[0mts_log_diff\u001b[0m\u001b[1;33m)\u001b[0m\u001b[1;33m\u001b[0m\u001b[0m\n\u001b[0;32m      4\u001b[0m \u001b[0mplt\u001b[0m\u001b[1;33m.\u001b[0m\u001b[0mplot\u001b[0m\u001b[1;33m(\u001b[0m\u001b[0mresults_ARIMA\u001b[0m\u001b[1;33m.\u001b[0m\u001b[0mfittedvalues\u001b[0m\u001b[1;33m,\u001b[0m \u001b[0mcolor\u001b[0m\u001b[1;33m=\u001b[0m\u001b[1;34m'red'\u001b[0m\u001b[1;33m)\u001b[0m\u001b[1;33m\u001b[0m\u001b[0m\n\u001b[1;32m----> 5\u001b[1;33m \u001b[0mplt\u001b[0m\u001b[1;33m.\u001b[0m\u001b[0mtitle\u001b[0m\u001b[1;33m(\u001b[0m\u001b[1;34m'RSS: %.4f'\u001b[0m\u001b[1;33m%\u001b[0m \u001b[0msum\u001b[0m\u001b[1;33m(\u001b[0m\u001b[1;33m(\u001b[0m\u001b[0mresults_ARIMA\u001b[0m\u001b[1;33m.\u001b[0m\u001b[0mfittedvalues\u001b[0m\u001b[1;33m-\u001b[0m\u001b[0mts_log_diff\u001b[0m\u001b[1;33m)\u001b[0m\u001b[1;33m**\u001b[0m\u001b[1;36m2\u001b[0m\u001b[1;33m)\u001b[0m\u001b[1;33m)\u001b[0m\u001b[1;33m\u001b[0m\u001b[0m\n\u001b[0m",
      "\u001b[1;32mpandas\\_libs\\tslibs\\timestamps.pyx\u001b[0m in \u001b[0;36mpandas._libs.tslibs.timestamps.Timestamp.__radd__\u001b[1;34m()\u001b[0m\n",
      "\u001b[1;32mpandas\\_libs\\tslibs\\timestamps.pyx\u001b[0m in \u001b[0;36mpandas._libs.tslibs.timestamps._Timestamp.__add__\u001b[1;34m()\u001b[0m\n",
      "\u001b[1;31mValueError\u001b[0m: Cannot add integral value to Timestamp without freq."
     ]
    },
    {
     "data": {
      "image/png": "[encoded data removed]",
      "text/plain": [
       "<Figure size 432x288 with 1 Axes>"
      ]
     },
     "metadata": {},
     "output_type": "display_data"
    }
   ],
   "source": [
    "model = ARIMA(ts_log, order=(2, 1, 2))  \n",
    "results_ARIMA = model.fit(disp=-1)  \n",
    "plt.plot(ts_log_diff)\n",
    "plt.plot(results_ARIMA.fittedvalues, color='red')\n",
    "plt.title('RSS: %.4f'% sum((results_ARIMA.fittedvalues-ts_log_diff)**2))"
   ]
  },
  {
   "cell_type": "code",
   "execution_count": 80,
   "metadata": {},
   "outputs": [
    {
     "data": {
      "text/plain": [
       "admitmonth\n",
       "2110-02-01    0.000864\n",
       "2110-03-01   -0.071209\n",
       "2110-04-01   -0.060007\n",
       "2110-05-01   -0.111352\n",
       "2110-06-01   -0.149825\n",
       "dtype: float64"
      ]
     },
     "execution_count": 80,
     "metadata": {},
     "output_type": "execute_result"
    }
   ],
   "source": [
    "predictions_ARIMA_diff = pd.Series(results_ARIMA.fittedvalues, copy=True)\n",
    "predictions_ARIMA_diff.head()"
   ]
  },
  {
   "cell_type": "code",
   "execution_count": 81,
   "metadata": {},
   "outputs": [
    {
     "data": {
      "text/plain": [
       "admitmonth\n",
       "2110-02-01    0.000864\n",
       "2110-03-01   -0.070344\n",
       "2110-04-01   -0.130351\n",
       "2110-05-01   -0.241704\n",
       "2110-06-01   -0.391528\n",
       "dtype: float64"
      ]
     },
     "execution_count": 81,
     "metadata": {},
     "output_type": "execute_result"
    }
   ],
   "source": [
    "predictions_ARIMA_diff_cumsum = predictions_ARIMA_diff.cumsum()\n",
    "predictions_ARIMA_diff_cumsum.head()"
   ]
  },
  {
   "cell_type": "code",
   "execution_count": 82,
   "metadata": {},
   "outputs": [
    {
     "name": "stderr",
     "output_type": "stream",
     "text": [
      "C:\\Users\\julie\\Anaconda3\\lib\\site-packages\\ipykernel_launcher.py:1: DeprecationWarning: \n",
      ".ix is deprecated. Please use\n",
      ".loc for label based indexing or\n",
      ".iloc for positional indexing\n",
      "\n",
      "See the documentation here:\n",
      "http://pandas.pydata.org/pandas-docs/stable/indexing.html#ix-indexer-is-deprecated\n",
      "  \"\"\"Entry point for launching an IPython kernel.\n"
     ]
    },
    {
     "data": {
      "text/plain": [
       "admitmonth\n",
       "2110-01-01         NaN\n",
       "2110-02-01    0.000864\n",
       "2110-03-01   -0.070344\n",
       "2110-04-01   -0.130351\n",
       "2110-05-01   -0.241704\n",
       "dtype: float64"
      ]
     },
     "execution_count": 82,
     "metadata": {},
     "output_type": "execute_result"
    }
   ],
   "source": [
    "predictions_ARIMA_log = pd.Series(ts_log.ix[0], index=ts_log.index)\n",
    "predictions_ARIMA_log = predictions_ARIMA_log.add(predictions_ARIMA_diff_cumsum,fill_value=0)\n",
    "predictions_ARIMA_log.head()"
   ]
  },
  {
   "cell_type": "code",
   "execution_count": 84,
   "metadata": {},
   "outputs": [
    {
     "ename": "NameError",
     "evalue": "name 'ts' is not defined",
     "output_type": "error",
     "traceback": [
      "\u001b[1;31m---------------------------------------------------------------------------\u001b[0m",
      "\u001b[1;31mNameError\u001b[0m                                 Traceback (most recent call last)",
      "\u001b[1;32m<ipython-input-84-a33756844ffa>\u001b[0m in \u001b[0;36m<module>\u001b[1;34m()\u001b[0m\n\u001b[0;32m      2\u001b[0m \u001b[0mplt\u001b[0m\u001b[1;33m.\u001b[0m\u001b[0mplot\u001b[0m\u001b[1;33m(\u001b[0m\u001b[0mfor_graph_subset\u001b[0m\u001b[1;33m)\u001b[0m\u001b[1;33m\u001b[0m\u001b[0m\n\u001b[0;32m      3\u001b[0m \u001b[0mplt\u001b[0m\u001b[1;33m.\u001b[0m\u001b[0mplot\u001b[0m\u001b[1;33m(\u001b[0m\u001b[0mpredictions_ARIMA\u001b[0m\u001b[1;33m)\u001b[0m\u001b[1;33m\u001b[0m\u001b[0m\n\u001b[1;32m----> 4\u001b[1;33m \u001b[0mplt\u001b[0m\u001b[1;33m.\u001b[0m\u001b[0mtitle\u001b[0m\u001b[1;33m(\u001b[0m\u001b[1;34m'RMSE: %.4f'\u001b[0m\u001b[1;33m%\u001b[0m \u001b[0mnp\u001b[0m\u001b[1;33m.\u001b[0m\u001b[0msqrt\u001b[0m\u001b[1;33m(\u001b[0m\u001b[0msum\u001b[0m\u001b[1;33m(\u001b[0m\u001b[1;33m(\u001b[0m\u001b[0mpredictions_ARIMA\u001b[0m\u001b[1;33m-\u001b[0m\u001b[0mts\u001b[0m\u001b[1;33m)\u001b[0m\u001b[1;33m**\u001b[0m\u001b[1;36m2\u001b[0m\u001b[1;33m)\u001b[0m\u001b[1;33m/\u001b[0m\u001b[0mlen\u001b[0m\u001b[1;33m(\u001b[0m\u001b[0mts\u001b[0m\u001b[1;33m)\u001b[0m\u001b[1;33m)\u001b[0m\u001b[1;33m)\u001b[0m\u001b[1;33m\u001b[0m\u001b[0m\n\u001b[0m",
      "\u001b[1;31mNameError\u001b[0m: name 'ts' is not defined"
     ]
    },
    {
     "data": {
      "image/png": "[encoded data removed]",
      "text/plain": [
       "<Figure size 432x288 with 1 Axes>"
      ]
     },
     "metadata": {},
     "output_type": "display_data"
    }
   ],
   "source": [
    "predictions_ARIMA = np.exp(predictions_ARIMA_log)\n",
    "plt.plot(for_graph_subset)\n",
    "plt.plot(predictions_ARIMA)\n",
    "plt.title('RMSE: %.4f'% np.sqrt(sum((predictions_ARIMA-ts)**2)/len(ts)))"
   ]
  },
  {
   "cell_type": "code",
   "execution_count": null,
   "metadata": {},
   "outputs": [],
   "source": []
  }
 ],
 "metadata": {
  "kernelspec": {
   "display_name": "Python 3",
   "language": "python",
   "name": "python3"
  },
  "language_info": {
   "codemirror_mode": {
    "name": "ipython",
    "version": 3
   },
   "file_extension": ".py",
   "mimetype": "text/x-python",
   "name": "python",
   "nbconvert_exporter": "python",
   "pygments_lexer": "ipython3",
   "version": "3.6.5"
  }
 },
 "nbformat": 4,
 "nbformat_minor": 2
}
