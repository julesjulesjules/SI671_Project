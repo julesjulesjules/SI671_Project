{
 "cells": [
  {
   "cell_type": "code",
   "execution_count": 1,
   "metadata": {},
   "outputs": [],
   "source": [
    "import pandas as pd\n",
    "import numpy as np\n",
    "import scipy as sp\n",
    "import sklearn as sk\n",
    "from sklearn.model_selection import train_test_split\n",
    "from sklearn.model_selection import cross_val_score\n",
    "import sklearn.ensemble as skens\n",
    "import sklearn.metrics as skmetric\n",
    "import sklearn.naive_bayes as sknb\n",
    "import sklearn.tree as sktree\n",
    "import matplotlib.pyplot as plt\n",
    "%matplotlib inline\n",
    "import seaborn as sns\n",
    "sns.set(style='white', color_codes=True, font_scale=1.3)\n",
    "import sklearn.externals.six as sksix\n",
    "import IPython.display as ipd\n",
    "from sklearn.model_selection import cross_val_score\n",
    "from sklearn import metrics\n",
    "import os\n",
    "from sklearn.model_selection import GridSearchCV\n",
    "from sklearn.metrics import accuracy_score"
   ]
  },
  {
   "cell_type": "markdown",
   "metadata": {},
   "source": [
    "## ADMISSIONS + DIAGNOSIS"
   ]
  },
  {
   "cell_type": "code",
   "execution_count": 2,
   "metadata": {},
   "outputs": [],
   "source": [
    "diag = pd.read_csv(\"ad_diag.csv\") # read in csv file\n",
    "# create 3 new columns breaking out ICD9 code\n",
    "diag['FIRST_ICD9_DIAGNOSIS'] = np.where(diag['SEQ_NUM'] == 1, diag['ICD9_CODE'], 0)\n",
    "diag['SECOND_ICD9_DIAGNOSIS'] = np.where(diag['SEQ_NUM'] == 2, diag['ICD9_CODE'], 0)\n",
    "diag['THIRD_ICD9_DIAGNOSIS'] = np.where(diag['SEQ_NUM'] == 3, diag['ICD9_CODE'], 0)\n",
    "# only take necessary columns\n",
    "diag_condense = diag[['SUBJECT_ID', 'HADM_ID', 'SEQ_NUM', 'FIRST_ICD9_DIAGNOSIS', 'SECOND_ICD9_DIAGNOSIS', 'THIRD_ICD9_DIAGNOSIS']].copy()\n",
    "# only choose rows corresponding to first, second, and third assigned ICD9 code\n",
    "diag_c = diag_condense[(diag_condense['SEQ_NUM'] < 4)]"
   ]
  },
  {
   "cell_type": "code",
   "execution_count": 69,
   "metadata": {},
   "outputs": [
    {
     "data": {
      "text/html": [
       "<div>\n",
       "<style scoped>\n",
       "    .dataframe tbody tr th:only-of-type {\n",
       "        vertical-align: middle;\n",
       "    }\n",
       "\n",
       "    .dataframe tbody tr th {\n",
       "        vertical-align: top;\n",
       "    }\n",
       "\n",
       "    .dataframe thead th {\n",
       "        text-align: right;\n",
       "    }\n",
       "</style>\n",
       "<table border=\"1\" class=\"dataframe\">\n",
       "  <thead>\n",
       "    <tr style=\"text-align: right;\">\n",
       "      <th></th>\n",
       "      <th>SUBJECT_ID</th>\n",
       "      <th>HADM_ID</th>\n",
       "      <th>SEQ_NUM</th>\n",
       "      <th>FIRST_ICD9_DIAGNOSIS</th>\n",
       "      <th>SECOND_ICD9_DIAGNOSIS</th>\n",
       "      <th>THIRD_ICD9_DIAGNOSIS</th>\n",
       "    </tr>\n",
       "  </thead>\n",
       "  <tbody>\n",
       "    <tr>\n",
       "      <th>0</th>\n",
       "      <td>22</td>\n",
       "      <td>165315</td>\n",
       "      <td>1.0</td>\n",
       "      <td>9678</td>\n",
       "      <td>0</td>\n",
       "      <td>0</td>\n",
       "    </tr>\n",
       "    <tr>\n",
       "      <th>1</th>\n",
       "      <td>22</td>\n",
       "      <td>165315</td>\n",
       "      <td>2.0</td>\n",
       "      <td>0</td>\n",
       "      <td>9693</td>\n",
       "      <td>0</td>\n",
       "    </tr>\n",
       "    <tr>\n",
       "      <th>2</th>\n",
       "      <td>22</td>\n",
       "      <td>165315</td>\n",
       "      <td>3.0</td>\n",
       "      <td>0</td>\n",
       "      <td>0</td>\n",
       "      <td>E9502</td>\n",
       "    </tr>\n",
       "    <tr>\n",
       "      <th>7</th>\n",
       "      <td>23</td>\n",
       "      <td>124321</td>\n",
       "      <td>1.0</td>\n",
       "      <td>2252</td>\n",
       "      <td>0</td>\n",
       "      <td>0</td>\n",
       "    </tr>\n",
       "    <tr>\n",
       "      <th>8</th>\n",
       "      <td>23</td>\n",
       "      <td>124321</td>\n",
       "      <td>2.0</td>\n",
       "      <td>0</td>\n",
       "      <td>3485</td>\n",
       "      <td>0</td>\n",
       "    </tr>\n",
       "  </tbody>\n",
       "</table>\n",
       "</div>"
      ],
      "text/plain": [
       "   SUBJECT_ID  HADM_ID  SEQ_NUM FIRST_ICD9_DIAGNOSIS SECOND_ICD9_DIAGNOSIS  \\\n",
       "0          22   165315      1.0                 9678                     0   \n",
       "1          22   165315      2.0                    0                  9693   \n",
       "2          22   165315      3.0                    0                     0   \n",
       "7          23   124321      1.0                 2252                     0   \n",
       "8          23   124321      2.0                    0                  3485   \n",
       "\n",
       "  THIRD_ICD9_DIAGNOSIS  \n",
       "0                    0  \n",
       "1                    0  \n",
       "2                E9502  \n",
       "7                    0  \n",
       "8                    0  "
      ]
     },
     "execution_count": 69,
     "metadata": {},
     "output_type": "execute_result"
    }
   ],
   "source": [
    "diag_c.head()"
   ]
  },
  {
   "cell_type": "markdown",
   "metadata": {},
   "source": [
    "## Looking at ICD Frequency Within the Data"
   ]
  },
  {
   "cell_type": "code",
   "execution_count": 86,
   "metadata": {},
   "outputs": [],
   "source": [
    "def icd_freq(dataset, cn):\n",
    "    count_dict = {}\n",
    "    for index, row in dataset.iterrows():\n",
    "        #if row[cn] != '0' or 0:\n",
    "        if row[cn] not in count_dict: \n",
    "            count_dict[row[cn]] = 0\n",
    "        count_dict[row[cn]] = count_dict[row[cn]] + 1\n",
    "    return((count_dict, len(dataset)))"
   ]
  },
  {
   "cell_type": "code",
   "execution_count": 87,
   "metadata": {},
   "outputs": [],
   "source": [
    "def top_percent(freq_tup, perc):\n",
    "    threshold = freq_tup[1] * perc\n",
    "    # change it to a dataframe\n",
    "    ww = pd.Series(freq_tup[0]).to_frame()\n",
    "    ww.head()\n",
    "    ww['ICD9'] = ww.index\n",
    "    ww.columns = ['COUNT', 'ICD9']\n",
    "    # sort it (greatest to least)\n",
    "    ww.sort_values(by='COUNT', ascending=False)\n",
    "    # work through until sum is > or == threshold\n",
    "    sum_count = 0\n",
    "    icds_in_count = []\n",
    "    for index, row in ww.iterrows(): \n",
    "        if sum_count < threshold: \n",
    "            sum_count = sum_count + row[0]\n",
    "            icds_in_count.append(row[1])\n",
    "    return(icds_in_count)"
   ]
  },
  {
   "cell_type": "code",
   "execution_count": 88,
   "metadata": {},
   "outputs": [
    {
     "data": {
      "text/plain": [
       "['9678',\n",
       " '9693',\n",
       " 'E9502',\n",
       " 'E9503',\n",
       " '3488',\n",
       " '29620',\n",
       " '4019',\n",
       " '2252',\n",
       " '3485',\n",
       " '78039',\n",
       " '4241',\n",
       " '2720',\n",
       " '2724',\n",
       " 'V4581',\n",
       " 'V4579',\n",
       " 'V1582',\n",
       " '41041',\n",
       " '41401',\n",
       " '53081']"
      ]
     },
     "execution_count": 88,
     "metadata": {},
     "output_type": "execute_result"
    }
   ],
   "source": [
    "full = icd_freq(diag, 3)\n",
    "all_icd = top_percent(full, 0.1)\n",
    "all_icd"
   ]
  },
  {
   "cell_type": "code",
   "execution_count": 95,
   "metadata": {},
   "outputs": [],
   "source": [
    "first = icd_freq(icd_one, 0)"
   ]
  },
  {
   "cell_type": "code",
   "execution_count": 96,
   "metadata": {},
   "outputs": [
    {
     "data": {
      "text/plain": [
       "['9678',\n",
       " '2252',\n",
       " '41041',\n",
       " '41071',\n",
       " '99604',\n",
       " '99674',\n",
       " '3453',\n",
       " '0389',\n",
       " '42789',\n",
       " '41401']"
      ]
     },
     "execution_count": 96,
     "metadata": {},
     "output_type": "execute_result"
    }
   ],
   "source": [
    "firsta_icd = top_percent(first, 0.1)\n",
    "firsta_icd"
   ]
  },
  {
   "cell_type": "code",
   "execution_count": 97,
   "metadata": {},
   "outputs": [
    {
     "data": {
      "text/plain": [
       "['9693',\n",
       " '3485',\n",
       " '41401',\n",
       " '25011',\n",
       " '4271',\n",
       " '4160',\n",
       " '20190',\n",
       " '4928',\n",
       " '4280',\n",
       " '42822',\n",
       " '4111',\n",
       " '99811',\n",
       " '0389',\n",
       " '5722',\n",
       " '03810',\n",
       " '78559',\n",
       " '3453',\n",
       " 'E9102',\n",
       " '5849']"
      ]
     },
     "execution_count": 97,
     "metadata": {},
     "output_type": "execute_result"
    }
   ],
   "source": [
    "second = icd_freq(icd_two, 0)\n",
    "seconda_icd = top_percent(second, 0.1)\n",
    "seconda_icd"
   ]
  },
  {
   "cell_type": "code",
   "execution_count": 98,
   "metadata": {},
   "outputs": [],
   "source": [
    "third = icd_freq(icd_three, 0)\n",
    "thirda_icd = top_percent(third, 0.1)"
   ]
  },
  {
   "cell_type": "code",
   "execution_count": 99,
   "metadata": {},
   "outputs": [
    {
     "data": {
      "text/plain": [
       "['E9502',\n",
       " '78039',\n",
       " '53081',\n",
       " '41401',\n",
       " '4280',\n",
       " '4111',\n",
       " '515',\n",
       " '49390',\n",
       " '4254',\n",
       " '4263',\n",
       " '496',\n",
       " '41511',\n",
       " '99592',\n",
       " '2867',\n",
       " '5849']"
      ]
     },
     "execution_count": 99,
     "metadata": {},
     "output_type": "execute_result"
    }
   ],
   "source": [
    "thirda_icd"
   ]
  },
  {
   "cell_type": "markdown",
   "metadata": {},
   "source": [
    "## ADMISSIONS + PATIENTS"
   ]
  },
  {
   "cell_type": "code",
   "execution_count": 4,
   "metadata": {},
   "outputs": [],
   "source": [
    "pat = pd.read_csv('AD_PAT.csv')\n",
    "# change ADMITTIME and DISCHTIME to datetime objects to make\n",
    "# a new column for length of stay\n",
    "pat['ADMITTIME'] = pd.to_datetime(pat['ADMITTIME'])\n",
    "pat['DISCHTIME'] = pd.to_datetime(pat['DISCHTIME'])\n",
    "pat['LENGTHOFSTAY'] = pat['DISCHTIME'] - pat['ADMITTIME']\n",
    "pat['LENGTHOFSTAY_DAYS'] = [d.days for d in pat['LENGTHOFSTAY']]"
   ]
  },
  {
   "cell_type": "markdown",
   "metadata": {},
   "source": [
    "## ADMISSIONS + ICU"
   ]
  },
  {
   "cell_type": "code",
   "execution_count": 5,
   "metadata": {},
   "outputs": [],
   "source": [
    "icu = pd.read_csv('AD_ICU_PLACE.csv')\n",
    "icu = icu[['SUBJECT_ID', 'HADM_ID', 'ICUFIRSTCAREUNIT', 'ICULASTCAREUNIT', 'ICUFIRSTWARDID', 'ICULASTWARDID','ICU_LOS']]\n",
    "icu['SAMECARE'] = np.where(icu.ICUFIRSTCAREUNIT == icu.ICULASTCAREUNIT, 1, 0)\n",
    "icu['SAMEWARD'] = np.where(icu.ICUFIRSTWARDID == icu.ICULASTWARDID, 1, 0)"
   ]
  },
  {
   "cell_type": "markdown",
   "metadata": {},
   "source": [
    "## ADMISSIONS + CHART EVENTS (MIN/FIRST)"
   ]
  },
  {
   "cell_type": "code",
   "execution_count": 6,
   "metadata": {},
   "outputs": [],
   "source": [
    "ce_min = pd.read_csv('AD_CE_MIN.csv')\n",
    "ce_min = ce_min[['SUBJECT_ID', 'HADM_ID', 'ITEMID', 'VALUE', 'VALUENUM']]\n",
    "ce_min.columns = ['SUBJECT_ID', 'HADM_ID', 'FIRST_ITEMID', 'FIRST_VALUE', 'FIRST_VALUENUM']\n",
    "\n",
    "categories = []\n",
    "for index, row in ce_min.iterrows():\n",
    "    try:\n",
    "        int(row[3])\n",
    "        categories.append(0)\n",
    "    except:\n",
    "        categories.append(row[3])\n",
    "\n",
    "categories_final = []\n",
    "for each in categories:\n",
    "    try:\n",
    "        float(each)\n",
    "        categories_final.append(0)\n",
    "    except:\n",
    "        categories_final.append(each)\n",
    "ce_min['FIRST_CATEGORY'] = categories_final\n",
    "\n",
    "ce_min['FIRST_NUMBER'] = np.where(ce_min['FIRST_CATEGORY'] == 0, ce_min['FIRST_VALUE'], 0)\n",
    "ce_min = ce_min[['SUBJECT_ID', 'HADM_ID', 'FIRST_ITEMID', 'FIRST_CATEGORY', 'FIRST_NUMBER']].copy()\n",
    "grouped = ce_min[['FIRST_ITEMID', 'FIRST_CATEGORY']].copy()\n",
    "grouped = grouped.drop_duplicates().sort_values(by=['FIRST_ITEMID'])\n",
    "\n",
    "n = 0\n",
    "m = 1\n",
    "store = []\n",
    "labels = []\n",
    "for index, row in grouped.iterrows():\n",
    "    if n == 0:\n",
    "        store.append(row[0])\n",
    "        labels.append(m)\n",
    "    else:\n",
    "        if row[0] != store[n-1]:\n",
    "            m = 1\n",
    "            labels.append(m)\n",
    "            store.append(row[0])\n",
    "        else:\n",
    "            labels.append(m)\n",
    "            store.append(row[0])\n",
    "    n = n + 1\n",
    "    m = m + 1\n",
    "\n",
    "grouped['CATS'] = labels\n",
    "\n",
    "together = ce_min.merge(grouped, left_on = ['FIRST_ITEMID', 'FIRST_CATEGORY'], right_on = ['FIRST_ITEMID', 'FIRST_CATEGORY'])\n",
    "together = together[['SUBJECT_ID', 'HADM_ID', 'FIRST_ITEMID', 'CATS', 'FIRST_NUMBER']]\n",
    "together['FIRST_ITEMID2'] = np.where(together.FIRST_ITEMID == 'None', -1, together.FIRST_ITEMID)\n"
   ]
  },
  {
   "cell_type": "markdown",
   "metadata": {},
   "source": [
    "## ADMISSIONS + CHART EVENTS (MAX/LAST)"
   ]
  },
  {
   "cell_type": "code",
   "execution_count": 7,
   "metadata": {},
   "outputs": [],
   "source": [
    "ce_max = pd.read_csv('AD_CE_MAX.csv')\n",
    "ce_max = ce_max[['SUBJECT_ID', 'HADM_ID', 'ITEMID', 'VALUE', 'VALUENUM']]\n",
    "ce_max.columns = ['SUBJECT_ID', 'HADM_ID', 'LAST_ITEMID', 'LAST_VALUE', 'LAST_VALUENUM']\n",
    "\n",
    "categories = []\n",
    "for index, row in ce_max.iterrows():\n",
    "    try:\n",
    "        int(row[3])\n",
    "        categories.append(0)\n",
    "    except:\n",
    "        categories.append(row[3])\n",
    "\n",
    "categories_final = []\n",
    "for each in categories:\n",
    "    try:\n",
    "        float(each)\n",
    "        categories_final.append(0)\n",
    "    except:\n",
    "        categories_final.append(each)\n",
    "ce_max['LAST_CATEGORY'] = categories_final\n",
    "\n",
    "ce_max['LAST_NUMBER'] = np.where(ce_max['LAST_CATEGORY'] == 0, ce_max['LAST_VALUE'], 0)\n",
    "ce_max = ce_max[['SUBJECT_ID', 'HADM_ID', 'LAST_ITEMID', 'LAST_CATEGORY', 'LAST_NUMBER']].copy()\n",
    "grouped = ce_max[['LAST_ITEMID', 'LAST_CATEGORY']].copy()\n",
    "grouped = grouped.drop_duplicates().sort_values(by=['LAST_ITEMID'])\n",
    "\n",
    "n = 0\n",
    "m = 1\n",
    "store = []\n",
    "labels = []\n",
    "for index, row in grouped.iterrows():\n",
    "    if n == 0:\n",
    "        store.append(row[0])\n",
    "        labels.append(m)\n",
    "    else:\n",
    "        if row[0] != store[n-1]:\n",
    "            m = 1\n",
    "            labels.append(m)\n",
    "            store.append(row[0])\n",
    "        else:\n",
    "            labels.append(m)\n",
    "            store.append(row[0])\n",
    "    n = n + 1\n",
    "    m = m + 1\n",
    "\n",
    "grouped['LAST_CATS'] = labels\n",
    "\n",
    "together_max = ce_max.merge(grouped, left_on = ['LAST_ITEMID', 'LAST_CATEGORY'], right_on = ['LAST_ITEMID', 'LAST_CATEGORY'])\n",
    "together_max = together_max[['SUBJECT_ID', 'HADM_ID', 'LAST_ITEMID', 'LAST_CATS', 'LAST_NUMBER']]\n",
    "together_max['LAST_ITEMID2'] = np.where(together_max.LAST_ITEMID == 'None', -1, together_max.LAST_ITEMID)\n"
   ]
  },
  {
   "cell_type": "code",
   "execution_count": 7,
   "metadata": {},
   "outputs": [
    {
     "name": "stdout",
     "output_type": "stream",
     "text": [
      "129210\n",
      "43407\n",
      "96405\n",
      "43407\n",
      "43407\n"
     ]
    }
   ],
   "source": [
    "## BUT FIRST, CHECK LENGTHS OF DATA\n",
    "print(len(diag_c))\n",
    "print(len(pat))\n",
    "print(len(icu))\n",
    "print(len(together))\n",
    "print(len(together_max))"
   ]
  },
  {
   "cell_type": "markdown",
   "metadata": {},
   "source": [
    "## MERGE INTO ONE DATASET TO USE FOR PREDICTIONS"
   ]
  },
  {
   "cell_type": "code",
   "execution_count": 8,
   "metadata": {},
   "outputs": [],
   "source": [
    "diag_pat = diag_c.merge(pat, on=['SUBJECT_ID', 'HADM_ID'])\n",
    "dp_icu = diag_pat.merge(icu, on=['SUBJECT_ID', 'HADM_ID'])\n",
    "dpi_ce_min = dp_icu.merge(together, on=['SUBJECT_ID', 'HADM_ID'])\n",
    "dpicm_cm = dpi_ce_min.merge(together_max, on=['SUBJECT_ID', 'HADM_ID'])"
   ]
  },
  {
   "cell_type": "code",
   "execution_count": 9,
   "metadata": {},
   "outputs": [
    {
     "name": "stdout",
     "output_type": "stream",
     "text": [
      "287932\n",
      "['EMERGENCY' 'URGENT']\n"
     ]
    },
    {
     "data": {
      "text/plain": [
       "Index(['SUBJECT_ID', 'HADM_ID', 'SEQ_NUM', 'FIRST_ICD9_DIAGNOSIS',\n",
       "       'SECOND_ICD9_DIAGNOSIS', 'THIRD_ICD9_DIAGNOSIS', 'ADMITTIME',\n",
       "       'DISCHTIME', 'LANGUAGE', 'RELIGION', 'MARITAL_STATUS', 'ETHNICITY',\n",
       "       'ADMISSIONTYPE', 'DIAGNOSIS', 'GENDER', 'LENGTHOFSTAY',\n",
       "       'LENGTHOFSTAY_DAYS', 'ICUFIRSTCAREUNIT', 'ICULASTCAREUNIT',\n",
       "       'ICUFIRSTWARDID', 'ICULASTWARDID', 'ICU_LOS', 'SAMECARE', 'SAMEWARD',\n",
       "       'FIRST_ITEMID', 'CATS', 'FIRST_NUMBER', 'FIRST_ITEMID2', 'LAST_ITEMID',\n",
       "       'LAST_CATS', 'LAST_NUMBER', 'LAST_ITEMID2'],\n",
       "      dtype='object')"
      ]
     },
     "execution_count": 9,
     "metadata": {},
     "output_type": "execute_result"
    }
   ],
   "source": [
    "print(len(dpicm_cm))\n",
    "print(dpicm_cm['ADMISSIONTYPE'].unique())\n",
    "dpicm_cm.columns"
   ]
  },
  {
   "cell_type": "code",
   "execution_count": 10,
   "metadata": {},
   "outputs": [],
   "source": [
    "#dpicm_cm['DIAGNOSIS_CODE'] = np.where(dpicm_cm['FIRST_ICD9_DIAGNOSIS'].not_null(), dpicm_cm['FIRST_ICD9_DIAGNOSIS'], 0)\n",
    "#dpicm_cm['DIAGNOSIS_CODE'] = np.where(dpicm_cm['SECOND_ICD9_DIAGNOSIS'].not_null(), dpicm_cm['SECOND_ICD9_DIAGNOSIS'], dpicm_cm['DIAGNOSIS_CODE'])\n",
    "#dpicm_cm['DIAGNOSIS_CODE'] = np.where(dpicm_cm['THIRD_ICD9_DIAGNOSIS'].not_null(), dpicm_cm['THIRD_ICD9_DIAGNOSIS'], dpicm_cm['DIAGNOSIS_CODE'])\n",
    "dpicm_cm.to_csv('dpicm_cm.csv', index=False)"
   ]
  },
  {
   "cell_type": "markdown",
   "metadata": {},
   "source": [
    "## CHANGE CATEGORICAL VARIABLES TO NUMERICAL"
   ]
  },
  {
   "cell_type": "code",
   "execution_count": 10,
   "metadata": {},
   "outputs": [],
   "source": [
    "def choose_ICD9_set(data_bit, num_choice):\n",
    "    returned_set_p1 = data_bit[(data_bit['SEQ_NUM'] == num_choice)]\n",
    "    full_set = ['FIRST_ITEMID2', 'CATS', 'FIRST_NUMBER']\n",
    "    full_set.extend(('LAST_ITEMID2', 'LAST_CATS', 'LAST_NUMBER'))\n",
    "    full_set.extend(('ICUFIRSTCAREUNIT', 'ICULASTCAREUNIT', 'ICUFIRSTWARDID'))\n",
    "    full_set.extend(('ICULASTWARDID', 'ICU_LOS', 'SAMECARE', 'SAMEWARD'))\n",
    "    full_set.extend(('LANGUAGE', 'RELIGION', 'MARITAL_STATUS', 'ETHNICITY'))\n",
    "    full_set.extend(('DIAGNOSIS', 'GENDER', 'LENGTHOFSTAY_DAYS'))\n",
    "    if num_choice == 1:\n",
    "        use_set = ['FIRST_ICD9_DIAGNOSIS']\n",
    "        for each in full_set:\n",
    "            use_set.append(each)\n",
    "        returned_set = returned_set_p1[use_set]\n",
    "    if num_choice == 2:\n",
    "        use_set = ['SECOND_ICD9_DIAGNOSIS']\n",
    "        for each in full_set:\n",
    "            use_set.append(each)\n",
    "        returned_set = returned_set_p1[use_set]\n",
    "    if num_choice == 3:\n",
    "        use_set = ['THIRD_ICD9_DIAGNOSIS']\n",
    "        for each in full_set:\n",
    "            use_set.append(each)\n",
    "        returned_set = returned_set_p1[use_set]\n",
    "\n",
    "    return(returned_set)"
   ]
  },
  {
   "cell_type": "code",
   "execution_count": null,
   "metadata": {},
   "outputs": [],
   "source": []
  },
  {
   "cell_type": "code",
   "execution_count": 11,
   "metadata": {},
   "outputs": [],
   "source": [
    "icd9_one = choose_ICD9_set(dpicm_cm, 1)\n",
    "icd9_two = choose_ICD9_set(dpicm_cm, 2)\n",
    "icd9_three = choose_ICD9_set(dpicm_cm, 3)\n",
    "#icd9_full = dpicm_cm[['DIAGNOSIS_CODE', 'FIRST_ITEMID2', 'CATS', 'FIRST_NUMBER', 'LAST_ITEMID2', 'LAST_CATS', 'LAST_NUMBER', 'ICUFIRSTCAREUNIT', 'ICULASTCAREUNIT', 'ICUFIRSTWARDID', 'ICULASTWARDID', 'ICU_LOS', 'SAMECARE', 'SAMEWARD', 'LANGUAGE', 'RELIGION', 'MARITAL_STATUS', 'ETHNICITY', 'DIAGNOSIS', 'GENDER', 'LENGTHOFSTAY_DAYS']].copy()"
   ]
  },
  {
   "cell_type": "code",
   "execution_count": 12,
   "metadata": {},
   "outputs": [],
   "source": [
    "language_replace = {'LANGUAGE':{}, 'RELIGION':{}, 'MARITAL_STATUS':{},\n",
    "'ETHNICITY':{}, 'GENDER':{}, 'DIAGNOSIS':{}}\n",
    "\n",
    "icu_care = icu[['ICUFIRSTCAREUNIT', 'ICULASTCAREUNIT']].copy()\n",
    "icu_care = icu_care.drop_duplicates()\n",
    "\n",
    "icu_ward = icu[['ICUFIRSTWARDID', 'ICULASTWARDID']].copy()\n",
    "icu_ward = icu_ward.drop_duplicates()"
   ]
  },
  {
   "cell_type": "code",
   "execution_count": 13,
   "metadata": {},
   "outputs": [],
   "source": [
    "def cats_across_columns(two_columns):\n",
    "    to_replace = {}\n",
    "    n = 1\n",
    "    for index, row in two_columns.iterrows():\n",
    "        if row[0] not in to_replace:\n",
    "            to_replace[row[0]] = n\n",
    "            n = n + 1\n",
    "        if row[1] not in to_replace:\n",
    "            to_replace[row[1]] = n\n",
    "            n = n + 1\n",
    "    return(to_replace)"
   ]
  },
  {
   "cell_type": "code",
   "execution_count": 14,
   "metadata": {},
   "outputs": [],
   "source": [
    "care_replace = cats_across_columns(icu_care)\n",
    "icu_care_replace = {'ICUFIRSTCAREUNIT':care_replace, 'ICULASTCAREUNIT':care_replace}\n",
    "\n",
    "ward_replace = cats_across_columns(icu_ward)\n",
    "icu_ward_replace = {'ICUFIRSTWARDID':ward_replace, 'ICULASTWARDID':ward_replace}"
   ]
  },
  {
   "cell_type": "code",
   "execution_count": 15,
   "metadata": {},
   "outputs": [],
   "source": [
    "def assigning_labels(data_subset, replace_dict):\n",
    "    for each_label in replace_dict:\n",
    "        n = 1\n",
    "        for each in data_subset[each_label].unique():\n",
    "            replace_dict[each_label][each] = n\n",
    "            n = n + 1\n",
    "\n",
    "    return(replace_dict)"
   ]
  },
  {
   "cell_type": "code",
   "execution_count": 16,
   "metadata": {},
   "outputs": [],
   "source": [
    "replace_one = assigning_labels(dpicm_cm, language_replace)\n",
    "replace_full = {**replace_one, **icu_care_replace, **icu_ward_replace}"
   ]
  },
  {
   "cell_type": "code",
   "execution_count": 17,
   "metadata": {},
   "outputs": [
    {
     "data": {
      "text/plain": [
       "dict_keys(['LANGUAGE', 'RELIGION', 'MARITAL_STATUS', 'ETHNICITY', 'GENDER', 'DIAGNOSIS', 'ICUFIRSTCAREUNIT', 'ICULASTCAREUNIT', 'ICUFIRSTWARDID', 'ICULASTWARDID'])"
      ]
     },
     "execution_count": 17,
     "metadata": {},
     "output_type": "execute_result"
    }
   ],
   "source": [
    "replace_full.keys()"
   ]
  },
  {
   "cell_type": "code",
   "execution_count": 18,
   "metadata": {},
   "outputs": [],
   "source": [
    "def recode_cats(o_data, replace_dict): \n",
    "    for each_key in replace_dict: \n",
    "        o_data[each_key] = o_data[each_key].map(replace_dict[each_key])\n",
    "    return(o_data)"
   ]
  },
  {
   "cell_type": "code",
   "execution_count": 19,
   "metadata": {},
   "outputs": [],
   "source": [
    "# then apply recode\n",
    "icd9_one = recode_cats(icd9_one, replace_full)\n",
    "# replace nan with 0\n",
    "icd_one = icd9_one.fillna(0)\n",
    "\n",
    "# then apply recode\n",
    "icd9_two = recode_cats(icd9_two, replace_full)\n",
    "# replace nan with 0\n",
    "icd_two = icd9_two.fillna(0)\n",
    "\n",
    "# then apply recode\n",
    "icd9_three = recode_cats(icd9_three, replace_full)\n",
    "# replace nan with 0\n",
    "icd_three = icd9_three.fillna(0)"
   ]
  },
  {
   "cell_type": "code",
   "execution_count": 20,
   "metadata": {},
   "outputs": [
    {
     "name": "stdout",
     "output_type": "stream",
     "text": [
      "96354\n"
     ]
    },
    {
     "data": {
      "text/plain": [
       "96354"
      ]
     },
     "execution_count": 20,
     "metadata": {},
     "output_type": "execute_result"
    }
   ],
   "source": [
    "print(len(icd_one))\n",
    "len(icd_one[(icd_one['FIRST_ICD9_DIAGNOSIS'].notnull())])"
   ]
  },
  {
   "cell_type": "code",
   "execution_count": 21,
   "metadata": {},
   "outputs": [
    {
     "name": "stdout",
     "output_type": "stream",
     "text": [
      "96065\n"
     ]
    },
    {
     "data": {
      "text/plain": [
       "96065"
      ]
     },
     "execution_count": 21,
     "metadata": {},
     "output_type": "execute_result"
    }
   ],
   "source": [
    "print(len(icd_two))\n",
    "len(icd_two[(icd_two['SECOND_ICD9_DIAGNOSIS'].notnull())])\n",
    "#icd_two = icd_two.dropna()"
   ]
  },
  {
   "cell_type": "code",
   "execution_count": 22,
   "metadata": {},
   "outputs": [
    {
     "name": "stdout",
     "output_type": "stream",
     "text": [
      "95513\n"
     ]
    },
    {
     "data": {
      "text/plain": [
       "95513"
      ]
     },
     "execution_count": 22,
     "metadata": {},
     "output_type": "execute_result"
    }
   ],
   "source": [
    "print(len(icd_three))\n",
    "len(icd_three[(icd_three['THIRD_ICD9_DIAGNOSIS'].notnull())])\n",
    "#icd_three = icd_three.dropna()"
   ]
  },
  {
   "cell_type": "code",
   "execution_count": null,
   "metadata": {},
   "outputs": [],
   "source": []
  },
  {
   "cell_type": "markdown",
   "metadata": {},
   "source": [
    "## PREDICTING"
   ]
  },
  {
   "cell_type": "code",
   "execution_count": 23,
   "metadata": {},
   "outputs": [],
   "source": [
    "def visualize_accuracy(acc_dict, file_name):\n",
    "    objects = []\n",
    "    performance = []\n",
    "    for each in acc_dict:\n",
    "        objects.append(each)\n",
    "        performance.append(acc_dict[each])\n",
    "\n",
    "    y_pos = np.arange(len(objects))\n",
    "\n",
    "    plt.bar(y_pos, performance, align='center', alpha=0.5, color=(254/255, 168/255, 182/255))\n",
    "    plt.xticks(y_pos, objects)\n",
    "    plt.ylim(0, 1) \n",
    "    plt.ylabel('Accuracy')\n",
    "    plt.xlabel('Test Size')\n",
    "    plt.title('Accuracy Across Test/Train Sizes')\n",
    "    plt.savefig(file_name)\n",
    "    plt.close()"
   ]
  },
  {
   "cell_type": "code",
   "execution_count": 50,
   "metadata": {},
   "outputs": [],
   "source": [
    "def visualize_accuracy_all(dict1, dict2, dict3, file_name):\n",
    "    objects1 = []\n",
    "    performance1 = []\n",
    "    for each in dict1:\n",
    "        objects1.append(each)\n",
    "        performance1.append(dict1[each])\n",
    "        \n",
    "    objects2 = []\n",
    "    performance2 = []\n",
    "    for each in dict2:\n",
    "        objects2.append(each)\n",
    "        performance2.append(dict2[each])\n",
    "        \n",
    "    objects3 = []\n",
    "    performance3 = []\n",
    "    for each in dict3:\n",
    "        objects3.append(each)\n",
    "        performance3.append(dict3[each])\n",
    "    \n",
    "    \n",
    "    \n",
    "    N = len(objects1)\n",
    "    ind = np.arange(N)  # the x locations for the groups\n",
    "    width = 0.25       # the width of the bars\n",
    "\n",
    "    fig = plt.figure()\n",
    "    ax = fig.add_subplot(111)\n",
    "    rects1 = ax.bar(ind, performance1, width, color=(254/255, 168/255, 182/255))\n",
    "    rects2 = ax.bar(ind+width, performance2, width, color='gray')\n",
    "    rects3 = ax.bar(ind+(2*width), performance3, width, color=(254/255, 135/255, 155/255))\n",
    "    \n",
    "    \n",
    "    # add some\n",
    "    ax.set_ylabel('Accuracy')\n",
    "    ax.set_title('Accuracy Across Test/Train Sizes')\n",
    "    ax.set_xticks(ind + width)\n",
    "    ax.set_xticklabels( ('0.1', '0.2', '0.3', '0.4', '0.5') )\n",
    "    \n",
    "    ax.set_ylim(0, 1)\n",
    "    ax.legend( (rects1[0], rects2[0], rects3[0]), ('First', 'Second', 'Third') )\n",
    "    \n",
    "    #plot = dtf.plot()\n",
    "    #fig = plot.get_figure()\n",
    "    fig.savefig(file_name)\n",
    "    \n",
    "    #ax.savefig(file_name)\n",
    "    #ax.close()"
   ]
  },
  {
   "cell_type": "code",
   "execution_count": 24,
   "metadata": {},
   "outputs": [],
   "source": [
    "def forest_sizechange(o_data, test_list, icd9):\n",
    "\n",
    "    if icd9 == 1: \n",
    "        icd_col = 'FIRST_ICD9_DIAGNOSIS'\n",
    "    elif icd9 == 2: \n",
    "        icd_col = 'SECOND_ICD9_DIAGNOSIS'\n",
    "    elif icd9 == 3:  \n",
    "        icd_col = 'THIRD_ICD9_DIAGNOSIS'\n",
    "    else: \n",
    "        icd_col = 'ICD9_DIAGNOSIS'\n",
    "        \n",
    "    acc_each = {}\n",
    "    for each_test in test_list: \n",
    "        otrain,otest = train_test_split(o_data, test_size=each_test)\n",
    "        rf_model = skens.RandomForestClassifier(n_estimators=10,oob_score=True, criterion='entropy')\n",
    "        rf_model.fit(otrain.ix[:,1:],otrain[icd_col])\n",
    "        predicted_labels = rf_model.predict(otest.ix[:,1:])\n",
    "        new_col = 'predicted_rf_tree_' + str(each_test)\n",
    "        otest[new_col] = predicted_labels\n",
    "        accuracy = accuracy_score(otest[icd_col], predicted_labels)\n",
    "        acc_each[each_test] = accuracy\n",
    "        \n",
    "    return(acc_each)"
   ]
  },
  {
   "cell_type": "code",
   "execution_count": 25,
   "metadata": {},
   "outputs": [],
   "source": [
    "# Filter all warnings.\n",
    "import warnings\n",
    "warnings.filterwarnings('ignore')"
   ]
  },
  {
   "cell_type": "code",
   "execution_count": 26,
   "metadata": {},
   "outputs": [],
   "source": [
    "t = [0.1, 0.2, 0.3, 0.4, 0.5]"
   ]
  },
  {
   "cell_type": "code",
   "execution_count": 27,
   "metadata": {},
   "outputs": [],
   "source": [
    "first_icd9 = forest_sizechange(icd_one, t, 1)\n",
    "#visualize_accuracy(first_icd9, 'first_icd9.png')"
   ]
  },
  {
   "cell_type": "code",
   "execution_count": 28,
   "metadata": {},
   "outputs": [],
   "source": [
    "second_icd9 = forest_sizechange(icd_two, t, 2)\n",
    "#visualize_accuracy(second_icd9, 'second_icd9.png')"
   ]
  },
  {
   "cell_type": "code",
   "execution_count": 29,
   "metadata": {},
   "outputs": [],
   "source": [
    "third_icd9 = forest_sizechange(icd_three, t, 3)\n",
    "#visualize_accuracy(third_icd9, 'third_icd9.png')"
   ]
  },
  {
   "cell_type": "code",
   "execution_count": 51,
   "metadata": {},
   "outputs": [
    {
     "data": {
      "image/png": "[encoded data removed]",
      "text/plain": [
       "<Figure size 432x288 with 1 Axes>"
      ]
     },
     "metadata": {},
     "output_type": "display_data"
    }
   ],
   "source": [
    "visualize_accuracy_all(first_icd9, second_icd9, third_icd9, \"together_accuracy.png\")"
   ]
  },
  {
   "cell_type": "code",
   "execution_count": 24,
   "metadata": {},
   "outputs": [],
   "source": [
    "icd_one_re = icd_one.rename({'FIRST_ICD9_DIAGNOSIS':'ICD9_DIAGNOSIS'}, axis=1)\n",
    "icd_two_re = icd_two.rename({'SECOND_ICD9_DIAGNOSIS':'ICD9_DIAGNOSIS'}, axis=1)\n",
    "icd_three_re = icd_three.rename({'THIRD_ICD9_DIAGNOSIS':'ICD9_DIAGNOSIS'}, axis=1)\n",
    "icd_full = pd.concat([icd_one_re, icd_two_re, icd_three_re])"
   ]
  },
  {
   "cell_type": "code",
   "execution_count": 26,
   "metadata": {},
   "outputs": [],
   "source": [
    "full_icd9 = forest_sizechange(icd_full, t, 4)\n",
    "visualize_accuracy(full_icd9, 'full_icd9.png')"
   ]
  },
  {
   "cell_type": "code",
   "execution_count": 25,
   "metadata": {},
   "outputs": [],
   "source": [
    "icd_one.to_csv(\"icd_one.csv\", index=False)\n",
    "icd_two.to_csv(\"icd_two.csv\", index=False)\n",
    "icd_three.to_csv(\"icd_three.csv\", index=False)\n",
    "icd_full.to_csv(\"icd_full.csv\", index=False)"
   ]
  },
  {
   "cell_type": "markdown",
   "metadata": {},
   "source": [
    "## RANDOM SAMPLING"
   ]
  },
  {
   "cell_type": "markdown",
   "metadata": {},
   "source": [
    "## PREDICTING EACH ICD-9 CODE"
   ]
  },
  {
   "cell_type": "code",
   "execution_count": 29,
   "metadata": {},
   "outputs": [],
   "source": [
    "def forest_set(o_data, ts, icd9):\n",
    "\n",
    "    if icd9 == 1: \n",
    "        icd_col = 'FIRST_ICD9_DIAGNOSIS'\n",
    "    elif icd9 == 2: \n",
    "        icd_col = 'SECOND_ICD9_DIAGNOSIS'\n",
    "    elif icd9 == 3:  \n",
    "        icd_col = 'THIRD_ICD9_DIAGNOSIS'\n",
    "    else: \n",
    "        icd_col = 'ICD9_DIAGNOSIS'\n",
    "        \n",
    "    otrain,otest = train_test_split(o_data, test_size=ts)\n",
    "    rf_model = skens.RandomForestClassifier(n_estimators=10,oob_score=True, criterion='entropy')\n",
    "    rf_model.fit(otrain.ix[:,1:],otrain[icd_col])\n",
    "    predicted_labels = rf_model.predict(otest.ix[:,1:])\n",
    "    \n",
    "    otest['predicted_rf_tree'] = predicted_labels\n",
    "    accuracy = accuracy_score(otest[icd_col], predicted_labels)\n",
    "    \n",
    "    acc_by_code = {}\n",
    "    for each_icd in otest[icd_col].unique():\n",
    "        otest_bit = otest[(otest[icd_col] == each_icd)]\n",
    "        accuracy_set = accuracy_score(otest_bit[icd_col], otest_bit['predicted_rf_tree'])\n",
    "        acc_by_code[each_icd] = accuracy_set\n",
    "        \n",
    "    return((accuracy, acc_by_code))"
   ]
  },
  {
   "cell_type": "code",
   "execution_count": 47,
   "metadata": {},
   "outputs": [],
   "source": [
    "def viz_acc_icd(acc_tup, file_name):\n",
    "    objects = []\n",
    "    performance = []\n",
    "    for each_key in acc_tup[1]:\n",
    "        if acc_tup[1][each_key] > 0:\n",
    "            objects.append(each_key)\n",
    "            performance.append(acc_tup[1][each_key])\n",
    "    threshold = acc_tup[0]\n",
    "    y_pos = np.arange(len(objects))\n",
    "\n",
    "    plt.bar(y_pos, performance, align='center', alpha=0.5, color=(254/255, 168/255, 182/255))\n",
    "    #plt.xticks(y_pos, objects, rotation=90)\n",
    "    #[0., len(objects)], \n",
    "    plt.axhline(threshold, color=\"gray\")\n",
    "    plt.ylim(0, 1) \n",
    "    plt.ylabel('Accuracy')\n",
    "    plt.xlabel('ICD-9 Code')\n",
    "    plt.title('Accuracy Across ICD-9 Codes')\n",
    "    plt.savefig(file_name)\n",
    "    plt.close()\n",
    "    #plt.show()"
   ]
  },
  {
   "cell_type": "code",
   "execution_count": 54,
   "metadata": {},
   "outputs": [],
   "source": [
    "def which_codes(code_dict):\n",
    "    over_ninety = {}\n",
    "    for each_code in code_dict: \n",
    "        if code_dict[each_code] > .90: \n",
    "            over_ninety[each_code] = code_dict[each_code]\n",
    "    onine = pd.Series(over_ninety).to_frame()\n",
    "    onine.columns = ['Accuracy']\n",
    "    return(onine)"
   ]
  },
  {
   "cell_type": "code",
   "execution_count": 62,
   "metadata": {},
   "outputs": [],
   "source": [
    "icd_one_sam = icd_one.sample(frac=0.1)"
   ]
  },
  {
   "cell_type": "code",
   "execution_count": 42,
   "metadata": {},
   "outputs": [],
   "source": [
    "return_acc_one = forest_set(icd_one_sam, 0.3, 1)"
   ]
  },
  {
   "cell_type": "code",
   "execution_count": 48,
   "metadata": {},
   "outputs": [],
   "source": [
    "viz_acc_icd(return_acc_one, 'acc_one_test.png')"
   ]
  },
  {
   "cell_type": "code",
   "execution_count": 55,
   "metadata": {},
   "outputs": [
    {
     "data": {
      "text/html": [
       "<div>\n",
       "<style scoped>\n",
       "    .dataframe tbody tr th:only-of-type {\n",
       "        vertical-align: middle;\n",
       "    }\n",
       "\n",
       "    .dataframe tbody tr th {\n",
       "        vertical-align: top;\n",
       "    }\n",
       "\n",
       "    .dataframe thead th {\n",
       "        text-align: right;\n",
       "    }\n",
       "</style>\n",
       "<table border=\"1\" class=\"dataframe\">\n",
       "  <thead>\n",
       "    <tr style=\"text-align: right;\">\n",
       "      <th></th>\n",
       "      <th>Accuracy</th>\n",
       "    </tr>\n",
       "  </thead>\n",
       "  <tbody>\n",
       "    <tr>\n",
       "      <th>7100</th>\n",
       "      <td>1.0</td>\n",
       "    </tr>\n",
       "    <tr>\n",
       "      <th>28959</th>\n",
       "      <td>1.0</td>\n",
       "    </tr>\n",
       "    <tr>\n",
       "      <th>3239</th>\n",
       "      <td>1.0</td>\n",
       "    </tr>\n",
       "    <tr>\n",
       "      <th>9752</th>\n",
       "      <td>1.0</td>\n",
       "    </tr>\n",
       "    <tr>\n",
       "      <th>76513</th>\n",
       "      <td>1.0</td>\n",
       "    </tr>\n",
       "  </tbody>\n",
       "</table>\n",
       "</div>"
      ],
      "text/plain": [
       "       Accuracy\n",
       "7100        1.0\n",
       "28959       1.0\n",
       "3239        1.0\n",
       "9752        1.0\n",
       "76513       1.0"
      ]
     },
     "execution_count": 55,
     "metadata": {},
     "output_type": "execute_result"
    }
   ],
   "source": [
    "ret = which_codes(return_acc_one[1])\n",
    "ret.head()"
   ]
  },
  {
   "cell_type": "markdown",
   "metadata": {},
   "source": [
    "## PREDICTING PART OF ICD9 CODE"
   ]
  },
  {
   "cell_type": "code",
   "execution_count": 63,
   "metadata": {},
   "outputs": [
    {
     "data": {
      "text/html": [
       "<div>\n",
       "<style scoped>\n",
       "    .dataframe tbody tr th:only-of-type {\n",
       "        vertical-align: middle;\n",
       "    }\n",
       "\n",
       "    .dataframe tbody tr th {\n",
       "        vertical-align: top;\n",
       "    }\n",
       "\n",
       "    .dataframe thead th {\n",
       "        text-align: right;\n",
       "    }\n",
       "</style>\n",
       "<table border=\"1\" class=\"dataframe\">\n",
       "  <thead>\n",
       "    <tr style=\"text-align: right;\">\n",
       "      <th></th>\n",
       "      <th>FIRST_ICD9_DIAGNOSIS</th>\n",
       "      <th>FIRST_ITEMID2</th>\n",
       "      <th>CATS</th>\n",
       "      <th>FIRST_NUMBER</th>\n",
       "      <th>LAST_ITEMID2</th>\n",
       "      <th>LAST_CATS</th>\n",
       "      <th>LAST_NUMBER</th>\n",
       "      <th>ICUFIRSTCAREUNIT</th>\n",
       "      <th>ICULASTCAREUNIT</th>\n",
       "      <th>ICUFIRSTWARDID</th>\n",
       "      <th>...</th>\n",
       "      <th>SAMECARE</th>\n",
       "      <th>SAMEWARD</th>\n",
       "      <th>LANGUAGE</th>\n",
       "      <th>RELIGION</th>\n",
       "      <th>MARITAL_STATUS</th>\n",
       "      <th>ETHNICITY</th>\n",
       "      <th>DIAGNOSIS</th>\n",
       "      <th>GENDER</th>\n",
       "      <th>LENGTHOFSTAY_DAYS</th>\n",
       "      <th>FIRSTDIGITS</th>\n",
       "    </tr>\n",
       "  </thead>\n",
       "  <tbody>\n",
       "    <tr>\n",
       "      <th>68943</th>\n",
       "      <td>41031</td>\n",
       "      <td>51</td>\n",
       "      <td>1</td>\n",
       "      <td>136</td>\n",
       "      <td>51</td>\n",
       "      <td>1</td>\n",
       "      <td>44</td>\n",
       "      <td>4</td>\n",
       "      <td>4</td>\n",
       "      <td>3</td>\n",
       "      <td>...</td>\n",
       "      <td>1</td>\n",
       "      <td>1</td>\n",
       "      <td>1</td>\n",
       "      <td>9</td>\n",
       "      <td>1</td>\n",
       "      <td>2</td>\n",
       "      <td>47</td>\n",
       "      <td>1</td>\n",
       "      <td>1</td>\n",
       "      <td>410</td>\n",
       "    </tr>\n",
       "    <tr>\n",
       "      <th>8485</th>\n",
       "      <td>4373</td>\n",
       "      <td>27</td>\n",
       "      <td>4</td>\n",
       "      <td>0</td>\n",
       "      <td>47</td>\n",
       "      <td>1</td>\n",
       "      <td>0</td>\n",
       "      <td>3</td>\n",
       "      <td>3</td>\n",
       "      <td>7</td>\n",
       "      <td>...</td>\n",
       "      <td>1</td>\n",
       "      <td>1</td>\n",
       "      <td>1</td>\n",
       "      <td>1</td>\n",
       "      <td>2</td>\n",
       "      <td>6</td>\n",
       "      <td>484</td>\n",
       "      <td>2</td>\n",
       "      <td>1</td>\n",
       "      <td>437</td>\n",
       "    </tr>\n",
       "    <tr>\n",
       "      <th>160554</th>\n",
       "      <td>3320</td>\n",
       "      <td>27</td>\n",
       "      <td>4</td>\n",
       "      <td>0</td>\n",
       "      <td>27</td>\n",
       "      <td>9</td>\n",
       "      <td>0</td>\n",
       "      <td>1</td>\n",
       "      <td>1</td>\n",
       "      <td>8</td>\n",
       "      <td>...</td>\n",
       "      <td>1</td>\n",
       "      <td>1</td>\n",
       "      <td>2</td>\n",
       "      <td>5</td>\n",
       "      <td>1</td>\n",
       "      <td>1</td>\n",
       "      <td>6921</td>\n",
       "      <td>2</td>\n",
       "      <td>28</td>\n",
       "      <td>332</td>\n",
       "    </tr>\n",
       "    <tr>\n",
       "      <th>227162</th>\n",
       "      <td>4251</td>\n",
       "      <td>226381</td>\n",
       "      <td>4</td>\n",
       "      <td>0</td>\n",
       "      <td>226228</td>\n",
       "      <td>2</td>\n",
       "      <td>0</td>\n",
       "      <td>4</td>\n",
       "      <td>4</td>\n",
       "      <td>4</td>\n",
       "      <td>...</td>\n",
       "      <td>1</td>\n",
       "      <td>1</td>\n",
       "      <td>2</td>\n",
       "      <td>2</td>\n",
       "      <td>1</td>\n",
       "      <td>9</td>\n",
       "      <td>9529</td>\n",
       "      <td>1</td>\n",
       "      <td>7</td>\n",
       "      <td>425</td>\n",
       "    </tr>\n",
       "    <tr>\n",
       "      <th>58429</th>\n",
       "      <td>86504</td>\n",
       "      <td>69</td>\n",
       "      <td>1</td>\n",
       "      <td>0</td>\n",
       "      <td>31</td>\n",
       "      <td>7</td>\n",
       "      <td>0</td>\n",
       "      <td>5</td>\n",
       "      <td>3</td>\n",
       "      <td>7</td>\n",
       "      <td>...</td>\n",
       "      <td>0</td>\n",
       "      <td>0</td>\n",
       "      <td>1</td>\n",
       "      <td>1</td>\n",
       "      <td>3</td>\n",
       "      <td>1</td>\n",
       "      <td>3053</td>\n",
       "      <td>1</td>\n",
       "      <td>21</td>\n",
       "      <td>865</td>\n",
       "    </tr>\n",
       "  </tbody>\n",
       "</table>\n",
       "<p>5 rows × 22 columns</p>\n",
       "</div>"
      ],
      "text/plain": [
       "       FIRST_ICD9_DIAGNOSIS FIRST_ITEMID2  CATS FIRST_NUMBER LAST_ITEMID2  \\\n",
       "68943                 41031            51     1          136           51   \n",
       "8485                   4373            27     4            0           47   \n",
       "160554                 3320            27     4            0           27   \n",
       "227162                 4251        226381     4            0       226228   \n",
       "58429                 86504            69     1            0           31   \n",
       "\n",
       "        LAST_CATS LAST_NUMBER  ICUFIRSTCAREUNIT  ICULASTCAREUNIT  \\\n",
       "68943           1          44                 4                4   \n",
       "8485            1           0                 3                3   \n",
       "160554          9           0                 1                1   \n",
       "227162          2           0                 4                4   \n",
       "58429           7           0                 5                3   \n",
       "\n",
       "        ICUFIRSTWARDID     ...       SAMECARE  SAMEWARD  LANGUAGE  RELIGION  \\\n",
       "68943                3     ...              1         1         1         9   \n",
       "8485                 7     ...              1         1         1         1   \n",
       "160554               8     ...              1         1         2         5   \n",
       "227162               4     ...              1         1         2         2   \n",
       "58429                7     ...              0         0         1         1   \n",
       "\n",
       "        MARITAL_STATUS  ETHNICITY  DIAGNOSIS  GENDER  LENGTHOFSTAY_DAYS  \\\n",
       "68943                1          2         47       1                  1   \n",
       "8485                 2          6        484       2                  1   \n",
       "160554               1          1       6921       2                 28   \n",
       "227162               1          9       9529       1                  7   \n",
       "58429                3          1       3053       1                 21   \n",
       "\n",
       "        FIRSTDIGITS  \n",
       "68943           410  \n",
       "8485            437  \n",
       "160554          332  \n",
       "227162          425  \n",
       "58429           865  \n",
       "\n",
       "[5 rows x 22 columns]"
      ]
     },
     "execution_count": 63,
     "metadata": {},
     "output_type": "execute_result"
    }
   ],
   "source": [
    "icd_one_sam['FIRSTDIGITS'] = icd_one_sam['FIRST_ICD9_DIAGNOSIS'].str[:3]\n",
    "#icd_one_sam['LASTDIGITS'] = icd_one_sam['FIRST_ICD9_DIAGNOSIS'].str[-3:]\n",
    "icd_one_sam.head()"
   ]
  },
  {
   "cell_type": "code",
   "execution_count": 115,
   "metadata": {},
   "outputs": [],
   "source": [
    "def forest_model(o_data, ts, icd9):\n",
    "\n",
    "    if icd9 == 1: \n",
    "        icd_col = 'FIRST_ICD9_DIAGNOSIS'\n",
    "    elif icd9 == 2: \n",
    "        icd_col = 'SECOND_ICD9_DIAGNOSIS'\n",
    "    elif icd9 == 3:  \n",
    "        icd_col = 'THIRD_ICD9_DIAGNOSIS'\n",
    "    elif icd9 == 4: \n",
    "        icd_col = 'FIRSTDIGITS'\n",
    "    else: \n",
    "        icd_col = 'ICD9_DIAGNOSIS'\n",
    "         \n",
    "    otrain,otest = train_test_split(o_data, test_size=ts)\n",
    "    rf_model = skens.RandomForestClassifier(n_estimators=10,oob_score=True, criterion='entropy')\n",
    "    rf_model.fit(otrain.ix[:,1:],otrain[icd_col])\n",
    "    predicted_labels = rf_model.predict(otest.ix[:,1:])\n",
    "    \n",
    "    otest['rf_predicted'] = predicted_labels\n",
    "    accuracy = accuracy_score(otest[icd_col], predicted_labels)\n",
    "    \n",
    "    return((accuracy, rf_model))"
   ]
  },
  {
   "cell_type": "code",
   "execution_count": 112,
   "metadata": {},
   "outputs": [],
   "source": [
    "icd_one_sam = icd_one.sample(frac=0.1)\n",
    "icd_one_sam['FIRSTDIGITS'] = icd_one_sam['FIRST_ICD9_DIAGNOSIS'].str[:3]\n",
    "testing = forest_model(icd_one_sam, 0.3, 4)"
   ]
  },
  {
   "cell_type": "code",
   "execution_count": 113,
   "metadata": {},
   "outputs": [
    {
     "data": {
      "text/plain": [
       "<matplotlib.axes._subplots.AxesSubplot at 0x1f0c22f1470>"
      ]
     },
     "execution_count": 113,
     "metadata": {},
     "output_type": "execute_result"
    },
    {
     "data": {
      "image/png": "[encoded data removed]",
      "text/plain": [
       "<Figure size 432x288 with 1 Axes>"
      ]
     },
     "metadata": {},
     "output_type": "display_data"
    }
   ],
   "source": [
    "fi = testing[1].feature_importances_\n",
    "\n",
    "#feat_importance = rf_model.feature_importances_\n",
    "pd.DataFrame({'Feature Importance':fi},\n",
    "            index=diag_pat_one_train.columns[1:]).plot(kind='barh', color=\"gray\")"
   ]
  },
  {
   "cell_type": "code",
   "execution_count": 116,
   "metadata": {},
   "outputs": [
    {
     "data": {
      "text/plain": [
       "<matplotlib.axes._subplots.AxesSubplot at 0x1f0c2362320>"
      ]
     },
     "execution_count": 116,
     "metadata": {},
     "output_type": "execute_result"
    },
    {
     "data": {
      "image/png": "[encoded data removed]",
      "text/plain": [
       "<Figure size 432x288 with 1 Axes>"
      ]
     },
     "metadata": {},
     "output_type": "display_data"
    }
   ],
   "source": [
    "one = forest_model(icd_one, 0.3, 1)\n",
    "fi = one[1].feature_importances_\n",
    "pd.DataFrame({'Feature Importance':fi},\n",
    "            index=diag_pat_one_train.columns[1:]).plot(kind='barh', color=\"gray\")"
   ]
  },
  {
   "cell_type": "code",
   "execution_count": 117,
   "metadata": {},
   "outputs": [
    {
     "data": {
      "text/plain": [
       "<matplotlib.axes._subplots.AxesSubplot at 0x1f0b5e46a58>"
      ]
     },
     "execution_count": 117,
     "metadata": {},
     "output_type": "execute_result"
    },
    {
     "data": {
      "image/png": "[encoded data removed]",
      "text/plain": [
       "<Figure size 432x288 with 1 Axes>"
      ]
     },
     "metadata": {},
     "output_type": "display_data"
    }
   ],
   "source": [
    "two = forest_model(icd_two, 0.3, 2)\n",
    "fi = two[1].feature_importances_\n",
    "pd.DataFrame({'Feature Importance':fi},\n",
    "            index=diag_pat_one_train.columns[1:]).plot(kind='barh', color=\"gray\")"
   ]
  },
  {
   "cell_type": "code",
   "execution_count": 118,
   "metadata": {},
   "outputs": [
    {
     "data": {
      "text/plain": [
       "<matplotlib.axes._subplots.AxesSubplot at 0x1f0bae366a0>"
      ]
     },
     "execution_count": 118,
     "metadata": {},
     "output_type": "execute_result"
    },
    {
     "data": {
      "image/png": "[encoded data removed]",
      "text/plain": [
       "<Figure size 432x288 with 1 Axes>"
      ]
     },
     "metadata": {},
     "output_type": "display_data"
    }
   ],
   "source": [
    "three = forest_model(icd_three, 0.3, 3)\n",
    "fi = three[1].feature_importances_\n",
    "pd.DataFrame({'Feature Importance':fi},\n",
    "            index=diag_pat_one_train.columns[1:]).plot(kind='barh', color=\"gray\")"
   ]
  },
  {
   "cell_type": "code",
   "execution_count": 47,
   "metadata": {},
   "outputs": [],
   "source": [
    "diag_pat_one_train,diag_pat_one_test = train_test_split(icd9_one, test_size=0.3)"
   ]
  },
  {
   "cell_type": "code",
   "execution_count": 48,
   "metadata": {},
   "outputs": [
    {
     "data": {
      "text/plain": [
       "RandomForestClassifier(bootstrap=True, class_weight=None, criterion='entropy',\n",
       "            max_depth=None, max_features='auto', max_leaf_nodes=None,\n",
       "            min_impurity_decrease=0.0, min_impurity_split=None,\n",
       "            min_samples_leaf=1, min_samples_split=2,\n",
       "            min_weight_fraction_leaf=0.0, n_estimators=10, n_jobs=1,\n",
       "            oob_score=True, random_state=None, verbose=0, warm_start=False)"
      ]
     },
     "execution_count": 48,
     "metadata": {},
     "output_type": "execute_result"
    }
   ],
   "source": [
    "rf_model = skens.RandomForestClassifier(n_estimators=10,oob_score=True, criterion='entropy')\n",
    "rf_model.fit(diag_pat_one_train.ix[:,1:],diag_pat_one_train.FIRST_ICD9_DIAGNOSIS)"
   ]
  },
  {
   "cell_type": "code",
   "execution_count": 49,
   "metadata": {},
   "outputs": [],
   "source": [
    "predicted_labels = rf_model.predict(diag_pat_one_test.ix[:,1:])\n",
    "diag_pat_one_test['predicted_rf_tree'] = predicted_labels"
   ]
  },
  {
   "cell_type": "markdown",
   "metadata": {},
   "source": [
    "## ACCURACY"
   ]
  },
  {
   "cell_type": "code",
   "execution_count": 50,
   "metadata": {},
   "outputs": [
    {
     "name": "stdout",
     "output_type": "stream",
     "text": [
      "Accuracy: 43.43%\n"
     ]
    }
   ],
   "source": [
    "accuracy = accuracy_score(diag_pat_one_test.FIRST_ICD9_DIAGNOSIS, predicted_labels)\n",
    "print(\"Accuracy: {0:.2%}\".format(accuracy))"
   ]
  },
  {
   "cell_type": "markdown",
   "metadata": {},
   "source": [
    "## FEATURE IMPORTANCE"
   ]
  },
  {
   "cell_type": "code",
   "execution_count": 51,
   "metadata": {},
   "outputs": [
    {
     "data": {
      "text/plain": [
       "<matplotlib.axes._subplots.AxesSubplot at 0x1d8a5608a20>"
      ]
     },
     "execution_count": 51,
     "metadata": {},
     "output_type": "execute_result"
    },
    {
     "data": {
      "image/png": "[encoded data removed]",
      "text/plain": [
       "<Figure size 432x288 with 1 Axes>"
      ]
     },
     "metadata": {},
     "output_type": "display_data"
    }
   ],
   "source": [
    "feat_importance = rf_model.feature_importances_\n",
    "pd.DataFrame({'Feature Importance':feat_importance},\n",
    "            index=diag_pat_one_train.columns[1:]).plot(kind='barh', color=\"gray\")"
   ]
  },
  {
   "cell_type": "markdown",
   "metadata": {},
   "source": [
    "## TUNING THE MODEL"
   ]
  },
  {
   "cell_type": "code",
   "execution_count": 105,
   "metadata": {},
   "outputs": [],
   "source": [
    "# icd_one\n",
    "# icd_two\n",
    "# icd_three\n",
    "# icd_full\n",
    "icd_one_sam = icd_one.sample(frac=0.1)"
   ]
  },
  {
   "cell_type": "code",
   "execution_count": 106,
   "metadata": {},
   "outputs": [],
   "source": [
    "param_grid = {\n",
    "                 'n_estimators': [5, 10, 15, 20], # number of trees in the forest\n",
    "                 'max_depth': [2, 5, 7, 9], # maximum depth of the tree\n",
    "             }"
   ]
  },
  {
   "cell_type": "code",
   "execution_count": 107,
   "metadata": {},
   "outputs": [],
   "source": [
    "rf_model = skens.RandomForestClassifier(n_estimators=10,oob_score=True, criterion='entropy')\n",
    "diag_pat_one_train,diag_pat_one_test = train_test_split(icd_one_sam, test_size=0.3)"
   ]
  },
  {
   "cell_type": "code",
   "execution_count": 108,
   "metadata": {},
   "outputs": [
    {
     "data": {
      "text/plain": [
       "GridSearchCV(cv=10, error_score='raise',\n",
       "       estimator=RandomForestClassifier(bootstrap=True, class_weight=None, criterion='entropy',\n",
       "            max_depth=None, max_features='auto', max_leaf_nodes=None,\n",
       "            min_impurity_decrease=0.0, min_impurity_split=None,\n",
       "            min_samples_leaf=1, min_samples_split=2,\n",
       "            min_weight_fraction_leaf=0.0, n_estimators=10, n_jobs=1,\n",
       "            oob_score=True, random_state=None, verbose=0, warm_start=False),\n",
       "       fit_params=None, iid=True, n_jobs=1,\n",
       "       param_grid={'n_estimators': [5, 10, 15, 20], 'max_depth': [2, 5, 7, 9]},\n",
       "       pre_dispatch='2*n_jobs', refit=True, return_train_score='warn',\n",
       "       scoring=None, verbose=0)"
      ]
     },
     "execution_count": 108,
     "metadata": {},
     "output_type": "execute_result"
    }
   ],
   "source": [
    "grid_clf = GridSearchCV(rf_model, param_grid, cv=10)\n",
    "grid_clf.fit(diag_pat_one_train.ix[:,1:],diag_pat_one_train.FIRST_ICD9_DIAGNOSIS)"
   ]
  },
  {
   "cell_type": "code",
   "execution_count": 109,
   "metadata": {},
   "outputs": [
    {
     "data": {
      "text/plain": [
       "RandomForestClassifier(bootstrap=True, class_weight=None, criterion='entropy',\n",
       "            max_depth=9, max_features='auto', max_leaf_nodes=None,\n",
       "            min_impurity_decrease=0.0, min_impurity_split=None,\n",
       "            min_samples_leaf=1, min_samples_split=2,\n",
       "            min_weight_fraction_leaf=0.0, n_estimators=20, n_jobs=1,\n",
       "            oob_score=True, random_state=None, verbose=0, warm_start=False)"
      ]
     },
     "execution_count": 109,
     "metadata": {},
     "output_type": "execute_result"
    }
   ],
   "source": [
    "grid_clf.best_estimator_"
   ]
  },
  {
   "cell_type": "code",
   "execution_count": 110,
   "metadata": {},
   "outputs": [
    {
     "name": "stdout",
     "output_type": "stream",
     "text": [
      "{'max_depth': 9, 'n_estimators': 20}\n"
     ]
    },
    {
     "data": {
      "text/plain": [
       "0.15999406880189798"
      ]
     },
     "execution_count": 110,
     "metadata": {},
     "output_type": "execute_result"
    }
   ],
   "source": [
    "print(grid_clf.best_params_)\n",
    "# accuracy of best model = \n",
    "grid_clf.best_score_"
   ]
  },
  {
   "cell_type": "code",
   "execution_count": null,
   "metadata": {},
   "outputs": [],
   "source": []
  }
 ],
 "metadata": {
  "kernelspec": {
   "display_name": "Python 3",
   "language": "python",
   "name": "python3"
  },
  "language_info": {
   "codemirror_mode": {
    "name": "ipython",
    "version": 3
   },
   "file_extension": ".py",
   "mimetype": "text/x-python",
   "name": "python",
   "nbconvert_exporter": "python",
   "pygments_lexer": "ipython3",
   "version": "3.6.5"
  }
 },
 "nbformat": 4,
 "nbformat_minor": 2
}
