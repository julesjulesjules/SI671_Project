{
 "cells": [
  {
   "cell_type": "code",
   "execution_count": 1,
   "metadata": {},
   "outputs": [],
   "source": [
    "import pandas as pd\n",
    "import numpy as np\n",
    "import scipy as sp\n",
    "import sklearn as sk\n",
    "from sklearn.model_selection import train_test_split\n",
    "from sklearn.model_selection import cross_val_score\n",
    "import sklearn.ensemble as skens\n",
    "import sklearn.metrics as skmetric\n",
    "import sklearn.naive_bayes as sknb\n",
    "import sklearn.tree as sktree\n",
    "import matplotlib.pyplot as plt\n",
    "%matplotlib inline\n",
    "import seaborn as sns\n",
    "sns.set(style='white', color_codes=True, font_scale=1.3)\n",
    "import sklearn.externals.six as sksix\n",
    "import IPython.display as ipd\n",
    "from sklearn.model_selection import cross_val_score\n",
    "from sklearn import metrics\n",
    "import os\n",
    "from sklearn.model_selection import GridSearchCV\n",
    "from sklearn.metrics import accuracy_score"
   ]
  },
  {
   "cell_type": "code",
   "execution_count": 25,
   "metadata": {},
   "outputs": [],
   "source": [
    "# Filter all warnings.\n",
    "import warnings\n",
    "warnings.filterwarnings('ignore')"
   ]
  },
  {
   "cell_type": "code",
   "execution_count": 26,
   "metadata": {},
   "outputs": [],
   "source": [
    "dpicm_cm = pd.read_csv(\"dpicm_cm.csv\")\n",
    "icd_one = pd.read_csv(\"icd_one.csv\")\n",
    "icd_two = pd.read_csv(\"icd_two.csv\")\n",
    "icd_three = pd.read_csv(\"icd_three.csv\")\n",
    "icd_full = pd.read_csv(\"icd_full.csv\")"
   ]
  },
  {
   "cell_type": "code",
   "execution_count": 4,
   "metadata": {},
   "outputs": [
    {
     "data": {
      "text/html": [
       "<div>\n",
       "<style scoped>\n",
       "    .dataframe tbody tr th:only-of-type {\n",
       "        vertical-align: middle;\n",
       "    }\n",
       "\n",
       "    .dataframe tbody tr th {\n",
       "        vertical-align: top;\n",
       "    }\n",
       "\n",
       "    .dataframe thead th {\n",
       "        text-align: right;\n",
       "    }\n",
       "</style>\n",
       "<table border=\"1\" class=\"dataframe\">\n",
       "  <thead>\n",
       "    <tr style=\"text-align: right;\">\n",
       "      <th></th>\n",
       "      <th>FIRST_ICD9_DIAGNOSIS</th>\n",
       "      <th>FIRST_ITEMID2</th>\n",
       "      <th>CATS</th>\n",
       "      <th>FIRST_NUMBER</th>\n",
       "      <th>LAST_ITEMID2</th>\n",
       "      <th>LAST_CATS</th>\n",
       "      <th>LAST_NUMBER</th>\n",
       "      <th>ICUFIRSTCAREUNIT</th>\n",
       "      <th>ICULASTCAREUNIT</th>\n",
       "      <th>ICUFIRSTWARDID</th>\n",
       "      <th>...</th>\n",
       "      <th>ICU_LOS</th>\n",
       "      <th>SAMECARE</th>\n",
       "      <th>SAMEWARD</th>\n",
       "      <th>LANGUAGE</th>\n",
       "      <th>RELIGION</th>\n",
       "      <th>MARITAL_STATUS</th>\n",
       "      <th>ETHNICITY</th>\n",
       "      <th>DIAGNOSIS</th>\n",
       "      <th>GENDER</th>\n",
       "      <th>LENGTHOFSTAY_DAYS</th>\n",
       "    </tr>\n",
       "  </thead>\n",
       "  <tbody>\n",
       "    <tr>\n",
       "      <th>0</th>\n",
       "      <td>9678</td>\n",
       "      <td>69</td>\n",
       "      <td>1</td>\n",
       "      <td>0.0</td>\n",
       "      <td>69</td>\n",
       "      <td>1</td>\n",
       "      <td>0.0</td>\n",
       "      <td>1</td>\n",
       "      <td>1</td>\n",
       "      <td>1</td>\n",
       "      <td>...</td>\n",
       "      <td>1.1438</td>\n",
       "      <td>1</td>\n",
       "      <td>1</td>\n",
       "      <td>1</td>\n",
       "      <td>1</td>\n",
       "      <td>1</td>\n",
       "      <td>1</td>\n",
       "      <td>1</td>\n",
       "      <td>1</td>\n",
       "      <td>1</td>\n",
       "    </tr>\n",
       "    <tr>\n",
       "      <th>1</th>\n",
       "      <td>2252</td>\n",
       "      <td>226381</td>\n",
       "      <td>4</td>\n",
       "      <td>0.0</td>\n",
       "      <td>226228</td>\n",
       "      <td>1</td>\n",
       "      <td>0.0</td>\n",
       "      <td>2</td>\n",
       "      <td>2</td>\n",
       "      <td>2</td>\n",
       "      <td>...</td>\n",
       "      <td>1.2641</td>\n",
       "      <td>1</td>\n",
       "      <td>1</td>\n",
       "      <td>2</td>\n",
       "      <td>2</td>\n",
       "      <td>1</td>\n",
       "      <td>1</td>\n",
       "      <td>2</td>\n",
       "      <td>2</td>\n",
       "      <td>6</td>\n",
       "    </tr>\n",
       "    <tr>\n",
       "      <th>2</th>\n",
       "      <td>2252</td>\n",
       "      <td>226381</td>\n",
       "      <td>4</td>\n",
       "      <td>0.0</td>\n",
       "      <td>226228</td>\n",
       "      <td>1</td>\n",
       "      <td>0.0</td>\n",
       "      <td>3</td>\n",
       "      <td>3</td>\n",
       "      <td>3</td>\n",
       "      <td>...</td>\n",
       "      <td>1.1862</td>\n",
       "      <td>1</td>\n",
       "      <td>1</td>\n",
       "      <td>2</td>\n",
       "      <td>2</td>\n",
       "      <td>1</td>\n",
       "      <td>1</td>\n",
       "      <td>2</td>\n",
       "      <td>2</td>\n",
       "      <td>6</td>\n",
       "    </tr>\n",
       "    <tr>\n",
       "      <th>3</th>\n",
       "      <td>41041</td>\n",
       "      <td>159</td>\n",
       "      <td>2</td>\n",
       "      <td>0.0</td>\n",
       "      <td>27</td>\n",
       "      <td>9</td>\n",
       "      <td>0.0</td>\n",
       "      <td>4</td>\n",
       "      <td>4</td>\n",
       "      <td>4</td>\n",
       "      <td>...</td>\n",
       "      <td>0.5124</td>\n",
       "      <td>1</td>\n",
       "      <td>1</td>\n",
       "      <td>1</td>\n",
       "      <td>3</td>\n",
       "      <td>2</td>\n",
       "      <td>1</td>\n",
       "      <td>3</td>\n",
       "      <td>2</td>\n",
       "      <td>2</td>\n",
       "    </tr>\n",
       "    <tr>\n",
       "      <th>4</th>\n",
       "      <td>41071</td>\n",
       "      <td>781</td>\n",
       "      <td>1</td>\n",
       "      <td>51.0</td>\n",
       "      <td>43</td>\n",
       "      <td>3</td>\n",
       "      <td>0.0</td>\n",
       "      <td>4</td>\n",
       "      <td>4</td>\n",
       "      <td>4</td>\n",
       "      <td>...</td>\n",
       "      <td>3.5466</td>\n",
       "      <td>1</td>\n",
       "      <td>1</td>\n",
       "      <td>1</td>\n",
       "      <td>1</td>\n",
       "      <td>1</td>\n",
       "      <td>1</td>\n",
       "      <td>4</td>\n",
       "      <td>2</td>\n",
       "      <td>3</td>\n",
       "    </tr>\n",
       "  </tbody>\n",
       "</table>\n",
       "<p>5 rows × 21 columns</p>\n",
       "</div>"
      ],
      "text/plain": [
       "  FIRST_ICD9_DIAGNOSIS  FIRST_ITEMID2  CATS  FIRST_NUMBER  LAST_ITEMID2  \\\n",
       "0                 9678             69     1           0.0            69   \n",
       "1                 2252         226381     4           0.0        226228   \n",
       "2                 2252         226381     4           0.0        226228   \n",
       "3                41041            159     2           0.0            27   \n",
       "4                41071            781     1          51.0            43   \n",
       "\n",
       "   LAST_CATS  LAST_NUMBER  ICUFIRSTCAREUNIT  ICULASTCAREUNIT  ICUFIRSTWARDID  \\\n",
       "0          1          0.0                 1                1               1   \n",
       "1          1          0.0                 2                2               2   \n",
       "2          1          0.0                 3                3               3   \n",
       "3          9          0.0                 4                4               4   \n",
       "4          3          0.0                 4                4               4   \n",
       "\n",
       "         ...          ICU_LOS  SAMECARE  SAMEWARD  LANGUAGE  RELIGION  \\\n",
       "0        ...           1.1438         1         1         1         1   \n",
       "1        ...           1.2641         1         1         2         2   \n",
       "2        ...           1.1862         1         1         2         2   \n",
       "3        ...           0.5124         1         1         1         3   \n",
       "4        ...           3.5466         1         1         1         1   \n",
       "\n",
       "   MARITAL_STATUS  ETHNICITY  DIAGNOSIS  GENDER  LENGTHOFSTAY_DAYS  \n",
       "0               1          1          1       1                  1  \n",
       "1               1          1          2       2                  6  \n",
       "2               1          1          2       2                  6  \n",
       "3               2          1          3       2                  2  \n",
       "4               1          1          4       2                  3  \n",
       "\n",
       "[5 rows x 21 columns]"
      ]
     },
     "execution_count": 4,
     "metadata": {},
     "output_type": "execute_result"
    }
   ],
   "source": [
    "icd_one.head()"
   ]
  },
  {
   "cell_type": "markdown",
   "metadata": {},
   "source": [
    "Removing sameward, samecare, and last number from consideration due to feature importance"
   ]
  },
  {
   "cell_type": "code",
   "execution_count": 27,
   "metadata": {},
   "outputs": [
    {
     "data": {
      "text/plain": [
       "Index(['FIRST_ICD9_DIAGNOSIS', 'FIRST_ITEMID2', 'CATS', 'FIRST_NUMBER',\n",
       "       'LAST_ITEMID2', 'LAST_CATS', 'LAST_NUMBER', 'ICUFIRSTCAREUNIT',\n",
       "       'ICULASTCAREUNIT', 'ICUFIRSTWARDID', 'ICULASTWARDID', 'ICU_LOS',\n",
       "       'SAMECARE', 'SAMEWARD', 'LANGUAGE', 'RELIGION', 'MARITAL_STATUS',\n",
       "       'ETHNICITY', 'DIAGNOSIS', 'GENDER', 'LENGTHOFSTAY_DAYS'],\n",
       "      dtype='object')"
      ]
     },
     "execution_count": 27,
     "metadata": {},
     "output_type": "execute_result"
    }
   ],
   "source": [
    "icd_one.columns"
   ]
  },
  {
   "cell_type": "code",
   "execution_count": 28,
   "metadata": {},
   "outputs": [],
   "source": [
    "icd_one = icd_one[['FIRST_ICD9_DIAGNOSIS', 'FIRST_ITEMID2', 'CATS', 'FIRST_NUMBER',\n",
    "       'LAST_ITEMID2', 'LAST_CATS', 'ICUFIRSTCAREUNIT',\n",
    "       'ICULASTCAREUNIT', 'ICUFIRSTWARDID', 'ICULASTWARDID', 'ICU_LOS',\n",
    "       'LANGUAGE', 'RELIGION', 'MARITAL_STATUS',\n",
    "       'ETHNICITY', 'DIAGNOSIS', 'GENDER', 'LENGTHOFSTAY_DAYS']]"
   ]
  },
  {
   "cell_type": "code",
   "execution_count": 29,
   "metadata": {},
   "outputs": [],
   "source": [
    "icd_two = icd_two[['SECOND_ICD9_DIAGNOSIS', 'FIRST_ITEMID2', 'CATS', 'FIRST_NUMBER',\n",
    "       'LAST_ITEMID2', 'LAST_CATS', 'ICUFIRSTCAREUNIT',\n",
    "       'ICULASTCAREUNIT', 'ICUFIRSTWARDID', 'ICULASTWARDID', 'ICU_LOS',\n",
    "       'LANGUAGE', 'RELIGION', 'MARITAL_STATUS',\n",
    "       'ETHNICITY', 'DIAGNOSIS', 'GENDER', 'LENGTHOFSTAY_DAYS']]"
   ]
  },
  {
   "cell_type": "code",
   "execution_count": 30,
   "metadata": {},
   "outputs": [],
   "source": [
    "icd_three = icd_three[['THIRD_ICD9_DIAGNOSIS', 'FIRST_ITEMID2', 'CATS', 'FIRST_NUMBER',\n",
    "       'LAST_ITEMID2', 'LAST_CATS', 'ICUFIRSTCAREUNIT',\n",
    "       'ICULASTCAREUNIT', 'ICUFIRSTWARDID', 'ICULASTWARDID', 'ICU_LOS',\n",
    "       'LANGUAGE', 'RELIGION', 'MARITAL_STATUS',\n",
    "       'ETHNICITY', 'DIAGNOSIS', 'GENDER', 'LENGTHOFSTAY_DAYS']]"
   ]
  },
  {
   "cell_type": "code",
   "execution_count": 31,
   "metadata": {},
   "outputs": [],
   "source": [
    "icd_full = icd_full[['ICD9_DIAGNOSIS', 'FIRST_ITEMID2', 'CATS', 'FIRST_NUMBER',\n",
    "       'LAST_ITEMID2', 'LAST_CATS', 'ICUFIRSTCAREUNIT',\n",
    "       'ICULASTCAREUNIT', 'ICUFIRSTWARDID', 'ICULASTWARDID', 'ICU_LOS',\n",
    "       'LANGUAGE', 'RELIGION', 'MARITAL_STATUS',\n",
    "       'ETHNICITY', 'DIAGNOSIS', 'GENDER', 'LENGTHOFSTAY_DAYS']]"
   ]
  },
  {
   "cell_type": "markdown",
   "metadata": {},
   "source": [
    "## Predicting Some ICD9 Codes Better than Others?"
   ]
  },
  {
   "cell_type": "code",
   "execution_count": 32,
   "metadata": {},
   "outputs": [],
   "source": [
    "def forest_set(o_data, ts, icd9):\n",
    "\n",
    "    if icd9 == 1: \n",
    "        icd_col = 'FIRST_ICD9_DIAGNOSIS'\n",
    "    elif icd9 == 2: \n",
    "        icd_col = 'SECOND_ICD9_DIAGNOSIS'\n",
    "    elif icd9 == 3:  \n",
    "        icd_col = 'THIRD_ICD9_DIAGNOSIS'\n",
    "    else: \n",
    "        icd_col = 'ICD9_DIAGNOSIS'\n",
    "        \n",
    "    otrain,otest = train_test_split(o_data, test_size=ts)\n",
    "    rf_model = skens.RandomForestClassifier(n_estimators=10,oob_score=True, criterion='entropy')\n",
    "    rf_model.fit(otrain.ix[:,1:],otrain[icd_col])\n",
    "    predicted_labels = rf_model.predict(otest.ix[:,1:])\n",
    "    \n",
    "    otest['predicted_rf_tree'] = predicted_labels\n",
    "    accuracy = accuracy_score(otest[icd_col], predicted_labels)\n",
    "    \n",
    "    acc_by_code = {}\n",
    "    for each_icd in otest[icd_col].unique():\n",
    "        otest_bit = otest[(otest[icd_col] == each_icd)]\n",
    "        accuracy_set = accuracy_score(otest_bit[icd_col], otest_bit['predicted_rf_tree'])\n",
    "        acc_by_code[each_icd] = accuracy_set\n",
    "        \n",
    "    return((accuracy, acc_by_code))"
   ]
  },
  {
   "cell_type": "code",
   "execution_count": 33,
   "metadata": {},
   "outputs": [],
   "source": [
    "def viz_acc_icd(acc_tup, file_name):\n",
    "    objects = []\n",
    "    performance = []\n",
    "    for each_key in acc_tup[1]:\n",
    "        if acc_tup[1][each_key] > 0:\n",
    "            objects.append(each_key)\n",
    "            performance.append(acc_tup[1][each_key])\n",
    "    threshold = acc_tup[0]\n",
    "    y_pos = np.arange(len(objects))\n",
    "\n",
    "    plt.bar(y_pos, performance, align='center', alpha=0.5, color=(254/255, 168/255, 182/255))\n",
    "    #plt.xticks(y_pos, objects, rotation=90)\n",
    "    #[0., len(objects)], \n",
    "    plt.axhline(threshold, color=\"gray\")\n",
    "    plt.ylim(0, 1) \n",
    "    plt.ylabel('Accuracy')\n",
    "    plt.xlabel('ICD-9 Code')\n",
    "    plt.title('Accuracy Across ICD-9 Codes')\n",
    "    plt.savefig(file_name)\n",
    "    plt.close()\n",
    "    #plt.show()"
   ]
  },
  {
   "cell_type": "code",
   "execution_count": 34,
   "metadata": {},
   "outputs": [],
   "source": [
    "def which_codes(code_dict):\n",
    "    over_ninety = {}\n",
    "    for each_code in code_dict: \n",
    "        if code_dict[each_code] > .90: \n",
    "            over_ninety[each_code] = code_dict[each_code]\n",
    "    onine = pd.Series(over_ninety).to_frame()\n",
    "    onine.columns = ['Accuracy']\n",
    "    return(onine)"
   ]
  },
  {
   "cell_type": "code",
   "execution_count": 36,
   "metadata": {},
   "outputs": [],
   "source": [
    "return_acc_one = forest_set(icd_one, 0.3, 1)\n",
    "viz_acc_icd(return_acc_one, 'acc_one_test.png')"
   ]
  },
  {
   "cell_type": "code",
   "execution_count": 28,
   "metadata": {},
   "outputs": [
    {
     "data": {
      "text/plain": [
       "1778"
      ]
     },
     "execution_count": 28,
     "metadata": {},
     "output_type": "execute_result"
    }
   ],
   "source": []
  },
  {
   "cell_type": "code",
   "execution_count": 37,
   "metadata": {},
   "outputs": [
    {
     "name": "stdout",
     "output_type": "stream",
     "text": [
      "182\n"
     ]
    },
    {
     "data": {
      "text/html": [
       "<div>\n",
       "<style scoped>\n",
       "    .dataframe tbody tr th:only-of-type {\n",
       "        vertical-align: middle;\n",
       "    }\n",
       "\n",
       "    .dataframe tbody tr th {\n",
       "        vertical-align: top;\n",
       "    }\n",
       "\n",
       "    .dataframe thead th {\n",
       "        text-align: right;\n",
       "    }\n",
       "</style>\n",
       "<table border=\"1\" class=\"dataframe\">\n",
       "  <thead>\n",
       "    <tr style=\"text-align: right;\">\n",
       "      <th></th>\n",
       "      <th>Accuracy</th>\n",
       "    </tr>\n",
       "  </thead>\n",
       "  <tbody>\n",
       "    <tr>\n",
       "      <th>2798</th>\n",
       "      <td>0.913043</td>\n",
       "    </tr>\n",
       "    <tr>\n",
       "      <th>40301</th>\n",
       "      <td>0.939781</td>\n",
       "    </tr>\n",
       "    <tr>\n",
       "      <th>25061</th>\n",
       "      <td>0.937063</td>\n",
       "    </tr>\n",
       "    <tr>\n",
       "      <th>82322</th>\n",
       "      <td>1.000000</td>\n",
       "    </tr>\n",
       "    <tr>\n",
       "      <th>V561</th>\n",
       "      <td>1.000000</td>\n",
       "    </tr>\n",
       "  </tbody>\n",
       "</table>\n",
       "</div>"
      ],
      "text/plain": [
       "       Accuracy\n",
       "2798   0.913043\n",
       "40301  0.939781\n",
       "25061  0.937063\n",
       "82322  1.000000\n",
       "V561   1.000000"
      ]
     },
     "execution_count": 37,
     "metadata": {},
     "output_type": "execute_result"
    }
   ],
   "source": [
    "ret = which_codes(return_acc_one[1])\n",
    "print(len(ret))\n",
    "ret.head()"
   ]
  },
  {
   "cell_type": "code",
   "execution_count": 38,
   "metadata": {},
   "outputs": [
    {
     "data": {
      "text/plain": [
       "1810"
      ]
     },
     "execution_count": 38,
     "metadata": {},
     "output_type": "execute_result"
    }
   ],
   "source": [
    "len(return_acc_one[1])"
   ]
  },
  {
   "cell_type": "code",
   "execution_count": 39,
   "metadata": {},
   "outputs": [],
   "source": [
    "return_acc_two = forest_set(icd_two, 0.3, 2)\n",
    "viz_acc_icd(return_acc_two, 'acc_two_test.png')"
   ]
  },
  {
   "cell_type": "code",
   "execution_count": 40,
   "metadata": {},
   "outputs": [
    {
     "data": {
      "text/plain": [
       "1586"
      ]
     },
     "execution_count": 40,
     "metadata": {},
     "output_type": "execute_result"
    }
   ],
   "source": [
    "len(return_acc_two[1])"
   ]
  },
  {
   "cell_type": "code",
   "execution_count": 41,
   "metadata": {},
   "outputs": [
    {
     "name": "stdout",
     "output_type": "stream",
     "text": [
      "176\n"
     ]
    },
    {
     "data": {
      "text/html": [
       "<div>\n",
       "<style scoped>\n",
       "    .dataframe tbody tr th:only-of-type {\n",
       "        vertical-align: middle;\n",
       "    }\n",
       "\n",
       "    .dataframe tbody tr th {\n",
       "        vertical-align: top;\n",
       "    }\n",
       "\n",
       "    .dataframe thead th {\n",
       "        text-align: right;\n",
       "    }\n",
       "</style>\n",
       "<table border=\"1\" class=\"dataframe\">\n",
       "  <thead>\n",
       "    <tr style=\"text-align: right;\">\n",
       "      <th></th>\n",
       "      <th>Accuracy</th>\n",
       "    </tr>\n",
       "  </thead>\n",
       "  <tbody>\n",
       "    <tr>\n",
       "      <th>51902</th>\n",
       "      <td>1.000000</td>\n",
       "    </tr>\n",
       "    <tr>\n",
       "      <th>40301</th>\n",
       "      <td>0.972603</td>\n",
       "    </tr>\n",
       "    <tr>\n",
       "      <th>78904</th>\n",
       "      <td>1.000000</td>\n",
       "    </tr>\n",
       "    <tr>\n",
       "      <th>1973</th>\n",
       "      <td>1.000000</td>\n",
       "    </tr>\n",
       "    <tr>\n",
       "      <th>4471</th>\n",
       "      <td>1.000000</td>\n",
       "    </tr>\n",
       "  </tbody>\n",
       "</table>\n",
       "</div>"
      ],
      "text/plain": [
       "       Accuracy\n",
       "51902  1.000000\n",
       "40301  0.972603\n",
       "78904  1.000000\n",
       "1973   1.000000\n",
       "4471   1.000000"
      ]
     },
     "execution_count": 41,
     "metadata": {},
     "output_type": "execute_result"
    }
   ],
   "source": [
    "ret2 = which_codes(return_acc_two[1])\n",
    "print(len(ret2))\n",
    "ret2.head()"
   ]
  },
  {
   "cell_type": "code",
   "execution_count": 42,
   "metadata": {},
   "outputs": [],
   "source": [
    "return_acc_three = forest_set(icd_three, 0.3, 3)\n",
    "viz_acc_icd(return_acc_three, 'acc_three_test.png')"
   ]
  },
  {
   "cell_type": "code",
   "execution_count": 43,
   "metadata": {},
   "outputs": [
    {
     "data": {
      "text/plain": [
       "1851"
      ]
     },
     "execution_count": 43,
     "metadata": {},
     "output_type": "execute_result"
    }
   ],
   "source": [
    "len(return_acc_three[1])"
   ]
  },
  {
   "cell_type": "code",
   "execution_count": 44,
   "metadata": {},
   "outputs": [
    {
     "name": "stdout",
     "output_type": "stream",
     "text": [
      "221\n"
     ]
    },
    {
     "data": {
      "text/html": [
       "<div>\n",
       "<style scoped>\n",
       "    .dataframe tbody tr th:only-of-type {\n",
       "        vertical-align: middle;\n",
       "    }\n",
       "\n",
       "    .dataframe tbody tr th {\n",
       "        vertical-align: top;\n",
       "    }\n",
       "\n",
       "    .dataframe thead th {\n",
       "        text-align: right;\n",
       "    }\n",
       "</style>\n",
       "<table border=\"1\" class=\"dataframe\">\n",
       "  <thead>\n",
       "    <tr style=\"text-align: right;\">\n",
       "      <th></th>\n",
       "      <th>Accuracy</th>\n",
       "    </tr>\n",
       "  </thead>\n",
       "  <tbody>\n",
       "    <tr>\n",
       "      <th>2554</th>\n",
       "      <td>0.902439</td>\n",
       "    </tr>\n",
       "    <tr>\n",
       "      <th>5846</th>\n",
       "      <td>1.000000</td>\n",
       "    </tr>\n",
       "    <tr>\n",
       "      <th>57142</th>\n",
       "      <td>1.000000</td>\n",
       "    </tr>\n",
       "    <tr>\n",
       "      <th>30481</th>\n",
       "      <td>1.000000</td>\n",
       "    </tr>\n",
       "    <tr>\n",
       "      <th>78901</th>\n",
       "      <td>1.000000</td>\n",
       "    </tr>\n",
       "  </tbody>\n",
       "</table>\n",
       "</div>"
      ],
      "text/plain": [
       "       Accuracy\n",
       "2554   0.902439\n",
       "5846   1.000000\n",
       "57142  1.000000\n",
       "30481  1.000000\n",
       "78901  1.000000"
      ]
     },
     "execution_count": 44,
     "metadata": {},
     "output_type": "execute_result"
    }
   ],
   "source": [
    "ret3 = which_codes(return_acc_three[1])\n",
    "print(len(ret3))\n",
    "ret3.head()"
   ]
  },
  {
   "cell_type": "code",
   "execution_count": 53,
   "metadata": {},
   "outputs": [],
   "source": [
    "# pull out index on each\n",
    "# merge\n",
    "# count matches\n",
    "\n",
    "ret['ICD'] = ret.index\n",
    "ret['NUM'] = 1\n",
    "ret2['ICD'] = ret2.index\n",
    "ret2['NUM'] = 2\n",
    "ret3['ICD'] = ret3.index\n",
    "ret3['NUM'] = 10"
   ]
  },
  {
   "cell_type": "code",
   "execution_count": 58,
   "metadata": {},
   "outputs": [
    {
     "name": "stdout",
     "output_type": "stream",
     "text": [
      "182\n",
      "176\n",
      "221\n"
     ]
    }
   ],
   "source": [
    "print(len(ret))\n",
    "print(len(ret2))\n",
    "print(len(ret3))"
   ]
  },
  {
   "cell_type": "code",
   "execution_count": 54,
   "metadata": {},
   "outputs": [],
   "source": [
    "all_ret = ret.merge(ret2, on='ICD', how='outer')\n",
    "all_ret = all_ret.merge(ret3, on='ICD', how='outer')"
   ]
  },
  {
   "cell_type": "code",
   "execution_count": 55,
   "metadata": {},
   "outputs": [
    {
     "data": {
      "text/html": [
       "<div>\n",
       "<style scoped>\n",
       "    .dataframe tbody tr th:only-of-type {\n",
       "        vertical-align: middle;\n",
       "    }\n",
       "\n",
       "    .dataframe tbody tr th {\n",
       "        vertical-align: top;\n",
       "    }\n",
       "\n",
       "    .dataframe thead th {\n",
       "        text-align: right;\n",
       "    }\n",
       "</style>\n",
       "<table border=\"1\" class=\"dataframe\">\n",
       "  <thead>\n",
       "    <tr style=\"text-align: right;\">\n",
       "      <th></th>\n",
       "      <th>Accuracy_x</th>\n",
       "      <th>ICD</th>\n",
       "      <th>NUM_x</th>\n",
       "      <th>Accuracy_y</th>\n",
       "      <th>NUM_y</th>\n",
       "      <th>Accuracy</th>\n",
       "      <th>NUM</th>\n",
       "    </tr>\n",
       "  </thead>\n",
       "  <tbody>\n",
       "    <tr>\n",
       "      <th>0</th>\n",
       "      <td>0.913043</td>\n",
       "      <td>2798</td>\n",
       "      <td>1.0</td>\n",
       "      <td>NaN</td>\n",
       "      <td>NaN</td>\n",
       "      <td>NaN</td>\n",
       "      <td>NaN</td>\n",
       "    </tr>\n",
       "    <tr>\n",
       "      <th>1</th>\n",
       "      <td>0.939781</td>\n",
       "      <td>40301</td>\n",
       "      <td>1.0</td>\n",
       "      <td>0.972603</td>\n",
       "      <td>2.0</td>\n",
       "      <td>0.908333</td>\n",
       "      <td>10.0</td>\n",
       "    </tr>\n",
       "    <tr>\n",
       "      <th>2</th>\n",
       "      <td>0.937063</td>\n",
       "      <td>25061</td>\n",
       "      <td>1.0</td>\n",
       "      <td>0.954955</td>\n",
       "      <td>2.0</td>\n",
       "      <td>NaN</td>\n",
       "      <td>NaN</td>\n",
       "    </tr>\n",
       "    <tr>\n",
       "      <th>3</th>\n",
       "      <td>1.000000</td>\n",
       "      <td>82322</td>\n",
       "      <td>1.0</td>\n",
       "      <td>NaN</td>\n",
       "      <td>NaN</td>\n",
       "      <td>NaN</td>\n",
       "      <td>NaN</td>\n",
       "    </tr>\n",
       "    <tr>\n",
       "      <th>4</th>\n",
       "      <td>1.000000</td>\n",
       "      <td>V561</td>\n",
       "      <td>1.0</td>\n",
       "      <td>NaN</td>\n",
       "      <td>NaN</td>\n",
       "      <td>NaN</td>\n",
       "      <td>NaN</td>\n",
       "    </tr>\n",
       "  </tbody>\n",
       "</table>\n",
       "</div>"
      ],
      "text/plain": [
       "   Accuracy_x    ICD  NUM_x  Accuracy_y  NUM_y  Accuracy   NUM\n",
       "0    0.913043   2798    1.0         NaN    NaN       NaN   NaN\n",
       "1    0.939781  40301    1.0    0.972603    2.0  0.908333  10.0\n",
       "2    0.937063  25061    1.0    0.954955    2.0       NaN   NaN\n",
       "3    1.000000  82322    1.0         NaN    NaN       NaN   NaN\n",
       "4    1.000000   V561    1.0         NaN    NaN       NaN   NaN"
      ]
     },
     "execution_count": 55,
     "metadata": {},
     "output_type": "execute_result"
    }
   ],
   "source": [
    "all_ret.head()"
   ]
  },
  {
   "cell_type": "code",
   "execution_count": 56,
   "metadata": {},
   "outputs": [
    {
     "data": {
      "text/html": [
       "<div>\n",
       "<style scoped>\n",
       "    .dataframe tbody tr th:only-of-type {\n",
       "        vertical-align: middle;\n",
       "    }\n",
       "\n",
       "    .dataframe tbody tr th {\n",
       "        vertical-align: top;\n",
       "    }\n",
       "\n",
       "    .dataframe thead th {\n",
       "        text-align: right;\n",
       "    }\n",
       "</style>\n",
       "<table border=\"1\" class=\"dataframe\">\n",
       "  <thead>\n",
       "    <tr style=\"text-align: right;\">\n",
       "      <th></th>\n",
       "      <th>Accuracy_x</th>\n",
       "      <th>ICD</th>\n",
       "      <th>NUM_x</th>\n",
       "      <th>Accuracy_y</th>\n",
       "      <th>NUM_y</th>\n",
       "      <th>Accuracy</th>\n",
       "      <th>NUM</th>\n",
       "      <th>sumsum</th>\n",
       "    </tr>\n",
       "  </thead>\n",
       "  <tbody>\n",
       "    <tr>\n",
       "      <th>0</th>\n",
       "      <td>0.913043</td>\n",
       "      <td>2798</td>\n",
       "      <td>1.0</td>\n",
       "      <td>NaN</td>\n",
       "      <td>NaN</td>\n",
       "      <td>NaN</td>\n",
       "      <td>NaN</td>\n",
       "      <td>1.0</td>\n",
       "    </tr>\n",
       "    <tr>\n",
       "      <th>1</th>\n",
       "      <td>0.939781</td>\n",
       "      <td>40301</td>\n",
       "      <td>1.0</td>\n",
       "      <td>0.972603</td>\n",
       "      <td>2.0</td>\n",
       "      <td>0.908333</td>\n",
       "      <td>10.0</td>\n",
       "      <td>13.0</td>\n",
       "    </tr>\n",
       "    <tr>\n",
       "      <th>2</th>\n",
       "      <td>0.937063</td>\n",
       "      <td>25061</td>\n",
       "      <td>1.0</td>\n",
       "      <td>0.954955</td>\n",
       "      <td>2.0</td>\n",
       "      <td>NaN</td>\n",
       "      <td>NaN</td>\n",
       "      <td>3.0</td>\n",
       "    </tr>\n",
       "    <tr>\n",
       "      <th>3</th>\n",
       "      <td>1.000000</td>\n",
       "      <td>82322</td>\n",
       "      <td>1.0</td>\n",
       "      <td>NaN</td>\n",
       "      <td>NaN</td>\n",
       "      <td>NaN</td>\n",
       "      <td>NaN</td>\n",
       "      <td>1.0</td>\n",
       "    </tr>\n",
       "    <tr>\n",
       "      <th>4</th>\n",
       "      <td>1.000000</td>\n",
       "      <td>V561</td>\n",
       "      <td>1.0</td>\n",
       "      <td>NaN</td>\n",
       "      <td>NaN</td>\n",
       "      <td>NaN</td>\n",
       "      <td>NaN</td>\n",
       "      <td>1.0</td>\n",
       "    </tr>\n",
       "  </tbody>\n",
       "</table>\n",
       "</div>"
      ],
      "text/plain": [
       "   Accuracy_x    ICD  NUM_x  Accuracy_y  NUM_y  Accuracy   NUM  sumsum\n",
       "0    0.913043   2798    1.0         NaN    NaN       NaN   NaN     1.0\n",
       "1    0.939781  40301    1.0    0.972603    2.0  0.908333  10.0    13.0\n",
       "2    0.937063  25061    1.0    0.954955    2.0       NaN   NaN     3.0\n",
       "3    1.000000  82322    1.0         NaN    NaN       NaN   NaN     1.0\n",
       "4    1.000000   V561    1.0         NaN    NaN       NaN   NaN     1.0"
      ]
     },
     "execution_count": 56,
     "metadata": {},
     "output_type": "execute_result"
    }
   ],
   "source": [
    "all_ret['sumsum'] = all_ret[['NUM_x', 'NUM_y', 'NUM']].sum(axis=1)\n",
    "all_ret.head()"
   ]
  },
  {
   "cell_type": "code",
   "execution_count": 57,
   "metadata": {},
   "outputs": [
    {
     "data": {
      "text/plain": [
       "10.0    189\n",
       "1.0     153\n",
       "2.0     142\n",
       "12.0     17\n",
       "3.0      14\n",
       "11.0     12\n",
       "13.0      3\n",
       "Name: sumsum, dtype: int64"
      ]
     },
     "execution_count": 57,
     "metadata": {},
     "output_type": "execute_result"
    }
   ],
   "source": [
    "all_ret['sumsum'].value_counts()"
   ]
  },
  {
   "cell_type": "code",
   "execution_count": 67,
   "metadata": {},
   "outputs": [
    {
     "data": {
      "text/plain": [
       "46"
      ]
     },
     "execution_count": 67,
     "metadata": {},
     "output_type": "execute_result"
    }
   ],
   "source": [
    "shared = all_ret[(all_ret.sumsum == 3) | (all_ret.sumsum == 11) | (all_ret.sumsum == 12) | (all_ret.sumsum == 13)]\n",
    "len(shared)"
   ]
  },
  {
   "cell_type": "code",
   "execution_count": 69,
   "metadata": {},
   "outputs": [
    {
     "data": {
      "text/plain": [
       "46"
      ]
     },
     "execution_count": 69,
     "metadata": {},
     "output_type": "execute_result"
    }
   ],
   "source": [
    "descriptors = shared.merge(desc, left_on = 'ICD', right_on = 'ICD9_CODE', how='left')\n",
    "descriptors.head()\n",
    "len(descriptors)"
   ]
  },
  {
   "cell_type": "code",
   "execution_count": 72,
   "metadata": {},
   "outputs": [
    {
     "name": "stdout",
     "output_type": "stream",
     "text": [
      "Hypertensive chronic kidney disease, malignant, with chronic kidney disease stage V or end stage renal disease\n",
      "Diabetes with neurological manifestations, type I [juvenile type], not stated as uncontrolled\n",
      "Severe pre-eclampsia, delivered, with or without mention of antepartum condition\n",
      "Pneumonia due to other specified bacteria\n",
      "Atrophic gastritis, with hemorrhage\n",
      "Other adrenal hypofunction\n",
      "Leukocytosis, unspecified\n",
      "Abdominal pain, other specified site\n",
      "Influenza due to identified avian influenza virus with pneumonia\n",
      "Stenosis of pulmonary valve, congenital\n",
      "Zygomycosis [Phycomycosis or Mucormycosis]\n",
      "Pyogenic arthritis, pelvic region and thigh\n",
      "Inflammatory conditions of jaw\n",
      "Other preterm infants, 1,750-1,999 grams\n",
      "Malignant neoplasm of splenic flexure\n",
      "Other specified disorders of pancreatic internal secretion\n",
      "nan\n",
      "Patent ductus arteriosus\n",
      "Miliary tuberculosis, unspecified, tubercle bacilli not found (in sputum) by microscopy, but found by bacterial culture\n",
      "Electrolyte and fluid disorders not elsewhere classified\n",
      "Opportunistic mycoses\n",
      "Septicemia [sepsis] of newborn\n",
      "Acute gouty arthropathy\n",
      "Complications of transplanted lung\n",
      "Peripheral T cell lymphoma, lymph nodes of multiple sites\n",
      "nan\n",
      "Hemophagocytic syndromes\n",
      "Systemic inflammatory response syndrome, unspecified\n",
      "Chronic lymphoid leukemia, in relapse\n",
      "Diabetes with other coma, type I [juvenile type], uncontrolled\n",
      "Peripheral autonomic neuropathy in disorders classified elsewhere\n",
      "Alcohol abuse, episodic\n",
      "nan\n",
      "Other malignant lymphomas, lymph nodes of head, face, and neck\n",
      "Pain in limb\n",
      "Pneumonia in cytomegalic inclusion disease\n",
      "nan\n",
      "Acute on chronic graft-versus-host disease\n",
      "Other and unspecified ovarian cyst\n",
      "Pneumonia due to other specified organism\n",
      "Autoimmune hepatitis\n",
      "Accidental poisoning by hormones and synthetic substitutes\n",
      "Compression of vein\n",
      "Long-term (current) use of steroids\n",
      "Benzodiazepine-based tranquilizers causing adverse effects in therapeutic use\n",
      "Diabetes with hyperosmolarity, type I [juvenile type], not stated as uncontrolled\n"
     ]
    }
   ],
   "source": [
    "for each in descriptors['LONG_TITLE']: \n",
    "    print(each)"
   ]
  },
  {
   "cell_type": "code",
   "execution_count": 25,
   "metadata": {},
   "outputs": [
    {
     "data": {
      "text/plain": [
       "count    183.000000\n",
       "mean       0.997908\n",
       "std        0.011792\n",
       "min        0.902439\n",
       "25%        1.000000\n",
       "50%        1.000000\n",
       "75%        1.000000\n",
       "max        1.000000\n",
       "Name: Accuracy, dtype: float64"
      ]
     },
     "execution_count": 25,
     "metadata": {},
     "output_type": "execute_result"
    }
   ],
   "source": [
    "ret = ret.sort_values(by='Accuracy', ascending=False)\n",
    "ret['Accuracy'].describe()"
   ]
  },
  {
   "cell_type": "code",
   "execution_count": 24,
   "metadata": {},
   "outputs": [
    {
     "data": {
      "text/plain": [
       "count    172.000000\n",
       "mean       0.996533\n",
       "std        0.015208\n",
       "min        0.909091\n",
       "25%        1.000000\n",
       "50%        1.000000\n",
       "75%        1.000000\n",
       "max        1.000000\n",
       "Name: Accuracy, dtype: float64"
      ]
     },
     "execution_count": 24,
     "metadata": {},
     "output_type": "execute_result"
    }
   ],
   "source": [
    "ret2 = ret2.sort_values(by='Accuracy', ascending=False)\n",
    "ret2['Accuracy'].describe()"
   ]
  },
  {
   "cell_type": "code",
   "execution_count": 26,
   "metadata": {},
   "outputs": [
    {
     "data": {
      "text/plain": [
       "count    204.000000\n",
       "mean       0.997606\n",
       "std        0.013946\n",
       "min        0.900901\n",
       "25%        1.000000\n",
       "50%        1.000000\n",
       "75%        1.000000\n",
       "max        1.000000\n",
       "Name: Accuracy, dtype: float64"
      ]
     },
     "execution_count": 26,
     "metadata": {},
     "output_type": "execute_result"
    }
   ],
   "source": [
    "ret3 = ret3.sort_values(by='Accuracy', ascending=False)\n",
    "ret3['Accuracy'].describe()"
   ]
  },
  {
   "cell_type": "markdown",
   "metadata": {},
   "source": [
    "## How many are in the ALL top 10%"
   ]
  },
  {
   "cell_type": "code",
   "execution_count": 31,
   "metadata": {},
   "outputs": [],
   "source": [
    "ALL = ['9678','9693','E9502','E9503','3488','29620','4019','2252','3485',\n",
    " '78039','4241','2720','2724','V4581','V4579','V1582','41041','41401','53081']"
   ]
  },
  {
   "cell_type": "code",
   "execution_count": 32,
   "metadata": {},
   "outputs": [
    {
     "name": "stdout",
     "output_type": "stream",
     "text": [
      "{'41401': 0.5894621295279913, '78039': 0.3888888888888889, '4019': 0.5675675675675675, '41041': 0.18681318681318682, '4241': 0.22459893048128343, '3488': 0.0, '2252': 0.2, '9678': 0.2857142857142857, '9693': 0.0, '53081': 0.7}\n"
     ]
    }
   ],
   "source": [
    "one_in_ten = {}\n",
    "for each_key in return_acc_one[1]:\n",
    "    if each_key in ALL: \n",
    "        one_in_ten[each_key] = return_acc_one[1][each_key]\n",
    "print(one_in_ten)"
   ]
  },
  {
   "cell_type": "code",
   "execution_count": 33,
   "metadata": {},
   "outputs": [
    {
     "name": "stdout",
     "output_type": "stream",
     "text": [
      "{'3485': 0.22115384615384615, '78039': 0.5, '41401': 0.3569553805774278, '4019': 0.1032258064516129, '4241': 0.3902439024390244, '53081': 0.3125, '41041': 0.4117647058823529, '2720': 0.15384615384615385, '29620': 0.0, '2724': 0.44, '3488': 0.0, 'V4581': 0.0, '9693': 0.0, 'E9503': 0.0}\n"
     ]
    }
   ],
   "source": [
    "two_in_ten = {}\n",
    "for each_key in return_acc_two[1]:\n",
    "    if each_key in ALL: \n",
    "        two_in_ten[each_key] = return_acc_two[1][each_key]\n",
    "print(two_in_ten)"
   ]
  },
  {
   "cell_type": "code",
   "execution_count": 34,
   "metadata": {},
   "outputs": [
    {
     "name": "stdout",
     "output_type": "stream",
     "text": [
      "{'4019': 0.3452914798206278, '41401': 0.33226837060702874, '78039': 0.5300546448087432, 'V4581': 0.3, '3485': 0.28169014084507044, '2720': 0.23148148148148148, '53081': 0.4423076923076923, '4241': 0.3380281690140845, '2724': 0.4583333333333333, 'E9503': 0.42857142857142855, '41041': 0.5454545454545454, '29620': 0.6, '9693': 0.0, 'V1582': 0.0, '3488': 0.3333333333333333, 'E9502': 0.0, '2252': 0.0}\n"
     ]
    }
   ],
   "source": [
    "three_in_ten = {}\n",
    "for each_key in return_acc_three[1]:\n",
    "    if each_key in ALL: \n",
    "        three_in_ten[each_key] = return_acc_three[1][each_key]\n",
    "print(three_in_ten)"
   ]
  },
  {
   "cell_type": "code",
   "execution_count": 35,
   "metadata": {},
   "outputs": [],
   "source": [
    "o = ['9678',\n",
    " '2252',\n",
    " '41041',\n",
    " '41071',\n",
    " '99604',\n",
    " '99674',\n",
    " '3453',\n",
    " '0389',\n",
    " '42789',\n",
    " '41401']"
   ]
  },
  {
   "cell_type": "code",
   "execution_count": 36,
   "metadata": {},
   "outputs": [],
   "source": [
    "t = ['9693',\n",
    " '3485',\n",
    " '41401',\n",
    " '25011',\n",
    " '4271',\n",
    " '4160',\n",
    " '20190',\n",
    " '4928',\n",
    " '4280',\n",
    " '42822',\n",
    " '4111',\n",
    " '99811',\n",
    " '0389',\n",
    " '5722',\n",
    " '03810',\n",
    " '78559',\n",
    " '3453',\n",
    " 'E9102',\n",
    " '5849']"
   ]
  },
  {
   "cell_type": "code",
   "execution_count": 37,
   "metadata": {},
   "outputs": [],
   "source": [
    "th = ['E9502',\n",
    " '78039',\n",
    " '53081',\n",
    " '41401',\n",
    " '4280',\n",
    " '4111',\n",
    " '515',\n",
    " '49390',\n",
    " '4254',\n",
    " '4263',\n",
    " '496',\n",
    " '41511',\n",
    " '99592',\n",
    " '2867',\n",
    " '5849']"
   ]
  },
  {
   "cell_type": "code",
   "execution_count": 38,
   "metadata": {},
   "outputs": [
    {
     "name": "stdout",
     "output_type": "stream",
     "text": [
      "{'0389': 0.6208100558659218, '41401': 0.5894621295279913, '41071': 0.3774193548387097, '42789': 0.39436619718309857, '41041': 0.18681318681318682, '3453': 0.3275862068965517, '99674': 0.2876712328767123, '99604': 0.5833333333333334, '2252': 0.2, '9678': 0.2857142857142857}\n"
     ]
    }
   ],
   "source": [
    "one_in_ten = {}\n",
    "for each_key in return_acc_one[1]:\n",
    "    if each_key in o: \n",
    "        one_in_ten[each_key] = return_acc_one[1][each_key]\n",
    "print(one_in_ten)"
   ]
  },
  {
   "cell_type": "code",
   "execution_count": 39,
   "metadata": {},
   "outputs": [
    {
     "name": "stdout",
     "output_type": "stream",
     "text": [
      "{'3485': 0.22115384615384615, '4928': 0.21739130434782608, '5849': 0.5679886685552408, '42822': 0.45652173913043476, '41401': 0.3569553805774278, '25011': 0.8666666666666667, '4280': 0.5100864553314121, '4111': 0.4222972972972973, '4271': 0.27380952380952384, '99811': 0.29577464788732394, '78559': 0.24096385542168675, '0389': 0.47580645161290325, '5722': 0.4411764705882353, '03810': 0.30434782608695654, '3453': 0.35294117647058826, '4160': 0.5806451612903226, '9693': 0.0, '20190': 0.75}\n"
     ]
    }
   ],
   "source": [
    "two_in_ten = {}\n",
    "for each_key in return_acc_two[1]:\n",
    "    if each_key in t: \n",
    "        two_in_ten[each_key] = return_acc_two[1][each_key]\n",
    "print(two_in_ten)"
   ]
  },
  {
   "cell_type": "code",
   "execution_count": 40,
   "metadata": {},
   "outputs": [
    {
     "name": "stdout",
     "output_type": "stream",
     "text": [
      "{'4280': 0.603448275862069, '4254': 0.5774647887323944, '5849': 0.5408525754884547, '41401': 0.33226837060702874, '496': 0.43902439024390244, '78039': 0.5300546448087432, '49390': 0.3939393939393939, '515': 0.45, '99592': 0.5478927203065134, '53081': 0.4423076923076923, '4111': 0.34579439252336447, '2867': 0.6363636363636364, '41511': 0.0, '4263': 0.0, 'E9502': 0.0}\n"
     ]
    }
   ],
   "source": [
    "three_in_ten = {}\n",
    "for each_key in return_acc_three[1]:\n",
    "    if each_key in th: \n",
    "        three_in_ten[each_key] = return_acc_three[1][each_key]\n",
    "print(three_in_ten)"
   ]
  },
  {
   "cell_type": "markdown",
   "metadata": {},
   "source": [
    "## Predicting First 3 Digits "
   ]
  },
  {
   "cell_type": "code",
   "execution_count": 21,
   "metadata": {},
   "outputs": [],
   "source": [
    "def forest_model(o_data, ts, icd9):\n",
    "\n",
    "    if icd9 == 1: \n",
    "        icd_col = 'FIRST_ICD9_DIAGNOSIS'\n",
    "    elif icd9 == 2: \n",
    "        icd_col = 'SECOND_ICD9_DIAGNOSIS'\n",
    "    elif icd9 == 3:  \n",
    "        icd_col = 'THIRD_ICD9_DIAGNOSIS'\n",
    "    elif icd9 == 4: \n",
    "        icd_col = 'FIRSTDIGITS'\n",
    "    else: \n",
    "        icd_col = 'ICD9_DIAGNOSIS'\n",
    "         \n",
    "    otrain,otest = train_test_split(o_data, test_size=ts)\n",
    "    rf_model = skens.RandomForestClassifier(n_estimators=10,oob_score=True, criterion='entropy')\n",
    "    rf_model.fit(otrain.ix[:,1:],otrain[icd_col])\n",
    "    predicted_labels = rf_model.predict(otest.ix[:,1:])\n",
    "    \n",
    "    otest['rf_predicted'] = predicted_labels\n",
    "    accuracy = accuracy_score(otest[icd_col], predicted_labels)\n",
    "    \n",
    "    return((accuracy, rf_model))"
   ]
  },
  {
   "cell_type": "code",
   "execution_count": 35,
   "metadata": {},
   "outputs": [
    {
     "data": {
      "text/plain": [
       "0.48445013318573354"
      ]
     },
     "execution_count": 35,
     "metadata": {},
     "output_type": "execute_result"
    }
   ],
   "source": [
    "testing1r = forest_model(icd_one, 0.3, 1)\n",
    "testing1r[0]"
   ]
  },
  {
   "cell_type": "code",
   "execution_count": 23,
   "metadata": {},
   "outputs": [
    {
     "data": {
      "text/plain": [
       "0.45229007633587787"
      ]
     },
     "execution_count": 23,
     "metadata": {},
     "output_type": "execute_result"
    }
   ],
   "source": [
    "testing2r = forest_model(icd_two, 0.3, 2)\n",
    "testing2r[0]"
   ]
  },
  {
   "cell_type": "code",
   "execution_count": 24,
   "metadata": {},
   "outputs": [
    {
     "data": {
      "text/plain": [
       "0.4474418929294339"
      ]
     },
     "execution_count": 24,
     "metadata": {},
     "output_type": "execute_result"
    }
   ],
   "source": [
    "testing3r = forest_model(icd_three, 0.3, 3)\n",
    "testing3r[0]"
   ]
  },
  {
   "cell_type": "code",
   "execution_count": 45,
   "metadata": {},
   "outputs": [],
   "source": [
    "icd_one['FIRSTDIGITS'] = icd_one['FIRST_ICD9_DIAGNOSIS'].str[:3]\n",
    "testing = forest_model(icd_one, 0.3, 4)"
   ]
  },
  {
   "cell_type": "code",
   "execution_count": 48,
   "metadata": {},
   "outputs": [],
   "source": [
    "#icd_one.head()"
   ]
  },
  {
   "cell_type": "code",
   "execution_count": 46,
   "metadata": {},
   "outputs": [
    {
     "data": {
      "text/plain": [
       "0.4792610786314733"
      ]
     },
     "execution_count": 46,
     "metadata": {},
     "output_type": "execute_result"
    }
   ],
   "source": [
    "testing[0]"
   ]
  },
  {
   "cell_type": "code",
   "execution_count": 50,
   "metadata": {},
   "outputs": [
    {
     "data": {
      "text/plain": [
       "<matplotlib.axes._subplots.AxesSubplot at 0x26880a23eb8>"
      ]
     },
     "execution_count": 50,
     "metadata": {},
     "output_type": "execute_result"
    },
    {
     "data": {
      "image/png": "[encoded data removed]",
      "text/plain": [
       "<Figure size 432x288 with 1 Axes>"
      ]
     },
     "metadata": {},
     "output_type": "display_data"
    }
   ],
   "source": [
    "fi = testing[1].feature_importances_\n",
    "\n",
    "#feat_importance = rf_model.feature_importances_\n",
    "pd.DataFrame({'Feature Importance':fi},\n",
    "            index=icd_one.columns[1:-1]).plot(kind='barh', color=\"gray\")"
   ]
  },
  {
   "cell_type": "code",
   "execution_count": 51,
   "metadata": {},
   "outputs": [],
   "source": [
    "icd_two['FIRSTDIGITS'] = icd_two['SECOND_ICD9_DIAGNOSIS'].str[:3]\n",
    "testing2 = forest_model(icd_two, 0.3, 4)"
   ]
  },
  {
   "cell_type": "code",
   "execution_count": 52,
   "metadata": {},
   "outputs": [
    {
     "data": {
      "text/plain": [
       "0.4371616932685635"
      ]
     },
     "execution_count": 52,
     "metadata": {},
     "output_type": "execute_result"
    }
   ],
   "source": [
    "testing2[0]"
   ]
  },
  {
   "cell_type": "code",
   "execution_count": 53,
   "metadata": {},
   "outputs": [
    {
     "data": {
      "text/plain": [
       "<matplotlib.axes._subplots.AxesSubplot at 0x2688004f470>"
      ]
     },
     "execution_count": 53,
     "metadata": {},
     "output_type": "execute_result"
    },
    {
     "data": {
      "image/png": "[encoded data removed]",
      "text/plain": [
       "<Figure size 432x288 with 1 Axes>"
      ]
     },
     "metadata": {},
     "output_type": "display_data"
    }
   ],
   "source": [
    "fi2 = testing2[1].feature_importances_\n",
    "\n",
    "#feat_importance = rf_model.feature_importances_\n",
    "pd.DataFrame({'Feature Importance':fi2},\n",
    "            index=icd_two.columns[1:-1]).plot(kind='barh', color=\"gray\")"
   ]
  },
  {
   "cell_type": "code",
   "execution_count": 54,
   "metadata": {},
   "outputs": [],
   "source": [
    "icd_three['FIRSTDIGITS'] = icd_three['THIRD_ICD9_DIAGNOSIS'].str[:3]\n",
    "testing3 = forest_model(icd_three, 0.3, 4)"
   ]
  },
  {
   "cell_type": "code",
   "execution_count": 55,
   "metadata": {},
   "outputs": [
    {
     "data": {
      "text/plain": [
       "0.46551964821665387"
      ]
     },
     "execution_count": 55,
     "metadata": {},
     "output_type": "execute_result"
    }
   ],
   "source": [
    "testing3[0]"
   ]
  },
  {
   "cell_type": "code",
   "execution_count": 56,
   "metadata": {},
   "outputs": [
    {
     "data": {
      "text/plain": [
       "<matplotlib.axes._subplots.AxesSubplot at 0x26881419dd8>"
      ]
     },
     "execution_count": 56,
     "metadata": {},
     "output_type": "execute_result"
    },
    {
     "data": {
      "image/png": "[encoded data removed]",
      "text/plain": [
       "<Figure size 432x288 with 1 Axes>"
      ]
     },
     "metadata": {},
     "output_type": "display_data"
    }
   ],
   "source": [
    "fi3 = testing3[1].feature_importances_\n",
    "\n",
    "#feat_importance = rf_model.feature_importances_\n",
    "pd.DataFrame({'Feature Importance':fi3},\n",
    "            index=icd_three.columns[1:-1]).plot(kind='barh', color=\"gray\")"
   ]
  },
  {
   "cell_type": "code",
   "execution_count": null,
   "metadata": {},
   "outputs": [],
   "source": []
  },
  {
   "cell_type": "markdown",
   "metadata": {},
   "source": [
    "## Predicting Knowing Other ICD9?"
   ]
  },
  {
   "cell_type": "markdown",
   "metadata": {},
   "source": [
    "## Matching ICD9 Code to Description"
   ]
  },
  {
   "cell_type": "code",
   "execution_count": 4,
   "metadata": {},
   "outputs": [],
   "source": [
    "desc = pd.read_csv('D_ICD_DIAGNOSES.csv')"
   ]
  },
  {
   "cell_type": "code",
   "execution_count": 5,
   "metadata": {},
   "outputs": [
    {
     "data": {
      "text/html": [
       "<div>\n",
       "<style scoped>\n",
       "    .dataframe tbody tr th:only-of-type {\n",
       "        vertical-align: middle;\n",
       "    }\n",
       "\n",
       "    .dataframe tbody tr th {\n",
       "        vertical-align: top;\n",
       "    }\n",
       "\n",
       "    .dataframe thead th {\n",
       "        text-align: right;\n",
       "    }\n",
       "</style>\n",
       "<table border=\"1\" class=\"dataframe\">\n",
       "  <thead>\n",
       "    <tr style=\"text-align: right;\">\n",
       "      <th></th>\n",
       "      <th>ROW_ID</th>\n",
       "      <th>ICD9_CODE</th>\n",
       "      <th>SHORT_TITLE</th>\n",
       "      <th>LONG_TITLE</th>\n",
       "    </tr>\n",
       "  </thead>\n",
       "  <tbody>\n",
       "    <tr>\n",
       "      <th>0</th>\n",
       "      <td>174</td>\n",
       "      <td>01166</td>\n",
       "      <td>TB pneumonia-oth test</td>\n",
       "      <td>Tuberculous pneumonia [any form], tubercle bac...</td>\n",
       "    </tr>\n",
       "    <tr>\n",
       "      <th>1</th>\n",
       "      <td>175</td>\n",
       "      <td>01170</td>\n",
       "      <td>TB pneumothorax-unspec</td>\n",
       "      <td>Tuberculous pneumothorax, unspecified</td>\n",
       "    </tr>\n",
       "    <tr>\n",
       "      <th>2</th>\n",
       "      <td>176</td>\n",
       "      <td>01171</td>\n",
       "      <td>TB pneumothorax-no exam</td>\n",
       "      <td>Tuberculous pneumothorax, bacteriological or h...</td>\n",
       "    </tr>\n",
       "    <tr>\n",
       "      <th>3</th>\n",
       "      <td>177</td>\n",
       "      <td>01172</td>\n",
       "      <td>TB pneumothorx-exam unkn</td>\n",
       "      <td>Tuberculous pneumothorax, bacteriological or h...</td>\n",
       "    </tr>\n",
       "    <tr>\n",
       "      <th>4</th>\n",
       "      <td>178</td>\n",
       "      <td>01173</td>\n",
       "      <td>TB pneumothorax-micro dx</td>\n",
       "      <td>Tuberculous pneumothorax, tubercle bacilli fou...</td>\n",
       "    </tr>\n",
       "  </tbody>\n",
       "</table>\n",
       "</div>"
      ],
      "text/plain": [
       "   ROW_ID ICD9_CODE               SHORT_TITLE  \\\n",
       "0     174     01166     TB pneumonia-oth test   \n",
       "1     175     01170    TB pneumothorax-unspec   \n",
       "2     176     01171   TB pneumothorax-no exam   \n",
       "3     177     01172  TB pneumothorx-exam unkn   \n",
       "4     178     01173  TB pneumothorax-micro dx   \n",
       "\n",
       "                                          LONG_TITLE  \n",
       "0  Tuberculous pneumonia [any form], tubercle bac...  \n",
       "1              Tuberculous pneumothorax, unspecified  \n",
       "2  Tuberculous pneumothorax, bacteriological or h...  \n",
       "3  Tuberculous pneumothorax, bacteriological or h...  \n",
       "4  Tuberculous pneumothorax, tubercle bacilli fou...  "
      ]
     },
     "execution_count": 5,
     "metadata": {},
     "output_type": "execute_result"
    }
   ],
   "source": [
    "desc.head()"
   ]
  },
  {
   "cell_type": "code",
   "execution_count": 20,
   "metadata": {},
   "outputs": [
    {
     "data": {
      "text/html": [
       "<div>\n",
       "<style scoped>\n",
       "    .dataframe tbody tr th:only-of-type {\n",
       "        vertical-align: middle;\n",
       "    }\n",
       "\n",
       "    .dataframe tbody tr th {\n",
       "        vertical-align: top;\n",
       "    }\n",
       "\n",
       "    .dataframe thead th {\n",
       "        text-align: right;\n",
       "    }\n",
       "</style>\n",
       "<table border=\"1\" class=\"dataframe\">\n",
       "  <thead>\n",
       "    <tr style=\"text-align: right;\">\n",
       "      <th></th>\n",
       "      <th>ROW_ID</th>\n",
       "      <th>ICD9_CODE</th>\n",
       "      <th>SHORT_TITLE</th>\n",
       "      <th>LONG_TITLE</th>\n",
       "    </tr>\n",
       "  </thead>\n",
       "  <tbody>\n",
       "  </tbody>\n",
       "</table>\n",
       "</div>"
      ],
      "text/plain": [
       "Empty DataFrame\n",
       "Columns: [ROW_ID, ICD9_CODE, SHORT_TITLE, LONG_TITLE]\n",
       "Index: []"
      ]
     },
     "execution_count": 20,
     "metadata": {},
     "output_type": "execute_result"
    }
   ],
   "source": [
    "desc[(desc.ICD9_CODE == '3488')]"
   ]
  },
  {
   "cell_type": "code",
   "execution_count": 4,
   "metadata": {},
   "outputs": [],
   "source": [
    "match1 = ['9678','9693','E9502','E9503','3488','29620','4019','2252','3485',\n",
    " '78039','4241','2720','2724','V4581','V4579','V1582','41041','41401','53081']"
   ]
  },
  {
   "cell_type": "code",
   "execution_count": 9,
   "metadata": {},
   "outputs": [
    {
     "name": "stdout",
     "output_type": "stream",
     "text": [
      "       ROW_ID ICD9_CODE               SHORT_TITLE  \\\n",
      "13908   11344      9678  Pois-sedative/hypnot NEC   \n",
      "\n",
      "                                       LONG_TITLE  \n",
      "13908  Poisoning by other sedatives and hypnotics  \n",
      "       ROW_ID ICD9_CODE               SHORT_TITLE  \\\n",
      "12784   11553      9693  Poison-antipsychotic NEC   \n",
      "\n",
      "                                              LONG_TITLE  \n",
      "12784  Poisoning by other antipsychotics, neuroleptic...  \n",
      "       ROW_ID ICD9_CODE            SHORT_TITLE  \\\n",
      "11218    9947     E9502  Poison-sedat/hypnotic   \n",
      "\n",
      "                                              LONG_TITLE  \n",
      "11218  Suicide and self-inflicted poisoning by other ...  \n",
      "       ROW_ID ICD9_CODE              SHORT_TITLE  \\\n",
      "11219    9948     E9503  Poison-psychotropic agt   \n",
      "\n",
      "                                              LONG_TITLE  \n",
      "11219  Suicide and self-inflicted poisoning by tranqu...  \n",
      "Empty DataFrame\n",
      "Columns: [ROW_ID, ICD9_CODE, SHORT_TITLE, LONG_TITLE]\n",
      "Index: []\n",
      "      ROW_ID ICD9_CODE               SHORT_TITLE  \\\n",
      "3336    3337     29620  Depress psychosis-unspec   \n",
      "\n",
      "                                             LONG_TITLE  \n",
      "3336  Major depressive affective disorder, single ep...  \n",
      "      ROW_ID ICD9_CODE       SHORT_TITLE                          LONG_TITLE\n",
      "4303    4304      4019  Hypertension NOS  Unspecified essential hypertension\n",
      "      ROW_ID ICD9_CODE              SHORT_TITLE  \\\n",
      "2779    2503      2252  Ben neo cerebr meninges   \n",
      "\n",
      "                                LONG_TITLE  \n",
      "2779  Benign neoplasm of cerebral meninges  \n",
      "      ROW_ID ICD9_CODE     SHORT_TITLE      LONG_TITLE\n",
      "2800    2801      3485  Cerebral edema  Cerebral edema\n",
      "      ROW_ID ICD9_CODE      SHORT_TITLE         LONG_TITLE\n",
      "8967    8968     78039  Convulsions NEC  Other convulsions\n",
      "      ROW_ID ICD9_CODE            SHORT_TITLE              LONG_TITLE\n",
      "4423    4424      4241  Aortic valve disorder  Aortic valve disorders\n",
      "      ROW_ID ICD9_CODE              SHORT_TITLE                 LONG_TITLE\n",
      "2386    2743      2720  Pure hypercholesterolem  Pure hypercholesterolemia\n",
      "      ROW_ID ICD9_CODE             SHORT_TITLE  \\\n",
      "2390    2747      2724  Hyperlipidemia NEC/NOS   \n",
      "\n",
      "                                LONG_TITLE  \n",
      "2390  Other and unspecified hyperlipidemia  \n",
      "      ROW_ID ICD9_CODE           SHORT_TITLE                   LONG_TITLE\n",
      "9732   10140     V4581  Aortocoronary bypass  Aortocoronary bypass status\n",
      "       ROW_ID ICD9_CODE               SHORT_TITLE  \\\n",
      "13637   10139     V4579  Acq absence of organ NEC   \n",
      "\n",
      "                            LONG_TITLE  \n",
      "13637  Other acquired absence of organ  \n",
      "       ROW_ID ICD9_CODE             SHORT_TITLE  \\\n",
      "13592   10094     V1582  History of tobacco use   \n",
      "\n",
      "                            LONG_TITLE  \n",
      "13592  Personal history of tobacco use  \n",
      "      ROW_ID ICD9_CODE              SHORT_TITLE  \\\n",
      "4347    4348     41041  AMI inferior wall, init   \n",
      "\n",
      "                                             LONG_TITLE  \n",
      "4347  Acute myocardial infarction of other inferior ...  \n",
      "      ROW_ID ICD9_CODE               SHORT_TITLE  \\\n",
      "4373    4374     41401  Crnry athrscl natve vssl   \n",
      "\n",
      "                                             LONG_TITLE  \n",
      "4373  Coronary atherosclerosis of native coronary ar...  \n",
      "      ROW_ID ICD9_CODE        SHORT_TITLE         LONG_TITLE\n",
      "6009    6013     53081  Esophageal reflux  Esophageal reflux\n"
     ]
    }
   ],
   "source": [
    "for each_code in match1: \n",
    "    print(desc[(desc['ICD9_CODE'] == each_code)])"
   ]
  },
  {
   "cell_type": "code",
   "execution_count": 6,
   "metadata": {},
   "outputs": [],
   "source": [
    "match2 = ['9678',\n",
    " '2252',\n",
    " '41041',\n",
    " '41071',\n",
    " '99604',\n",
    " '99674',\n",
    " '3453',\n",
    " '0389',\n",
    " '42789',\n",
    " '41401']"
   ]
  },
  {
   "cell_type": "code",
   "execution_count": 8,
   "metadata": {},
   "outputs": [
    {
     "name": "stdout",
     "output_type": "stream",
     "text": [
      "       ROW_ID ICD9_CODE               SHORT_TITLE  \\\n",
      "13908   11344      9678  Pois-sedative/hypnot NEC   \n",
      "\n",
      "                                       LONG_TITLE  \n",
      "13908  Poisoning by other sedatives and hypnotics  \n",
      "      ROW_ID ICD9_CODE              SHORT_TITLE  \\\n",
      "2779    2503      2252  Ben neo cerebr meninges   \n",
      "\n",
      "                                LONG_TITLE  \n",
      "2779  Benign neoplasm of cerebral meninges  \n",
      "      ROW_ID ICD9_CODE              SHORT_TITLE  \\\n",
      "4347    4348     41041  AMI inferior wall, init   \n",
      "\n",
      "                                             LONG_TITLE  \n",
      "4347  Acute myocardial infarction of other inferior ...  \n",
      "      ROW_ID ICD9_CODE               SHORT_TITLE  \\\n",
      "4356    4357     41071  Subendo infarct, initial   \n",
      "\n",
      "                                             LONG_TITLE  \n",
      "4356  Subendocardial infarction, initial episode of ...  \n",
      "       ROW_ID ICD9_CODE               SHORT_TITLE  \\\n",
      "10312   11411     99604  Mch cmp autm mplnt dfbrl   \n",
      "\n",
      "                                              LONG_TITLE  \n",
      "10312  Mechanical complication of automatic implantab...  \n",
      "       ROW_ID ICD9_CODE              SHORT_TITLE  \\\n",
      "14011   11633     99674  Comp-oth vasc dev/graft   \n",
      "\n",
      "                                              LONG_TITLE  \n",
      "14011  Other complications due to other vascular devi...  \n",
      "      ROW_ID ICD9_CODE       SHORT_TITLE        LONG_TITLE\n",
      "2838    2839      3453  Grand mal status  Grand mal status\n",
      "     ROW_ID ICD9_CODE     SHORT_TITLE              LONG_TITLE\n",
      "609     660      0389  Septicemia NOS  Unspecified septicemia\n",
      "      ROW_ID ICD9_CODE               SHORT_TITLE  \\\n",
      "4470    4471     42789  Cardiac dysrhythmias NEC   \n",
      "\n",
      "                                LONG_TITLE  \n",
      "4470  Other specified cardiac dysrhythmias  \n",
      "      ROW_ID ICD9_CODE               SHORT_TITLE  \\\n",
      "4373    4374     41401  Crnry athrscl natve vssl   \n",
      "\n",
      "                                             LONG_TITLE  \n",
      "4373  Coronary atherosclerosis of native coronary ar...  \n"
     ]
    }
   ],
   "source": [
    "for each_code in match2: \n",
    "    print(desc[(desc['ICD9_CODE'] == each_code)])"
   ]
  },
  {
   "cell_type": "code",
   "execution_count": 9,
   "metadata": {},
   "outputs": [],
   "source": [
    "match3 = ['9693',\n",
    " '3485',\n",
    " '41401',\n",
    " '25011',\n",
    " '4271',\n",
    " '4160',\n",
    " '20190',\n",
    " '4928',\n",
    " '4280',\n",
    " '42822',\n",
    " '4111',\n",
    " '99811',\n",
    " '0389',\n",
    " '5722',\n",
    " '03810',\n",
    " '78559',\n",
    " '3453',\n",
    " 'E9102',\n",
    " '5849']"
   ]
  },
  {
   "cell_type": "code",
   "execution_count": 10,
   "metadata": {},
   "outputs": [
    {
     "name": "stdout",
     "output_type": "stream",
     "text": [
      "       ROW_ID ICD9_CODE               SHORT_TITLE  \\\n",
      "12784   11553      9693  Poison-antipsychotic NEC   \n",
      "\n",
      "                                              LONG_TITLE  \n",
      "12784  Poisoning by other antipsychotics, neuroleptic...  \n",
      "      ROW_ID ICD9_CODE     SHORT_TITLE      LONG_TITLE\n",
      "2800    2801      3485  Cerebral edema  Cerebral edema\n",
      "      ROW_ID ICD9_CODE               SHORT_TITLE  \\\n",
      "4373    4374     41401  Crnry athrscl natve vssl   \n",
      "\n",
      "                                             LONG_TITLE  \n",
      "4373  Coronary atherosclerosis of native coronary ar...  \n",
      "      ROW_ID ICD9_CODE              SHORT_TITLE  \\\n",
      "1593    1596     25011  DMI keto nt st uncntrld   \n",
      "\n",
      "                                             LONG_TITLE  \n",
      "1593  Diabetes with ketoacidosis, type I [juvenile t...  \n",
      "      ROW_ID ICD9_CODE              SHORT_TITLE  \\\n",
      "4459    4460      4271  Parox ventric tachycard   \n",
      "\n",
      "                              LONG_TITLE  \n",
      "4459  Paroxysmal ventricular tachycardia  \n",
      "      ROW_ID ICD9_CODE             SHORT_TITLE                      LONG_TITLE\n",
      "4394    4395      4160  Prim pulm hypertension  Primary pulmonary hypertension\n",
      "      ROW_ID ICD9_CODE               SHORT_TITLE  \\\n",
      "1686    1689     20190  Hdgk dis unsp xtrndl org   \n",
      "\n",
      "                                             LONG_TITLE  \n",
      "1686  Hodgkin's disease, unspecified type, unspecifi...  \n",
      "      ROW_ID ICD9_CODE    SHORT_TITLE       LONG_TITLE\n",
      "5367    5096      4928  Emphysema NEC  Other emphysema\n",
      "      ROW_ID ICD9_CODE SHORT_TITLE                             LONG_TITLE\n",
      "4472    4473      4280     CHF NOS  Congestive heart failure, unspecified\n",
      "      ROW_ID ICD9_CODE               SHORT_TITLE  \\\n",
      "4476    4477     42822  Chr systolic hrt failure   \n",
      "\n",
      "                          LONG_TITLE  \n",
      "4476  Chronic systolic heart failure  \n",
      "      ROW_ID ICD9_CODE             SHORT_TITLE                      LONG_TITLE\n",
      "4365    4366      4111  Intermed coronary synd  Intermediate coronary syndrome\n",
      "       ROW_ID ICD9_CODE              SHORT_TITLE  \\\n",
      "11770   12386     99811  Hemorrhage complic proc   \n",
      "\n",
      "                                LONG_TITLE  \n",
      "11770  Hemorrhage complicating a procedure  \n",
      "     ROW_ID ICD9_CODE     SHORT_TITLE              LONG_TITLE\n",
      "609     660      0389  Septicemia NOS  Unspecified septicemia\n",
      "      ROW_ID ICD9_CODE             SHORT_TITLE              LONG_TITLE\n",
      "5808    5810      5722  Hepatic encephalopathy  Hepatic encephalopathy\n",
      "     ROW_ID ICD9_CODE               SHORT_TITLE  \\\n",
      "596     647     03810  Staphylcocc septicem NOS   \n",
      "\n",
      "                                 LONG_TITLE  \n",
      "596  Staphylococcal septicemia, unspecified  \n",
      "       ROW_ID ICD9_CODE           SHORT_TITLE  \\\n",
      "13143   12992     78559  Shock w/o trauma NEC   \n",
      "\n",
      "                                  LONG_TITLE  \n",
      "13143  Other shock without mention of trauma  \n",
      "      ROW_ID ICD9_CODE       SHORT_TITLE        LONG_TITLE\n",
      "2838    2839      3453  Grand mal status  Grand mal status\n",
      "       ROW_ID ICD9_CODE            SHORT_TITLE  \\\n",
      "10458   10749     E9102  Swimming accident NOS   \n",
      "\n",
      "                                              LONG_TITLE  \n",
      "10458  Accidental drowning and submersion while engag...  \n",
      "      ROW_ID ICD9_CODE               SHORT_TITLE  \\\n",
      "5906    5908      5849  Acute kidney failure NOS   \n",
      "\n",
      "                             LONG_TITLE  \n",
      "5906  Acute kidney failure, unspecified  \n"
     ]
    }
   ],
   "source": [
    "for each_code in match3: \n",
    "    print(desc[(desc['ICD9_CODE'] == each_code)])"
   ]
  },
  {
   "cell_type": "code",
   "execution_count": 11,
   "metadata": {},
   "outputs": [],
   "source": [
    "match4 = ['E9502',\n",
    " '78039',\n",
    " '53081',\n",
    " '41401',\n",
    " '4280',\n",
    " '4111',\n",
    " '515',\n",
    " '49390',\n",
    " '4254',\n",
    " '4263',\n",
    " '496',\n",
    " '41511',\n",
    " '99592',\n",
    " '2867',\n",
    " '5849']"
   ]
  },
  {
   "cell_type": "code",
   "execution_count": 12,
   "metadata": {},
   "outputs": [
    {
     "name": "stdout",
     "output_type": "stream",
     "text": [
      "       ROW_ID ICD9_CODE            SHORT_TITLE  \\\n",
      "11218    9947     E9502  Poison-sedat/hypnotic   \n",
      "\n",
      "                                              LONG_TITLE  \n",
      "11218  Suicide and self-inflicted poisoning by other ...  \n",
      "      ROW_ID ICD9_CODE      SHORT_TITLE         LONG_TITLE\n",
      "8967    8968     78039  Convulsions NEC  Other convulsions\n",
      "      ROW_ID ICD9_CODE        SHORT_TITLE         LONG_TITLE\n",
      "6009    6013     53081  Esophageal reflux  Esophageal reflux\n",
      "      ROW_ID ICD9_CODE               SHORT_TITLE  \\\n",
      "4373    4374     41401  Crnry athrscl natve vssl   \n",
      "\n",
      "                                             LONG_TITLE  \n",
      "4373  Coronary atherosclerosis of native coronary ar...  \n",
      "      ROW_ID ICD9_CODE SHORT_TITLE                             LONG_TITLE\n",
      "4472    4473      4280     CHF NOS  Congestive heart failure, unspecified\n",
      "      ROW_ID ICD9_CODE             SHORT_TITLE                      LONG_TITLE\n",
      "4365    4366      4111  Intermed coronary synd  Intermediate coronary syndrome\n",
      "      ROW_ID ICD9_CODE               SHORT_TITLE  \\\n",
      "5433    5162       515  Postinflam pulm fibrosis   \n",
      "\n",
      "                               LONG_TITLE  \n",
      "5433  Postinflammatory pulmonary fibrosis  \n",
      "      ROW_ID ICD9_CODE SHORT_TITLE                             LONG_TITLE\n",
      "5379    5108     49390  Asthma NOS  Asthma, unspecified type, unspecified\n",
      "      ROW_ID ICD9_CODE              SHORT_TITLE  \\\n",
      "4434    4435      4254  Prim cardiomyopathy NEC   \n",
      "\n",
      "                          LONG_TITLE  \n",
      "4434  Other primary cardiomyopathies  \n",
      "      ROW_ID ICD9_CODE        SHORT_TITLE                      LONG_TITLE\n",
      "4445    4446      4263  Left bb block NEC  Other left bundle branch block\n",
      "      ROW_ID ICD9_CODE              SHORT_TITLE  \\\n",
      "5394    5123       496  Chr airway obstruct NEC   \n",
      "\n",
      "                                             LONG_TITLE  \n",
      "5394  Chronic airway obstruction, not elsewhere clas...  \n",
      "      ROW_ID ICD9_CODE               SHORT_TITLE  \\\n",
      "4390    4391     41511  Iatrogen pulm emb/infarc   \n",
      "\n",
      "                                        LONG_TITLE  \n",
      "4390  Iatrogenic pulmonary embolism and infarction  \n",
      "       ROW_ID ICD9_CODE    SHORT_TITLE     LONG_TITLE\n",
      "10305   11404     99592  Severe sepsis  Severe sepsis\n",
      "      ROW_ID ICD9_CODE              SHORT_TITLE  \\\n",
      "3156    3157      2867  Acq coagul factor defic   \n",
      "\n",
      "                                  LONG_TITLE  \n",
      "3156  Acquired coagulation factor deficiency  \n",
      "      ROW_ID ICD9_CODE               SHORT_TITLE  \\\n",
      "5906    5908      5849  Acute kidney failure NOS   \n",
      "\n",
      "                             LONG_TITLE  \n",
      "5906  Acute kidney failure, unspecified  \n"
     ]
    }
   ],
   "source": [
    "for each_code in match4: \n",
    "    print(desc[(desc['ICD9_CODE'] == each_code)])"
   ]
  },
  {
   "cell_type": "code",
   "execution_count": null,
   "metadata": {},
   "outputs": [],
   "source": []
  }
 ],
 "metadata": {
  "kernelspec": {
   "display_name": "Python 3",
   "language": "python",
   "name": "python3"
  },
  "language_info": {
   "codemirror_mode": {
    "name": "ipython",
    "version": 3
   },
   "file_extension": ".py",
   "mimetype": "text/x-python",
   "name": "python",
   "nbconvert_exporter": "python",
   "pygments_lexer": "ipython3",
   "version": "3.6.5"
  }
 },
 "nbformat": 4,
 "nbformat_minor": 2
}
